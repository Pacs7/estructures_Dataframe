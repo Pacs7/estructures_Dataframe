{
 "cells": [
  {
   "cell_type": "markdown",
   "id": "5fde9a21",
   "metadata": {},
   "source": [
    "# Sprint 5\n",
    "## Tasca M5 T01\n",
    "\n",
    "## Exercici 1\n",
    "\n",
    "Descarrega el dataset adjunt de dades oficials de la UEFA i selecciona un atribut del conjunt de dades. Calcula el p-valor i digues si rebutja la hipòtesi nul·la agafant un alfa de 5%. "
   ]
  },
  {
   "cell_type": "code",
   "execution_count": 1,
   "id": "eb6175b4",
   "metadata": {},
   "outputs": [
    {
     "data": {
      "text/html": [
       "<div>\n",
       "<style scoped>\n",
       "    .dataframe tbody tr th:only-of-type {\n",
       "        vertical-align: middle;\n",
       "    }\n",
       "\n",
       "    .dataframe tbody tr th {\n",
       "        vertical-align: top;\n",
       "    }\n",
       "\n",
       "    .dataframe thead th {\n",
       "        text-align: right;\n",
       "    }\n",
       "</style>\n",
       "<table border=\"1\" class=\"dataframe\">\n",
       "  <thead>\n",
       "    <tr style=\"text-align: right;\">\n",
       "      <th></th>\n",
       "      <th>Rk</th>\n",
       "      <th>Squad</th>\n",
       "      <th>Country</th>\n",
       "      <th>LgRk</th>\n",
       "      <th>MP</th>\n",
       "      <th>W</th>\n",
       "      <th>D</th>\n",
       "      <th>L</th>\n",
       "      <th>GF</th>\n",
       "      <th>GA</th>\n",
       "      <th>...</th>\n",
       "      <th>Pts</th>\n",
       "      <th>Pts/G</th>\n",
       "      <th>xG</th>\n",
       "      <th>xGA</th>\n",
       "      <th>xGD</th>\n",
       "      <th>xGD/90</th>\n",
       "      <th>Last 5</th>\n",
       "      <th>Attendance</th>\n",
       "      <th>Top Team Scorer</th>\n",
       "      <th>Goalkeeper</th>\n",
       "    </tr>\n",
       "  </thead>\n",
       "  <tbody>\n",
       "    <tr>\n",
       "      <th>0</th>\n",
       "      <td>1</td>\n",
       "      <td>Manchester City</td>\n",
       "      <td>ENG</td>\n",
       "      <td>1</td>\n",
       "      <td>37</td>\n",
       "      <td>28</td>\n",
       "      <td>6</td>\n",
       "      <td>3</td>\n",
       "      <td>96</td>\n",
       "      <td>24</td>\n",
       "      <td>...</td>\n",
       "      <td>90</td>\n",
       "      <td>2.43</td>\n",
       "      <td>86.1</td>\n",
       "      <td>26.8</td>\n",
       "      <td>59.3</td>\n",
       "      <td>1.60</td>\n",
       "      <td>W W W W D</td>\n",
       "      <td>52739</td>\n",
       "      <td>Kevin De Bruyne - 15</td>\n",
       "      <td>Ederson</td>\n",
       "    </tr>\n",
       "    <tr>\n",
       "      <th>1</th>\n",
       "      <td>2</td>\n",
       "      <td>Liverpool</td>\n",
       "      <td>ENG</td>\n",
       "      <td>2</td>\n",
       "      <td>36</td>\n",
       "      <td>26</td>\n",
       "      <td>8</td>\n",
       "      <td>2</td>\n",
       "      <td>89</td>\n",
       "      <td>24</td>\n",
       "      <td>...</td>\n",
       "      <td>86</td>\n",
       "      <td>2.39</td>\n",
       "      <td>84.6</td>\n",
       "      <td>33.1</td>\n",
       "      <td>51.4</td>\n",
       "      <td>1.43</td>\n",
       "      <td>W W W D W</td>\n",
       "      <td>53367</td>\n",
       "      <td>Mohamed Salah - 22</td>\n",
       "      <td>Alisson</td>\n",
       "    </tr>\n",
       "    <tr>\n",
       "      <th>2</th>\n",
       "      <td>3</td>\n",
       "      <td>Real Madrid</td>\n",
       "      <td>ESP</td>\n",
       "      <td>1</td>\n",
       "      <td>37</td>\n",
       "      <td>26</td>\n",
       "      <td>7</td>\n",
       "      <td>4</td>\n",
       "      <td>80</td>\n",
       "      <td>31</td>\n",
       "      <td>...</td>\n",
       "      <td>85</td>\n",
       "      <td>2.30</td>\n",
       "      <td>73.0</td>\n",
       "      <td>45.8</td>\n",
       "      <td>27.2</td>\n",
       "      <td>0.73</td>\n",
       "      <td>W W L W D</td>\n",
       "      <td>40624</td>\n",
       "      <td>Karim Benzema - 27</td>\n",
       "      <td>Thibaut Courtois</td>\n",
       "    </tr>\n",
       "    <tr>\n",
       "      <th>3</th>\n",
       "      <td>4</td>\n",
       "      <td>Bayern Munich</td>\n",
       "      <td>GER</td>\n",
       "      <td>1</td>\n",
       "      <td>34</td>\n",
       "      <td>24</td>\n",
       "      <td>5</td>\n",
       "      <td>5</td>\n",
       "      <td>97</td>\n",
       "      <td>37</td>\n",
       "      <td>...</td>\n",
       "      <td>77</td>\n",
       "      <td>2.26</td>\n",
       "      <td>88.1</td>\n",
       "      <td>37.1</td>\n",
       "      <td>51.0</td>\n",
       "      <td>1.50</td>\n",
       "      <td>W W L D D</td>\n",
       "      <td>33176</td>\n",
       "      <td>Robert Lewandowski - 35</td>\n",
       "      <td>Manuel Neuer</td>\n",
       "    </tr>\n",
       "    <tr>\n",
       "      <th>4</th>\n",
       "      <td>5</td>\n",
       "      <td>Paris S-G</td>\n",
       "      <td>FRA</td>\n",
       "      <td>1</td>\n",
       "      <td>37</td>\n",
       "      <td>25</td>\n",
       "      <td>8</td>\n",
       "      <td>4</td>\n",
       "      <td>85</td>\n",
       "      <td>36</td>\n",
       "      <td>...</td>\n",
       "      <td>83</td>\n",
       "      <td>2.24</td>\n",
       "      <td>71.6</td>\n",
       "      <td>38.1</td>\n",
       "      <td>33.4</td>\n",
       "      <td>0.90</td>\n",
       "      <td>W D D D W</td>\n",
       "      <td>41188</td>\n",
       "      <td>Kylian Mbappé - 25</td>\n",
       "      <td>Keylor Navas</td>\n",
       "    </tr>\n",
       "  </tbody>\n",
       "</table>\n",
       "<p>5 rows × 21 columns</p>\n",
       "</div>"
      ],
      "text/plain": [
       "   Rk            Squad Country  LgRk  MP   W  D  L  GF  GA  ...  Pts  Pts/G  \\\n",
       "0   1  Manchester City     ENG     1  37  28  6  3  96  24  ...   90   2.43   \n",
       "1   2        Liverpool     ENG     2  36  26  8  2  89  24  ...   86   2.39   \n",
       "2   3      Real Madrid     ESP     1  37  26  7  4  80  31  ...   85   2.30   \n",
       "3   4    Bayern Munich     GER     1  34  24  5  5  97  37  ...   77   2.26   \n",
       "4   5        Paris S-G     FRA     1  37  25  8  4  85  36  ...   83   2.24   \n",
       "\n",
       "     xG   xGA   xGD  xGD/90     Last 5 Attendance          Top Team Scorer  \\\n",
       "0  86.1  26.8  59.3    1.60  W W W W D      52739     Kevin De Bruyne - 15   \n",
       "1  84.6  33.1  51.4    1.43  W W W D W      53367       Mohamed Salah - 22   \n",
       "2  73.0  45.8  27.2    0.73  W W L W D      40624       Karim Benzema - 27   \n",
       "3  88.1  37.1  51.0    1.50  W W L D D      33176  Robert Lewandowski - 35   \n",
       "4  71.6  38.1  33.4    0.90  W D D D W      41188       Kylian Mbappé - 25   \n",
       "\n",
       "         Goalkeeper  \n",
       "0           Ederson  \n",
       "1           Alisson  \n",
       "2  Thibaut Courtois  \n",
       "3      Manuel Neuer  \n",
       "4      Keylor Navas  \n",
       "\n",
       "[5 rows x 21 columns]"
      ]
     },
     "execution_count": 1,
     "metadata": {},
     "output_type": "execute_result"
    }
   ],
   "source": [
    "import numpy as np\n",
    "import pandas as pd\n",
    "import seaborn as sns\n",
    "import matplotlib.pyplot as plt\n",
    "\n",
    "df=pd.read_csv('Lligues europees UEFA.csv', sep=';',encoding='unicode-escape')\n",
    "df.head(5)"
   ]
  },
  {
   "cell_type": "markdown",
   "id": "1ba70ee2",
   "metadata": {},
   "source": [
    "### Hypothesis Testing\n",
    "\n",
    "- H0: La distribució de Punts dels 5 millors equips de les lligues corresponen a una distribució Gaussiana\n",
    "\n",
    "- H1: La distribució de Punts dels 5 millors equips de les lligues no corresponen a una distribució Gaussiana"
   ]
  },
  {
   "cell_type": "code",
   "execution_count": 2,
   "id": "9984ef08",
   "metadata": {},
   "outputs": [
    {
     "name": "stdout",
     "output_type": "stream",
     "text": [
      "stat=2.021, p=0.364\n",
      "\u001b[1mProbably Gaussian\u001b[0m\n",
      "\n",
      "\u001b[1mCannot reject null hypothesis\u001b[0m\n"
     ]
    }
   ],
   "source": [
    "from scipy.stats import normaltest\n",
    "alpha=0.05\n",
    "col='Pts'\n",
    "data = df[df['LgRk']<=5]\n",
    "stat, p = normaltest(data[col])\n",
    "\n",
    "print('stat=%.3f, p=%.3f' % (stat, p))\n",
    "if p > alpha:\n",
    "    print('\\033[1m'+'Probably Gaussian'+'\\033[0m')\n",
    "    print('\\n\\033[1m'+'Cannot reject null hypothesis''\\033[0m')\n",
    "else:\n",
    "    print('\\033[1m'+'Probably not Gaussian'+'\\033[0m')\n",
    "    print('\\n\\033[1m'+'Reject null hypothesis'+'\\033[0m')"
   ]
  },
  {
   "cell_type": "markdown",
   "id": "91ec73b8",
   "metadata": {},
   "source": [
    "- Veiem que no es pot rebutjar la hipòtesis nul·la i per tant la *distribució de punts* correspon a una Gaussiana."
   ]
  },
  {
   "cell_type": "markdown",
   "id": "f404c5c2",
   "metadata": {},
   "source": [
    "### Hypothesis Testing\n",
    "\n",
    "- H0: La distribució d'Assistents dels equips espanyols i anglesos és la mateixa\n",
    "\n",
    "- H1: La distribució d'Assistents dels equips espanyols i anglesos no és la mateixa"
   ]
  },
  {
   "cell_type": "code",
   "execution_count": 3,
   "id": "e0b248ef",
   "metadata": {
    "scrolled": true
   },
   "outputs": [
    {
     "name": "stdout",
     "output_type": "stream",
     "text": [
      "stat=-3.535, p=0.001\n",
      "\u001b[1mProbably different distributions\u001b[0m\n",
      "\n",
      "\u001b[1mReject null hypothesis\u001b[0m\n"
     ]
    }
   ],
   "source": [
    "from scipy.stats import ttest_ind\n",
    "\n",
    "data1 = df[df['Country']=='ESP']\n",
    "data2 = df[df['Country']=='ENG']\n",
    "col='Attendance'\n",
    "stat, p = ttest_ind(data1[col], data2[col])\n",
    "\n",
    "print('stat=%.3f, p=%.3f' % (stat, p))\n",
    "if p > alpha:\n",
    "    print('\\033[1m'+'Probably the same distribution'+'\\033[0m')\n",
    "    print('\\n\\033[1m'+'Cannot reject null hypothesis''\\033[0m')\n",
    "else:\n",
    "    print('\\033[1m'+'Probably different distributions'+'\\033[0m')\n",
    "    print('\\n\\033[1m'+'Reject null hypothesis'+'\\033[0m')"
   ]
  },
  {
   "cell_type": "markdown",
   "id": "bfefecb8",
   "metadata": {},
   "source": [
    "- Veiem que es rebutja la hipòtesis nul·la i per tant la *distribució del nombre d'assistents* de la lliga espanyola és la mateixa que la anglesa."
   ]
  },
  {
   "cell_type": "markdown",
   "id": "5099c859",
   "metadata": {},
   "source": [
    "### Hypothesis Testing\n",
    "\n",
    "- H0: La distribució d'Assistents dels equips espanyols i alemanys és la mateixa\n",
    "\n",
    "- H1: La distribució d'Assistents dels equips espanyols i alemanys no és la mateixa"
   ]
  },
  {
   "cell_type": "code",
   "execution_count": 4,
   "id": "776bdb3f",
   "metadata": {},
   "outputs": [
    {
     "name": "stdout",
     "output_type": "stream",
     "text": [
      "stat=0.498, p=0.622\n",
      "\u001b[1mProbably the same distribution\u001b[0m\n",
      "\n",
      "\u001b[1mCannot reject null hypothesis\u001b[0m\n"
     ]
    }
   ],
   "source": [
    "data1 = df[df['Country']=='ESP']\n",
    "data2 = df[df['Country']=='GER']\n",
    "col='Attendance'\n",
    "stat, p = ttest_ind(data1[col], data2[col])\n",
    "\n",
    "print('stat=%.3f, p=%.3f' % (stat, p))\n",
    "\n",
    "if p > alpha:\n",
    "    print('\\033[1m'+'Probably the same distribution'+'\\033[0m')\n",
    "    print('\\n\\033[1m'+'Cannot reject null hypothesis''\\033[0m')\n",
    "else:\n",
    "    print('\\033[1m'+'Probably different distributions'+'\\033[0m')\n",
    "    print('\\n\\033[1m'+'Reject null hypothesis'+'\\033[0m')"
   ]
  },
  {
   "cell_type": "markdown",
   "id": "06cdae9a",
   "metadata": {},
   "source": [
    "- Veiem que no es pot rebutjar la hipòtesis nul·la i per tant la *distribució del nombre d'assistents* de la lliga espanyola no és la mateixa que la alemana."
   ]
  },
  {
   "cell_type": "markdown",
   "id": "0d317ffa",
   "metadata": {},
   "source": [
    "## Exercici 2\n",
    "Amb el mateix dataset selecciona dos altres atributs del conjunt de dades. Calcula els p-valors i digues si rebutgen la hipòtesi nul·la agafant un alfa de 5%."
   ]
  },
  {
   "cell_type": "markdown",
   "id": "5d5b2b95",
   "metadata": {},
   "source": [
    "### Hypothesis Testing\n",
    "\n",
    "- H0: No hi ha correlació entre els gols esperats (xG) i els punts (Pts)\n",
    "\n",
    "- H1: Hi ha dependència entre els gols esperats (xG) i els punts (Pts)"
   ]
  },
  {
   "cell_type": "code",
   "execution_count": 5,
   "id": "2a51610d",
   "metadata": {},
   "outputs": [
    {
     "name": "stdout",
     "output_type": "stream",
     "text": [
      "Pearson correlation coefficient: 0.8481665702817157\n",
      "p-value: 3.0809793792070877e-28\n",
      "\n",
      "\u001b[1mReject null hypothesis\u001b[0m\n"
     ]
    }
   ],
   "source": [
    "from scipy.stats import pearsonr\n",
    "\n",
    "# calculate the correlation coefficient and p-value\n",
    "corr, p_value = pearsonr(df['xG'], df['Pts'])\n",
    "\n",
    "# print the results\n",
    "print('Pearson correlation coefficient:', corr)\n",
    "print('p-value:', p_value)\n",
    "\n",
    "# check if null hypothesis is rejected at alpha=0.05\n",
    "if p_value < alpha:\n",
    "    print('\\n\\033[1m'+'Reject null hypothesis'+'\\033[0m')\n",
    "else:\n",
    "    print('\\n\\033[1m'+'Cannot reject null hypothesis''\\033[0m')"
   ]
  },
  {
   "cell_type": "markdown",
   "id": "8f9f6ee2",
   "metadata": {},
   "source": [
    "- Veiem que es rebutja la hipòtesis nul·la i per tant hi ha una *relació* entre gols esperats i punts."
   ]
  },
  {
   "cell_type": "markdown",
   "id": "def0ee09",
   "metadata": {},
   "source": [
    "### Hypothesis Testing\n",
    "\n",
    "- H0: No hi ha una notable diferència entre gols marcats pels màxims golejadors de les lligues anglesa i espanyola\n",
    "\n",
    "- H1: Hi ha una notable diferència entre gols marcats pels màxims golejadors de les lligues anglesa i espanyola"
   ]
  },
  {
   "cell_type": "code",
   "execution_count": 8,
   "id": "2e4a81ef",
   "metadata": {},
   "outputs": [
    {
     "name": "stdout",
     "output_type": "stream",
     "text": [
      "t-value: -0.10072416522709038\n",
      "p-value: 0.9203085943952437\n",
      "\n",
      "\u001b[1mCannot reject null hypothesis\u001b[0m\n"
     ]
    }
   ],
   "source": [
    "def goals(ds):\n",
    "    goalst=[]\n",
    "    \n",
    "    for ii in ds:\n",
    "        goalst.append(ii.split(' - ')[1])\n",
    "    \n",
    "    goalst=pd.Series(goalst,dtype=int)\n",
    "    return goalst\n",
    "\n",
    "espg = df.loc[df['Country'] == 'ESP', 'Top Team Scorer']\n",
    "engg = df.loc[df['Country'] == 'ENG', 'Top Team Scorer']\n",
    "esp_goals= goals(espg)\n",
    "eng_goals= goals(engg)\n",
    "\n",
    "# perform the t-test\n",
    "t, p_value = ttest_ind(esp_goals, eng_goals, equal_var=False)\n",
    "\n",
    "# print the results\n",
    "print('t-value:', t)\n",
    "print('p-value:', p_value)\n",
    "\n",
    "# check if null hypothesis is rejected at alpha=0.05\n",
    "if p_value < alpha:\n",
    "    print('\\n\\033[1m'+'Reject null hypothesis'+'\\033[0m')\n",
    "else:\n",
    "    print('\\n\\033[1m'+'Cannot reject null hypothesis'+'\\033[0m')"
   ]
  },
  {
   "cell_type": "markdown",
   "id": "90aac823",
   "metadata": {},
   "source": [
    "- Veiem que no es pot rebutjar la hipòtesis nul·la i per tant els gols marcats pels màxims golejadors de la lliga espanyola i la anglesa són similars."
   ]
  },
  {
   "cell_type": "markdown",
   "id": "2f372c8f",
   "metadata": {},
   "source": [
    "## Exercici 3\n",
    "Continua amb el conjunt de dades adjunt i selecciona tres atributs del conjunt de dades. Calcula el p-valor i digues si rebutja la hipòtesi nul·la agafant un alfa de 5%."
   ]
  },
  {
   "cell_type": "markdown",
   "id": "0b693cfd",
   "metadata": {},
   "source": [
    "### Hypothesis Testing\n",
    "\n",
    "- H0: No hi ha una diferència significant en la mitja de gols a favor (GF) de les lligues anglesa, espanyola i alemana\n",
    "\n",
    "- H1: Hi ha una diferència significant en la mitja de gols a favor (GF) de les lligues anglesa, espanyola i alemana"
   ]
  },
  {
   "cell_type": "code",
   "execution_count": 7,
   "id": "d429aaa1",
   "metadata": {},
   "outputs": [
    {
     "name": "stdout",
     "output_type": "stream",
     "text": [
      "F-statistic: 0.70\n",
      "p-value: 0.4988\n",
      "\n",
      "\u001b[1mCannot reject null hypothesis\u001b[0m\n"
     ]
    }
   ],
   "source": [
    "from scipy.stats import f_oneway\n",
    "\n",
    "# select the data for the three leagues\n",
    "eng_data = df[df['Country'] == 'ENG']['GF']\n",
    "esp_data = df[df['Country'] == 'ESP']['GF']\n",
    "ger_data = df[df['Country'] == 'GER']['GF']\n",
    "\n",
    "# perform the one-way ANOVA test\n",
    "f_stat, p_value = f_oneway(eng_data, esp_data, ger_data)\n",
    "\n",
    "# print the results\n",
    "print(\"F-statistic: {:.2f}\".format(f_stat))\n",
    "print(\"p-value: {:.4f}\".format(p_value))\n",
    "\n",
    "# check if null hypothesis is rejected at alpha=0.05\n",
    "if p_value < alpha:\n",
    "    print('\\n\\033[1m'+'Reject null hypothesis'+'\\033[0m')\n",
    "else:\n",
    "    print('\\n\\033[1m'+'Cannot reject null hypothesis'+'\\033[0m')"
   ]
  },
  {
   "cell_type": "markdown",
   "id": "a5c924ca",
   "metadata": {},
   "source": [
    "- Veiem que no es pot rebutjar la hipòtesis nul·la i per tant la mitja de gols a favor de les lligues anglesa, espanyola i alemana es similar, no hi ha una notable diferència."
   ]
  }
 ],
 "metadata": {
  "kernelspec": {
   "display_name": "Python 3",
   "language": "python",
   "name": "python3"
  },
  "language_info": {
   "codemirror_mode": {
    "name": "ipython",
    "version": 3
   },
   "file_extension": ".py",
   "mimetype": "text/x-python",
   "name": "python",
   "nbconvert_exporter": "python",
   "pygments_lexer": "ipython3",
   "version": "3.8.8"
  }
 },
 "nbformat": 4,
 "nbformat_minor": 5
}
