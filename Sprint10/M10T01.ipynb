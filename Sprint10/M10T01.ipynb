{
 "cells": [
  {
   "cell_type": "markdown",
   "id": "ca5a041b",
   "metadata": {},
   "source": [
    "# Sprint 10\n",
    "## Tasca M10 T01"
   ]
  },
  {
   "cell_type": "code",
   "execution_count": 44,
   "id": "b47fab80",
   "metadata": {},
   "outputs": [
    {
     "name": "stderr",
     "output_type": "stream",
     "text": [
      "[WDM] - Downloading: 100%|██████████| 8.29M/8.29M [20:04<00:00, 7.22kB/s]\n"
     ]
    }
   ],
   "source": [
    "import numpy as np\n",
    "import pandas as pd\n",
    "\n",
    "import csv\n",
    "import requests\n",
    "from time import sleep\n",
    "\n",
    "# urllib\n",
    "# ==============================================================================\n",
    "from urllib.request import urlopen\n",
    "from urllib.error import HTTPError\n",
    "from urllib.error import URLError\n",
    "\n",
    "# BeautifulSoup\n",
    "# ==============================================================================\n",
    "from bs4 import BeautifulSoup\n",
    "\n",
    "# Sellenium\n",
    "# ==============================================================================\n",
    "from selenium import webdriver\n",
    "from webdriver_manager.chrome import ChromeDriverManager\n",
    "from selenium.webdriver.common.keys import Keys\n",
    "from selenium.webdriver.common.by import By\n",
    "from selenium.webdriver.chrome.options import Options"
   ]
  },
  {
   "cell_type": "markdown",
   "id": "5d7565be",
   "metadata": {},
   "source": [
    "## Exercici 1\n",
    "Realitza web scraping de dues de les tres pàgines web proposades utilitzant BeautifulSoup primer i Selenium després. \n",
    "\n",
    "- http://quotes.toscrape.com\n",
    "\n",
    "- https://www.bolsamadrid.es\n",
    "\n",
    "- www.wikipedia.es (fes alguna cerca primer i escrapeja algun contingut)"
   ]
  },
  {
   "cell_type": "markdown",
   "id": "7c10ab55",
   "metadata": {},
   "source": [
    "## BeautifulSoup"
   ]
  },
  {
   "cell_type": "code",
   "execution_count": 85,
   "id": "59712dfd",
   "metadata": {},
   "outputs": [],
   "source": [
    "urlo = 'https://www.bolsasymercados.es'\n",
    "path='/bme-exchange/es/Bolsa-Madrid'\n",
    "url=urlo+path"
   ]
  },
  {
   "cell_type": "code",
   "execution_count": 46,
   "id": "876a4007",
   "metadata": {},
   "outputs": [],
   "source": [
    "## Scraping page Handling HTTP exceptions\n",
    "\n",
    "def scrap_page(url):\n",
    "    try:\n",
    "    \n",
    "        html = requests.get(url)\n",
    "\n",
    "    except HTTPError as e:\n",
    "\n",
    "        print(e)\n",
    "\n",
    "    except URLError:\n",
    "\n",
    "        print(\"Server down or incorrect domain\")\n",
    "    \n",
    "    else:\n",
    "        soup = BeautifulSoup(html.content, 'html.parser')\n",
    "    \n",
    "        return soup"
   ]
  },
  {
   "cell_type": "code",
   "execution_count": 86,
   "id": "a4f9e55a",
   "metadata": {},
   "outputs": [],
   "source": [
    "soup = scrap_page(url)"
   ]
  },
  {
   "cell_type": "code",
   "execution_count": 87,
   "id": "c500f420",
   "metadata": {},
   "outputs": [
    {
     "data": {
      "text/plain": [
       "[<meta charset=\"utf-8\"/>,\n",
       " <meta content=\"IE=edge\" http-equiv=\"X-UA-Compatible\"/>,\n",
       " <meta content=\"width=device-width, initial-scale=1\" name=\"viewport\"/>,\n",
       " <meta content=\"text/html; charset=utf-8\" http-equiv=\"Content-Type\"/>,\n",
       " <meta content=\"La Bolsa de Madrid es una institución que canaliza el ahorro hacía la inversión productiva y facilita la movilidad de la riqueza en el desarrollo de España.\" id=\"Description\" name=\"description\"/>,\n",
       " <meta content=\"Copyright © BME 2023\" id=\"copyright\" name=\"copyright\"/>,\n",
       " <meta content=\"BME Exchange\" property=\"og:site_name\"/>,\n",
       " <meta content=\"es\" property=\"og:locale\"/>,\n",
       " <meta content=\"website\" property=\"og:type\"/>,\n",
       " <meta content=\"summary_large_image\" property=\"twitter:card\"/>,\n",
       " <meta content=\"@BolsaBME\" property=\"twitter:site\"/>,\n",
       " <meta content=\"Bolsa de Madrid | BME Exchange\" property=\"og:title\"/>,\n",
       " <meta content=\"Bolsa de Madrid | BME Exchange\" property=\"twitter:title\"/>,\n",
       " <meta content=\"La Bolsa de Madrid es una institución que canaliza el ahorro hacía la inversión productiva y facilita la movilidad de la riqueza en el desarrollo de España.\" property=\"og:description\"/>,\n",
       " <meta content=\"La Bolsa de Madrid es una institución que canaliza el ahorro hacía la inversión productiva y facilita la movilidad de la riqueza en el desarrollo de España.\" property=\"twitter:description\"/>,\n",
       " <meta content=\"https://www.bolsasymercados.es/bme-exchange/es/Bolsa-Madrid\" property=\"og:url\"/>,\n",
       " <meta content=\"https://www.bolsasymercados.es/bme-exchange/es/Bolsa-Madrid\" property=\"twitter:url\"/>,\n",
       " <meta content=\"https://www.bolsasymercados.es/bme-exchange/images/imgsSubidas/Webs_Bolsas/Bolsa-de-Madrid-BME.gif\" property=\"og:image\"/>,\n",
       " <meta content=\"https://www.bolsasymercados.es/bme-exchange/images/imgsSubidas/Webs_Bolsas/Bolsa-de-Madrid-BME.gif\" property=\"twitter:image\"/>,\n",
       " <link href=\"https://www.bolsasymercados.es/bme-exchange/es/Bolsa-Madrid\" id=\"CanonicalLink\" rel=\"canonical\"/>,\n",
       " <link href=\"https://www.bolsasymercados.es/bme-exchange/es/Bolsa-Madrid\" hreflang=\"es\" rel=\"alternate\"/>,\n",
       " <link href=\"/bme-exchange/en/Madrid-Stock-Exchange\" hreflang=\"en\" rel=\"alternate\"/>,\n",
       " <link href=\"//use.typekit.net/fag2lie.css\" rel=\"stylesheet\"/>,\n",
       " <script defer=\"\" src=\"/bme-exchange/js/Master?v=X6xj-2AlmMQtfRPQnNdB9dd66gbf1t3iVmzg-Ty14g01\"></script>,\n",
       " <link href=\"/bme-exchange/css/css?v=SemdazjV3SvQk8aAWz95nsG1XFDt_x1jK3Hvk9UF7YE1\" rel=\"stylesheet\"/>,\n",
       " <script charset=\"UTF-8\" data-document-language=\"true\" data-domain-script=\"848a4ce2-ee9d-424b-8508-fbc5b12c4591\" src=\"https://cdn.cookielaw.org/scripttemplates/otSDKStub.js\" type=\"text/javascript\"></script>,\n",
       " <script id=\"GTM\">(function(w,d,s,l,i){w[l]=[{'pageLanguage':'es','service':'bme-exchange','pagePurpose':'brand-recognition','target':'market-members,media,stake-holders,general-public-others','bussinessTopic':'listing,trading,market-prices,indices,education'}];const g=document.cookie.match(/_ga=(.+?);/);g&&w[l].push({gaClientId:g[1].split('.').slice(-2).join('.')});w[l].push({'gtm.start':new Date().getTime(),event:'gtm.js'});var f=d.getElementsByTagName(s)[0],j=d.createElement(s),dl=l!='dataLayer'?'&l='+l:'';j.async=true;j.src='https://www.googletagmanager.com/gtm.js?id='+i+dl+'';f.parentNode.insertBefore(j,f);})(window,document,'script','dataLayer','GTM-TJNWXNT');</script>,\n",
       " <title>\n",
       " \tBolsa de Madrid | BME Exchange\n",
       " </title>]"
      ]
     },
     "execution_count": 87,
     "metadata": {},
     "output_type": "execute_result"
    }
   ],
   "source": [
    "soup.head()"
   ]
  },
  {
   "cell_type": "code",
   "execution_count": 88,
   "id": "ec324404",
   "metadata": {},
   "outputs": [
    {
     "name": "stdout",
     "output_type": "stream",
     "text": [
      "<head data-app-path=\"/bme-exchange\" data-hora-act=\"Mon, 05 Jun 2023 12:35:07 GMT\" data-idioma=\"es\">\n",
      " <meta charset=\"utf-8\"/>\n",
      " <meta content=\"IE=edge\" http-equiv=\"X-UA-Compatible\"/>\n",
      " <meta content=\"width=device-width, initial-scale=1\" name=\"viewport\"/>\n",
      " <meta content=\"text/html; charset=utf-8\" http-equiv=\"Content-Type\"/>\n",
      " <meta content=\"La Bolsa de Madrid es una institución que canaliza el ahorro hacía la inversión productiva y facilita la movilidad de la riqueza en el desarrollo de España.\" id=\"Description\" name=\"description\"/>\n",
      " <meta content=\"Copyright © BME 2023\" id=\"copyright\" name=\"copyright\"/>\n",
      " <meta content=\"BME Exchange\" property=\"og:site_name\"/>\n",
      " <meta content=\"es\" property=\"og:locale\"/>\n",
      " <meta content=\"website\" property=\"og:type\"/>\n",
      " <meta content=\"summary_large_image\" property=\"twitter:card\"/>\n",
      " <meta content=\"@BolsaBME\" property=\"twitter:site\"/>\n",
      " <meta content=\"Bolsa de Madrid | BME Exchange\" property=\"og:title\"/>\n",
      " <meta content=\"Bolsa de Madrid | BME Exchange\" property=\"twitter:title\"/>\n",
      " <meta content=\"La Bolsa de Madrid es una institución que canaliza el ahorro hacía la inversión productiva y facilita la movilidad de la riqueza en el desarrollo de España.\" property=\"og:description\"/>\n",
      " <meta content=\"La Bolsa de Madrid es una institución que canaliza el ahorro hacía la inversión productiva y facilita la movilidad de la riqueza en el desarrollo de España.\" property=\"twitter:description\"/>\n",
      " <meta content=\"https://www.bolsasymercados.es/bme-exchange/es/Bolsa-Madrid\" property=\"og:url\"/>\n",
      " <meta content=\"https://www.bolsasymercados.es/bme-exchange/es/Bolsa-Madrid\" property=\"twitter:url\"/>\n",
      " <meta content=\"https://www.bolsasymercados.es/bme-exchange/images/imgsSubidas/Webs_Bolsas/Bolsa-de-Madrid-BME.gif\" property=\"og:image\"/>\n",
      " <meta content=\"https://www.bolsasymercados.es/bme-exchange/images/imgsSubidas/Webs_Bolsas/Bolsa-de-Madrid-BME.gif\" property=\"twitter:image\"/>\n",
      " <link href=\"https://www.bolsasymercados.es/bme-exchange/es/Bolsa-Madrid\" id=\"CanonicalLink\" rel=\"canonical\"/>\n",
      " <link href=\"https://www.bolsasymercados.es/bme-exchange/es/Bolsa-Madrid\" hreflang=\"es\" rel=\"alternate\"/>\n",
      " <link href=\"/bme-exchange/en/Madrid-Stock-Exchange\" hreflang=\"en\" rel=\"alternate\"/>\n",
      " <link href=\"//use.typekit.net/fag2lie.css\" rel=\"stylesheet\"/>\n",
      " <script defer=\"\" src=\"/bme-exchange/js/Master?v=X6xj-2AlmMQtfRPQnNdB9dd66gbf1t3iVmzg-Ty14g01\">\n",
      " </script>\n",
      " <link href=\"/bme-exchange/css/css?v=SemdazjV3SvQk8aAWz95nsG1XFDt_x1jK3Hvk9UF7YE1\" rel=\"stylesheet\"/>\n",
      " <!-- OneTrust -->\n",
      " <script charset=\"UTF-8\" data-document-language=\"true\" data-domain-script=\"848a4ce2-ee9d-424b-8508-fbc5b12c4591\" src=\"https://cdn.cookielaw.org/scripttemplates/otSDKStub.js\" type=\"text/javascript\">\n",
      " </script>\n",
      " <!-- End OneTrust -->\n",
      " <!-- Google Tag Manager -->\n",
      " <script id=\"GTM\">\n",
      "  (function(w,d,s,l,i){w[l]=[{'pageLanguage':'es','service':'bme-exchange','pagePurpose':'brand-recognition','target':'market-members,media,stake-holders,general-public-others','bussinessTopic':'listing,trading,market-prices,indices,education'}];const g=document.cookie.match(/_ga=(.+?);/);g&&w[l].push({gaClientId:g[1].split('.').slice(-2).join('.')});w[l].push({'gtm.start':new Date().getTime(),event:'gtm.js'});var f=d.getElementsByTagName(s)[0],j=d.createElement(s),dl=l!='dataLayer'?'&l='+l:'';j.async=true;j.src='https://www.googletagmanager.com/gtm.js?id='+i+dl+'';f.parentNode.insertBefore(j,f);})(window,document,'script','dataLayer','GTM-TJNWXNT');\n",
      " </script>\n",
      " <!-- End Google Tag Manager -->\n",
      " <title>\n",
      "  Bolsa de Madrid | BME Exchange\n",
      " </title>\n",
      "</head>\n",
      "\n"
     ]
    }
   ],
   "source": [
    "print(soup.head.prettify())"
   ]
  },
  {
   "cell_type": "code",
   "execution_count": 89,
   "id": "a6eb48d8",
   "metadata": {},
   "outputs": [
    {
     "data": {
      "text/plain": [
       "<title>\n",
       "\tBolsa de Madrid | BME Exchange\n",
       "</title>"
      ]
     },
     "execution_count": 89,
     "metadata": {},
     "output_type": "execute_result"
    }
   ],
   "source": [
    "soup.title"
   ]
  },
  {
   "cell_type": "code",
   "execution_count": 115,
   "id": "56b328e4",
   "metadata": {},
   "outputs": [
    {
     "name": "stdout",
     "output_type": "stream",
     "text": [
      "La Bolsa de Madrid fue creada en 1831, hace más de 190 años, lo que la convierte en una de las instituciones financieras más antiguas de España. A lo largo de su dilatada historia, la Bolsa de Madrid ha jugado un papel decisivo en la historia de España, sorteando largos ciclos industriales y económicos de auge con otros caracterizados por las crisis y las caídas, pero actuando siempre como un auténtico barómetro de la evolución económica de España. La Bolsa de Madrid ha jugado un rol crucial en el desarrollo de España y de su economía, ya que canaliza el ahorro hacia la inversión productiva y ayuda a la generación de riqueza. Como mercado secundario, la Bolsa ofrece a los inversores la oportunidad de convertir sus acciones en efectivo cuando lo deseen. La liquidez, como uno de los principales atributos de cualquier mercado, permite realizar cualquier operación con independencia de su carácter de corto, medio o largo plazo de la inversión y la Bolsa de Madrid sigue manteniendo una fuerte cuota de mercado para los valores españoles.\n"
     ]
    }
   ],
   "source": [
    "print(soup.p.get_text())"
   ]
  },
  {
   "cell_type": "code",
   "execution_count": 116,
   "id": "34346501",
   "metadata": {},
   "outputs": [
    {
     "data": {
      "text/plain": [
       "[<a class=\"\" href=\"/bme-exchange/es/Mercados-y-Cotizaciones/Estadisticas\" target=\"_self\">Estadísticas</a>,\n",
       " <a href=\"/bme-exchange/es/Mercados-y-Cotizaciones/Estadisticas\" target=\"_self\">Estadísticas</a>]"
      ]
     },
     "execution_count": 116,
     "metadata": {},
     "output_type": "execute_result"
    }
   ],
   "source": [
    "list(soup.find_all('a', string = 'Estadísticas'))"
   ]
  },
  {
   "cell_type": "code",
   "execution_count": 101,
   "id": "6af2bcc0",
   "metadata": {},
   "outputs": [
    {
     "data": {
      "text/plain": [
       "['/bme-exchange/es/Mercados-y-Cotizaciones/Estadisticas',\n",
       " '/bme-exchange/es/Mercados-y-Cotizaciones/Estadisticas']"
      ]
     },
     "execution_count": 101,
     "metadata": {},
     "output_type": "execute_result"
    }
   ],
   "source": [
    "# search related links \n",
    "\n",
    "links = []\n",
    "\n",
    "for link in soup.find_all('a', string= 'Estadísticas'):\n",
    "    \n",
    "    links.append(link.get('href'))\n",
    "    \n",
    "links"
   ]
  },
  {
   "cell_type": "code",
   "execution_count": 102,
   "id": "9b546871",
   "metadata": {},
   "outputs": [
    {
     "data": {
      "text/plain": [
       "'https://www.bolsasymercados.es/bme-exchange/es/Mercados-y-Cotizaciones/Estadisticas'"
      ]
     },
     "execution_count": 102,
     "metadata": {},
     "output_type": "execute_result"
    }
   ],
   "source": [
    "scrap_url = urlo + links[0]\n",
    "\n",
    "scrap_url"
   ]
  },
  {
   "cell_type": "code",
   "execution_count": 104,
   "id": "b2e75141",
   "metadata": {},
   "outputs": [],
   "source": [
    "soup2 = scrap_page(scrap_url)"
   ]
  },
  {
   "cell_type": "code",
   "execution_count": 105,
   "id": "2b5954bf",
   "metadata": {
    "scrolled": true
   },
   "outputs": [
    {
     "data": {
      "text/plain": [
       "'<!DOCTYPE html>\\n<html lang=\"es\">\\n <head data-app-path=\"/bme-exchange\" data-hora-act=\"Mon, 05 Jun 2023 16:10:52 GMT\" data-idioma=\"es\">\\n  <meta charset=\"utf-8\"/>\\n  <meta content=\"IE=edge\" http-equiv=\"X-UA-Compatible\"/>\\n  <meta content=\"width=device-width, initial-scale=1\" name=\"viewport\"/>\\n  <meta content=\"text/html; charset=utf-8\" http-equiv=\"Content-Type\"/>\\n  <meta content=\"Copyright © BME 2023\" id=\"copyright\" name=\"copyright\"/>\\n  <meta content=\"BME Exchange\" property=\"og:site_name\"/>\\n  <meta content=\"es\" property=\"og:locale\"/>\\n  <meta content=\"website\" property=\"og:type\"/>\\n  <meta content=\"summary_large_image\" property=\"twitter:card\"/>\\n  <meta content=\"@BolsaBME\" property=\"twitter:site\"/>\\n  <meta content=\"Estadísticas | BME Exchange\" property=\"og:title\"/>\\n  <meta content=\"Estadísticas | BME Exchange\" property=\"twitter:title\"/>\\n  <meta content=\"https://www.bolsasymercados.es/bme-exchange/es/Mercados-y-Cotizaciones/Estadisticas\" property=\"og:url\"/>\\n  <meta content=\"https://www.bolsasymercados.es/bme-exchange/es/Mercados-y-Cotizaciones/Estadisticas\" property=\"twitter:url\"/>\\n  <link href=\"https://www.bolsasymercados.es/bme-exchange/es/Mercados-y-Cotizaciones/Estadisticas\" id=\"CanonicalLink\" rel=\"canonical\"/>\\n  <link href=\"https://www.bolsasymercados.es/bme-exchange/es/Mercados-y-Cotizaciones/Estadisticas\" hreflang=\"es\" rel=\"alternate\"/>\\n  <link href=\"/bme-exchange/en/Prices-and-Markets/Statistics\" hreflang=\"en\" rel=\"alternate\"/>\\n  <link href=\"//use.typekit.net/fag2lie.css\" rel=\"stylesheet\"/>\\n  <script defer=\"\" src=\"/bme-exchange/js/Master?v=X6xj-2AlmMQtfRPQnNdB9dd66gbf1t3iVmzg-Ty14g01\">\\n  </script>\\n  <link href=\"/bme-exchange/css/css?v=SemdazjV3SvQk8aAWz95nsG1XFDt_x1jK3Hvk9UF7YE1\" rel=\"stylesheet\"/>\\n  <!-- OneTrust -->\\n  <script charset=\"UTF-8\" data-document-language=\"true\" data-domain-script=\"848a4ce2-ee9d-424b-8508-fbc5b12c4591\" src=\"https://cdn.cookielaw.org/scripttemplates/otSDKStub.js\" type=\"text/javascript\">\\n  </script>\\n  <!-- End OneTrust -->\\n  <!-- Google Tag Manager -->\\n  <script id=\"GTM\">\\n   (function(w,d,s,l,i){w[l]=[{\\'pageLanguage\\':\\'es\\',\\'service\\':\\'bme-exchange\\',\\'target\\':\\'institutional-investor,brokers-and-intermediaries,hedge-funds,market-members,retail,media,stake-holders,general-public-others\\',\\'bussinessTopic\\':\\'market-prices,indices,studies-and-research\\',\\'pagePurpose\\':\\'increase-awareness\\'}];const g=document.cookie.match(/_ga=(.+?);/);g&&w[l].push({gaClientId:g[1].split(\\'.\\').slice(-2).join(\\'.\\')});w[l].push({\\'gtm.start\\':new Date().getTime(),event:\\'gtm.js\\'});var f=d.getElementsByTagName(s)[0],j=d.createElement(s),dl=l!=\\'dataLayer\\'?\\'&l=\\'+l:\\'\\';j.async=true;j.src=\\'https://www.googletagmanager.com/gtm.js?id=\\'+i+dl+\\'\\';f.parentNode.insertBefore(j,f);})(window,document,\\'script\\',\\'dataLayer\\',\\'GTM-TJNWXNT\\');\\n  </script>\\n  <!-- End Google Tag Manager -->\\n  <title>\\n   Estadísticas | BME Exchange\\n  </title>\\n </head>\\n <body id=\"se_top\">\\n  <!-- Google Tag Manager (noscript) -->\\n  <noscript>\\n   <iframe height=\"0\" src=\"https://www.googletagmanager.com/ns.html?id=GTM-TJNWXNT\" style=\"display:none;visibility:hidden\" width=\"0\">\\n   </iframe>\\n  </noscript>\\n  <!-- End Google Tag Manager (noscript) -->\\n  <svg class=\"hidden\" xmlns=\"http://www.w3.org/2000/svg\">\\n   <symbol height=\"40\" id=\"cross-icon\" viewbox=\"0 0 40 40\" width=\"40\">\\n    <g transform=\"translate(11 11)\">\\n     <line class=\"a\" x1=\"18\" y2=\"18\">\\n     </line>\\n     <line class=\"a\" transform=\"translate(18 0) rotate(90)\" x1=\"18\" y2=\"18\">\\n     </line>\\n    </g>\\n    <g>\\n     <circle class=\"b\" cx=\"20\" cy=\"20\" r=\"18\">\\n     </circle>\\n    </g>\\n   </symbol>\\n   <symbol height=\"28\" id=\"search-icon\" viewbox=\"0 0 18.2 28\" width=\"18.2\">\\n    <g transform=\"translate(0 5)\">\\n     <circle class=\"c\" cx=\"8\" cy=\"8\" r=\"7.2\">\\n     </circle>\\n     <line class=\"c\" x1=\"13.8\" x2=\"16.5\" y1=\"13.8\" y2=\"16.5\">\\n     </line>\\n    </g>\\n   </symbol>\\n   <symbol height=\"28\" id=\"private-icon\" viewbox=\"0 0 15.3 28\" width=\"15.3\">\\n    <g transform=\"translate(0 5)\">\\n     <path class=\"c\" d=\"M1.3,9.2c0-0.8,0.7-1.5,1.5-1.5h10c0.8,0,1.5,0.7,1.5,1.5v6.4c0,0.8-0.7,1.5-1.5,1.5h-10 c-0.8,0-1.5-0.7-1.5-1.5V9.2z M3.3,6.3V4.4C3.3,2,5.3,0,7.7,0c2.4,0,4.4,2,4.4,4.4v1.9\">\\n     </path>\\n     <line class=\"c\" x1=\"7.7\" x2=\"7.7\" y1=\"10.2\" y2=\"15.1\">\\n     </line>\\n    </g>\\n   </symbol>\\n   <symbol height=\"28\" id=\"mail-icon\" viewbox=\"0 0 21 28\" width=\"21\">\\n    <g transform=\"translate(0 5)\">\\n     <rect class=\"c\" height=\"13.5\" width=\"19.5\" x=\"0.8\" y=\"2.8\">\\n     </rect>\\n     <path class=\"c\" d=\"M1.2,3l9.4,8.6l9.3-8.9L1.2,3z\">\\n     </path>\\n    </g>\\n   </symbol>\\n  </svg>\\n  <a href=\"#main-content\" id=\"skip-nav-link\" tabindex=\"1\">\\n   Saltar Navegación\\n  </a>\\n  <header id=\"Cabecera\">\\n   <nav aria-label=\"Navegación web corporativa\" class=\"hidden-print\" role=\"navigation\">\\n    <div class=\"corporate-web collapse\" id=\"corporate-web-menu\">\\n     <div class=\"container\">\\n      <div class=\"row\">\\n       <div>\\n        <a class=\"bme-brand\" href=\"/esp/Home\" tabindex=\"8\" target=\"_blank\" title=\"Web Corporativa BME\">\\n         <img alt=\"Logo BME\" aria-hidden=\"true\" src=\"/bme-exchange/images/base/Logo.svg\"/>\\n         <span class=\"corporate-web-btn\">\\n          Web Corporativa\\n          <span class=\"glyphicon glyphicon-menu-right\">\\n          </span>\\n         </span>\\n        </a>\\n        <ul class=\"nav navbar-nav bme-menu\">\\n         <li>\\n          <a href=\"/esp/Sobre-BME\" tabindex=\"9\" target=\"_blank\">\\n           Sobre\\n           <br/>\\n           BME\\n          </a>\\n         </li>\\n         <li>\\n          <a href=\"/esp/Informacion-Corporativa\" tabindex=\"10\" target=\"_blank\">\\n           Información\\n           <br/>\\n           Corporativa\\n          </a>\\n         </li>\\n         <li>\\n          <a href=\"/esp/Sala-Comunicacion\" tabindex=\"11\" target=\"_blank\">\\n           Sala de\\n           <br/>\\n           Comunicación\\n          </a>\\n         </li>\\n         <li>\\n          <a href=\"/esp/Estudios-Publicaciones\" tabindex=\"12\" target=\"_blank\">\\n           Publicaciones y\\n           <br/>\\n           Estadísticas\\n          </a>\\n         </li>\\n         <li>\\n          <a href=\"/esp/Sostenibilidad\" tabindex=\"13\" target=\"_blank\">\\n           Sostenibilidad\\n          </a>\\n         </li>\\n         <li>\\n          <a href=\"/esp/Formacion\" tabindex=\"14\" target=\"_blank\">\\n           Formación\\n           <br/>\\n           Instituto BME\\n          </a>\\n         </li>\\n        </ul>\\n        <a class=\"bme-close\" data-toggle=\"collapse\" href=\"#corporate-web-menu\" role=\"button\">\\n         <svg height=\"40\" viewbox=\"0 0 40 40\" width=\"40\">\\n          <use href=\"#cross-icon\" xlink:href=\"cross-icon\">\\n          </use>\\n         </svg>\\n         <span class=\"sr-only\">\\n          Cerrar\\n         </span>\\n        </a>\\n       </div>\\n       <div class=\"flecha-dropdown\">\\n        <div>\\n        </div>\\n        <div>\\n        </div>\\n       </div>\\n      </div>\\n     </div>\\n    </div>\\n   </nav>\\n   <nav aria-label=\"Navegación principal\" class=\"navbar\" id=\"menu-superior\" role=\"navigation\">\\n    <div class=\"container\">\\n     <div class=\"navbar-header\">\\n      <a class=\"navbar-brand\" href=\"/bme-exchange/es/Home\" tabindex=\"2\" target=\"_self\" title=\"BME Exchange\">\\n       <img alt=\"BME Logo\" aria-hidden=\"true\" src=\"/bme-exchange/images/base/Logo.svg\"/>\\n      </a>\\n      <strong class=\"navbar-claim\">\\n       La Bolsa es ahora BME Exchange\\n      </strong>\\n      <ul class=\"nav navbar-nav navbar-right icon-menu-superior hidden-print\" id=\"top-menu-movil\">\\n       <li class=\"btn-return\">\\n        <button id=\"btn-return-main\" role=\"button\" type=\"button\">\\n         Menú Principal\\n        </button>\\n       </li>\\n       <li class=\"btn-menu\">\\n        <button aria-expanded=\"false\" class=\"collapsed\" data-target=\"#navbar-menu\" data-toggle=\"collapse\" role=\"button\" type=\"button\">\\n         <span class=\"icon-bar\">\\n         </span>\\n         <span class=\"icon-bar\">\\n         </span>\\n         <span class=\"icon-bar\">\\n         </span>\\n        </button>\\n       </li>\\n       <li class=\"btn-icon dropdown\">\\n        <a data-toggle=\"dropdown\" href=\"#\" role=\"button\" tabindex=\"3\">\\n         <svg height=\"28\" viewbox=\"0 0 18.2 28\" width=\"18.2\">\\n          <use href=\"#search-icon\" xlink:href=\"search-icon\">\\n          </use>\\n         </svg>\\n         <span class=\"sr-only\">\\n          Buscador\\n         </span>\\n        </a>\\n        <div class=\"header-popover\" id=\"search\">\\n         <div class=\"header-popover-flecha\">\\n          <div>\\n          </div>\\n          <div>\\n          </div>\\n         </div>\\n         <div class=\"header-popover-title\">\\n          <svg height=\"28\" viewbox=\"0 0 18.2 28\" width=\"18.2\">\\n           <use href=\"#search-icon\" xlink:href=\"search-icon\">\\n           </use>\\n          </svg>\\n          <span>\\n           BUSCADOR\\n          </span>\\n         </div>\\n         <div class=\"header-popover-line\">\\n          <form action=\"/bme-exchange/es/Buscar\" aria-label=\"\" role=\"search\">\\n           <label for=\"search-text\">\\n            BUSCAR\\n           </label>\\n           <div class=\"form-group\">\\n            <input autocomplete=\"off\" class=\"form-control\" id=\"search-text\" name=\"q\" placeholder=\"Introducir texto a buscar\" type=\"text\"/>\\n            <button class=\"header-popover-btn\" type=\"submit\">\\n             <span>\\n              Buscar\\n             </span>\\n             <span class=\"glyphicon glyphicon-menu-right\">\\n             </span>\\n            </button>\\n           </div>\\n          </form>\\n         </div>\\n         <div class=\"header-popover-line\">\\n          <form action=\"/bme-exchange/es/Mercados-y-Cotizaciones/Acciones/Mercado-Continuo/Busqueda-Empresas\" aria-label=\"\" role=\"search\">\\n           <label for=\"search-company\">\\n            BUSCADOR DE EMPRESAS\\n           </label>\\n           <div class=\"form-group\">\\n            <input aria-label=\"Introducir nombre, ISIN o ticker a buscar\" autocomplete=\"off\" class=\"form-control\" data-apì=\"https://www.bolsasymercados.es/API/Market\" data-url=\"/bme-exchange/\" id=\"search-company\" name=\"q\" placeholder=\"Nombre / ISIN / Ticker\" type=\"text\"/>\\n            <button class=\"header-popover-btn\" type=\"submit\">\\n             <span>\\n              Buscar\\n             </span>\\n             <span class=\"glyphicon glyphicon-menu-right\">\\n             </span>\\n            </button>\\n           </div>\\n          </form>\\n         </div>\\n        </div>\\n       </li>\\n       <li class=\"btn-icon dropdown\">\\n        <a data-toggle=\"dropdown\" href=\"#\" role=\"button\" tabindex=\"4\">\\n         <svg height=\"28\" viewbox=\"0 0 15.3 28\" width=\"15.3\">\\n          <use href=\"#private-icon\" xlink:href=\"private-icon\">\\n          </use>\\n         </svg>\\n         <span class=\"sr-only\">\\n          Áreas Privadas\\n         </span>\\n        </a>\\n        <div class=\"header-popover\" id=\"private\">\\n         <div class=\"header-popover-flecha\">\\n          <div>\\n          </div>\\n          <div>\\n          </div>\\n         </div>\\n         <div class=\"header-popover-title\">\\n          <svg height=\"28\" viewbox=\"0 0 15.3 28\" width=\"15.3\">\\n           <use href=\"#private-icon\" xlink:href=\"private-icon\">\\n           </use>\\n          </svg>\\n          <span>\\n           ÁREAS PRIVADAS\\n          </span>\\n         </div>\\n         <div class=\"header-popover-line header-popover-login-line\">\\n          <label>\\n           MIEMBROS RENTA VARIABLE\\n          </label>\\n          <a class=\"header-popover-btn\" href=\"https://privada.bmerv.es/\" target=\"_blank\">\\n           Login\\n           <span class=\"glyphicon glyphicon-menu-right\">\\n           </span>\\n          </a>\\n         </div>\\n         <div class=\"header-popover-line header-popover-login-line\">\\n          <label>\\n           BME GROWTH\\n          </label>\\n          <a class=\"header-popover-btn\" href=\"https://www.bmegrowth.es/Privado/LogIn.aspx\" target=\"_blank\">\\n           Login\\n           <span class=\"glyphicon glyphicon-menu-right\">\\n           </span>\\n          </a>\\n         </div>\\n         <div class=\"header-popover-line header-popover-login-line\">\\n          <label>\\n           MIEMBROS RENTA FIJA\\n          </label>\\n          <a class=\"header-popover-btn\" href=\"https://ww2.aiaf.es/\" target=\"_blank\">\\n           Login\\n           <span class=\"glyphicon glyphicon-menu-right\">\\n           </span>\\n          </a>\\n         </div>\\n        </div>\\n       </li>\\n       <li class=\"btn-icon\">\\n        <a href=\"/bme-exchange/es/Contacto#Informacion-General\" tabindex=\"5\">\\n         <svg height=\"28\" viewbox=\"0 0 21 28\" width=\"21\">\\n          <use href=\"#mail-icon\" xlink:href=\"mail-icon\">\\n          </use>\\n         </svg>\\n         <span class=\"sr-only\">\\n          Contacto\\n         </span>\\n        </a>\\n       </li>\\n       <li class=\"btn-language\">\\n        <span aria-hidden=\"true\" class=\"language-anchor\">\\n         ES\\n        </span>\\n        <b class=\"language-anchor\">\\n         |\\n        </b>\\n        <a class=\"language-anchor\" href=\"/bme-exchange/en/Prices-and-Markets/Statistics\" hreflang=\"en\" tabindex=\"6\">\\n         <span aria-hidden=\"true\">\\n          <strong>\\n           EN\\n          </strong>\\n         </span>\\n         <span class=\"sr-only\">\\n          English\\n         </span>\\n        </a>\\n       </li>\\n       <li class=\"hidden-xs corporate-web-btn\">\\n        <a class=\"collapsed\" data-toggle=\"collapse\" href=\"#corporate-web-menu\" role=\"button\" tabindex=\"8\">\\n         <span>\\n          <img alt=\"Logo BME\" aria-hidden=\"true\" src=\"/bme-exchange/images/base/FlechaBME.svg\"/>\\n         </span>\\n         <span>\\n          BME\\n          <br/>\\n          CORPORATE\\n         </span>\\n        </a>\\n       </li>\\n       <li class=\"btn-menu-close\">\\n        <button id=\"close-menu\" role=\"button\" type=\"button\">\\n         <svg height=\"40\" viewbox=\"0 0 40 40\" width=\"40\">\\n          <use href=\"#cross-icon\" xlink:href=\"cross-icon\">\\n          </use>\\n         </svg>\\n         <span class=\"sr-only\">\\n          Cerrar\\n         </span>\\n        </button>\\n       </li>\\n      </ul>\\n     </div>\\n     <div class=\"navbar-header hidden-print\">\\n      <ul class=\"nav navbar-nav collapse navbar-collapse op-menu-superior yamm\" id=\"navbar-menu\">\\n       <li class=\"dropdown\">\\n        <a aria-expanded=\"false\" aria-haspopup=\"true\" class=\"dropdown-toggle\" data-toggle=\"dropdown\" href=\"/bme-exchange/es/Como-Cotizar\" role=\"button\">\\n         Cotizar\\n        </a>\\n        <div class=\"flecha-dropdown\">\\n         <div>\\n         </div>\\n         <div>\\n         </div>\\n        </div>\\n        <ul class=\"dropdown-menu\">\\n         <li class=\"container-fluid\">\\n          <div class=\"row\">\\n           <a class=\"col-sm-12 dropdown-overview\" href=\"/bme-exchange/es/Como-Cotizar\" target=\"_self\">\\n            <span class=\"menu-overview-title\">\\n             Cotizar\\n            </span>\\n            <span class=\"menu-overview-btn\">\\n             Descubre más\\n             <span class=\"glyphicon glyphicon-menu-right\">\\n             </span>\\n            </span>\\n            <span class=\"menu-overview-claim\">\\n             Financia tus ambiciones de crecimiento\\n            </span>\\n           </a>\\n          </div>\\n          <div class=\"row menu-options\">\\n           <div class=\"col-sm-2\">\\n            <ul class=\"menu-list\">\\n             <li>\\n              <a aria-expanded=\"false\" class=\"visible-xs-block collapsed\" data-toggle=\"collapse\" href=\"#menu24\">\\n               Acciones\\n              </a>\\n              <div class=\"collapse mobile-menu-2\" id=\"menu24\">\\n               <div class=\"btn-return-2lv\">\\n                <button data-target=\"#menu24\" data-toggle=\"collapse\" role=\"button\" type=\"button\">\\n                 Cotizar\\n                </button>\\n               </div>\\n               <a class=\"\" href=\"/bme-exchange/es/Como-Cotizar/Cotizar-en-Bolsa\" target=\"_self\">\\n                Acciones\\n               </a>\\n               <ul>\\n                <li>\\n                 <a class=\"\" href=\"/bme-exchange/es/Como-Cotizar/Bolsa/Como-salir-a-Bolsa\" target=\"_self\">\\n                  Cotizar en Bolsa\\n                 </a>\\n                </li>\\n                <li>\\n                 <a class=\"\" href=\"/bme-exchange/es/Como-Cotizar/Bolsa/BME-Growth\" target=\"_self\">\\n                  Cotizar en BME Growth\\n                 </a>\\n                </li>\\n                <li>\\n                 <a class=\"\" href=\"/bme-exchange/es/Como-Cotizar/Bolsa/Latibex\" target=\"_self\">\\n                  Cotizar en Latibex\\n                 </a>\\n                </li>\\n               </ul>\\n              </div>\\n             </li>\\n            </ul>\\n           </div>\\n           <div class=\"col-sm-2\">\\n            <ul class=\"menu-list\">\\n             <li>\\n              <a aria-expanded=\"false\" class=\"visible-xs-block collapsed\" data-toggle=\"collapse\" href=\"#menu28\">\\n               Renta Fija\\n              </a>\\n              <div class=\"collapse mobile-menu-2\" id=\"menu28\">\\n               <div class=\"btn-return-2lv\">\\n                <button data-target=\"#menu28\" data-toggle=\"collapse\" role=\"button\" type=\"button\">\\n                 Cotizar\\n                </button>\\n               </div>\\n               <a class=\"\" href=\"/bme-exchange/es/Como-Cotizar/Renta-Fija\" target=\"_self\">\\n                Renta Fija\\n               </a>\\n               <ul>\\n                <li>\\n                 <a class=\"\" href=\"/bme-exchange/es/Como-Cotizar/Renta-Fija/AIAF\" target=\"_self\">\\n                  Mercados Regulados - AIAF\\n                 </a>\\n                </li>\\n                <li>\\n                 <a class=\"\" href=\"/bme-exchange/es/Como-Cotizar/Renta-Fija/MARF\" target=\"_self\">\\n                  Mercado Alternativo - MARF\\n                 </a>\\n                </li>\\n               </ul>\\n              </div>\\n             </li>\\n            </ul>\\n           </div>\\n           <div class=\"col-sm-2\">\\n            <ul class=\"menu-list\">\\n             <li>\\n              <a class=\"\" href=\"/bme-exchange/es/Como-Cotizar/ETFs\" target=\"_self\">\\n               ETFs\\n              </a>\\n             </li>\\n            </ul>\\n           </div>\\n           <div class=\"col-sm-2\">\\n            <ul class=\"menu-list\">\\n             <li>\\n              <a class=\"\" href=\"/bme-exchange/es/Como-Cotizar/Warrants\" target=\"_self\">\\n               Warrants\\n              </a>\\n             </li>\\n            </ul>\\n           </div>\\n           <div class=\"col-sm-2\">\\n            <ul class=\"menu-list\">\\n             <li>\\n              <a class=\"\" href=\"https://www.meff.es/esp/Sobre-Nosotros/Empresa-MEFF\" target=\"_blank\">\\n               Derivados\\n              </a>\\n             </li>\\n            </ul>\\n           </div>\\n           <div class=\"col-sm-2\">\\n            <ul class=\"menu-list\">\\n             <li>\\n              <a class=\"\" href=\"https://www.bolsasymercados.es/BME_4Companies/esp/Home\" target=\"_blank\">\\n               Servicios para Emisores\\n              </a>\\n             </li>\\n            </ul>\\n           </div>\\n          </div>\\n         </li>\\n        </ul>\\n       </li>\\n       <li class=\"dropdown\">\\n        <a aria-expanded=\"false\" aria-haspopup=\"true\" class=\"dropdown-toggle\" data-toggle=\"dropdown\" href=\"/bme-exchange/es/Negociar\" role=\"button\">\\n         Negociar\\n        </a>\\n        <div class=\"flecha-dropdown\">\\n         <div>\\n         </div>\\n         <div>\\n         </div>\\n        </div>\\n        <ul class=\"dropdown-menu\">\\n         <li class=\"container-fluid\">\\n          <div class=\"row\">\\n           <a class=\"col-sm-12 dropdown-overview\" href=\"/bme-exchange/es/Negociar\" target=\"_self\">\\n            <span class=\"menu-overview-title\">\\n             Negociar\\n            </span>\\n            <span class=\"menu-overview-btn\">\\n             Descubre más\\n             <span class=\"glyphicon glyphicon-menu-right\">\\n             </span>\\n            </span>\\n            <span class=\"menu-overview-claim\">\\n             Calidad de mercado en la que confiar\\n            </span>\\n           </a>\\n          </div>\\n          <div class=\"row menu-options\">\\n           <div class=\"col-sm-2\">\\n            <ul class=\"menu-list\">\\n             <li>\\n              <a aria-expanded=\"false\" class=\"visible-xs-block collapsed\" data-toggle=\"collapse\" href=\"#menu42\">\\n               Mercados\\n              </a>\\n              <div class=\"collapse mobile-menu-2\" id=\"menu42\">\\n               <div class=\"btn-return-2lv\">\\n                <button data-target=\"#menu42\" data-toggle=\"collapse\" role=\"button\" type=\"button\">\\n                 Negociar\\n                </button>\\n               </div>\\n               <a class=\"\" href=\"/bme-exchange/es/Negociar/Mercados\" target=\"_self\">\\n                Mercados\\n               </a>\\n               <ul>\\n                <li>\\n                 <a class=\"\" href=\"/bme-exchange/es/Negociar/Mercados/Renta-Variable\" target=\"_self\">\\n                  Acciones\\n                 </a>\\n                </li>\\n                <li>\\n                 <a class=\"\" href=\"/bme-exchange/es/Negociar/Mercados/Renta-Fija\" target=\"_self\">\\n                  Renta Fija\\n                 </a>\\n                </li>\\n                <li>\\n                 <a class=\"\" href=\"/bme-exchange/es/Negociar/Mercados/ETFs\" target=\"_self\">\\n                  ETFs\\n                 </a>\\n                </li>\\n                <li>\\n                 <a class=\"\" href=\"/bme-exchange/es/Negociar/Mercados/Warrants\" target=\"_self\">\\n                  Warrants\\n                 </a>\\n                </li>\\n                <li>\\n                 <a class=\"\" href=\"/bme-exchange/es/Negociar/Mercados/Derivados\" target=\"_self\">\\n                  Derivados\\n                 </a>\\n                </li>\\n               </ul>\\n              </div>\\n             </li>\\n            </ul>\\n           </div>\\n           <div class=\"col-sm-2\">\\n            <ul class=\"menu-list\">\\n             <li>\\n              <a aria-expanded=\"false\" class=\"visible-xs-block collapsed\" data-toggle=\"collapse\" href=\"#menu66\">\\n               Participantes de Mercado\\n              </a>\\n              <div class=\"collapse mobile-menu-2\" id=\"menu66\">\\n               <div class=\"btn-return-2lv\">\\n                <button data-target=\"#menu66\" data-toggle=\"collapse\" role=\"button\" type=\"button\">\\n                 Negociar\\n                </button>\\n               </div>\\n               <a class=\"\" href=\"/bme-exchange/es/Negociar/Participantes-y-Miembros-de-Mercado\" target=\"_self\">\\n                Participantes de Mercado\\n               </a>\\n               <ul>\\n                <li>\\n                 <a class=\"\" href=\"/bme-exchange/es/Negociar/Participantes/Listado-de-Participantes-y-Miembros-de-Mercado\" target=\"_self\">\\n                  Miembros\\n                 </a>\\n                </li>\\n                <li>\\n                 <a class=\"\" href=\"/bme-exchange/es/Negociar/Participantes/Servicios-para-Participantes\" target=\"_self\">\\n                  Servicios para Participantes\\n                 </a>\\n                </li>\\n               </ul>\\n              </div>\\n             </li>\\n            </ul>\\n           </div>\\n           <div class=\"col-sm-2\">\\n            <ul class=\"menu-list\">\\n             <li>\\n              <a aria-expanded=\"false\" class=\"visible-xs-block collapsed\" data-toggle=\"collapse\" href=\"#menu78\">\\n               Plataforma de Negociación\\n              </a>\\n              <div class=\"collapse mobile-menu-2\" id=\"menu78\">\\n               <div class=\"btn-return-2lv\">\\n                <button data-target=\"#menu78\" data-toggle=\"collapse\" role=\"button\" type=\"button\">\\n                 Negociar\\n                </button>\\n               </div>\\n               <a class=\"\" href=\"/bme-exchange/es/Negociar/Plataforma-de-Negociacion\" target=\"_self\">\\n                Plataforma de Negociación\\n               </a>\\n               <ul>\\n                <li>\\n                 <a class=\"\" href=\"/bme-exchange/es/Negociar/Plataforma-de-Negociacion/SIBE-SMART-Acciones\" target=\"_self\">\\n                  SIBE SMART (Acciones - Warrants - ETFs)\\n                 </a>\\n                </li>\\n                <li>\\n                 <a class=\"\" href=\"/bme-exchange/es/Negociar/Plataforma-de-Negociacion/SEND-SENAF\" target=\"_self\">\\n                  SEND - SENAF (Renta Fija)\\n                 </a>\\n                </li>\\n                <li>\\n                 <a class=\"\" href=\"https://www.meff.es/esp/Tecnologia/Formas-Conexion\" target=\"_blank\">\\n                  MEFF-SMART (Derivados)\\n                 </a>\\n                </li>\\n               </ul>\\n              </div>\\n             </li>\\n            </ul>\\n           </div>\\n          </div>\\n         </li>\\n        </ul>\\n       </li>\\n       <li class=\"dropdown\">\\n        <a aria-expanded=\"false\" aria-haspopup=\"true\" class=\"dropdown-toggle\" data-toggle=\"dropdown\" href=\"/bme-exchange/es/Indices\" role=\"button\">\\n         Índices\\n        </a>\\n        <div class=\"flecha-dropdown\">\\n         <div>\\n         </div>\\n         <div>\\n         </div>\\n        </div>\\n        <ul class=\"dropdown-menu\">\\n         <li class=\"container-fluid\">\\n          <div class=\"row\">\\n           <a class=\"col-sm-12 dropdown-overview\" href=\"/bme-exchange/es/Indices\" target=\"_self\">\\n            <span class=\"menu-overview-title\">\\n             Índices\\n            </span>\\n            <span class=\"menu-overview-btn\">\\n             Descubre más\\n             <span class=\"glyphicon glyphicon-menu-right\">\\n             </span>\\n            </span>\\n            <span class=\"menu-overview-claim\">\\n             Índices de BME. Las principales referencias de los mercados españoles\\n            </span>\\n           </a>\\n          </div>\\n          <div class=\"row menu-options\">\\n           <div class=\"col-sm-2\">\\n            <ul class=\"menu-list\">\\n             <li>\\n              <a class=\"\" href=\"/bme-exchange/es/Indices/Resumen\" target=\"_self\">\\n               Resumen de Índices\\n              </a>\\n             </li>\\n            </ul>\\n            <ul class=\"menu-list\">\\n             <li>\\n              <a class=\"\" href=\"/bme-exchange/es/Indices/Avisos\" target=\"_self\">\\n               Avisos\\n              </a>\\n             </li>\\n            </ul>\\n            <ul class=\"menu-list\">\\n             <li>\\n              <a class=\"\" href=\"/bme-exchange/es/Indices/Regulacion\" target=\"_self\">\\n               Regulación Índices\\n              </a>\\n             </li>\\n            </ul>\\n            <ul class=\"menu-list\">\\n             <li>\\n              <a class=\"\" href=\"/bme-exchange/es/Indices/Comite-Asesor-Tecnico/Comite-Asesor-Tecnico\" target=\"_self\">\\n               Comité Asesor Técnico\\n              </a>\\n             </li>\\n            </ul>\\n           </div>\\n           <div class=\"col-sm-2\">\\n            <ul class=\"menu-list\">\\n             <li>\\n              <a class=\"\" href=\"/bme-exchange/es/Indices/Ibex\" target=\"_self\">\\n               Índices IBEX\\n              </a>\\n             </li>\\n            </ul>\\n           </div>\\n           <div class=\"col-sm-2\">\\n            <ul class=\"menu-list\">\\n             <li>\\n              <a class=\"\" href=\"/bme-exchange/es/indices/ESG\" target=\"_self\">\\n               Índices ESG\\n              </a>\\n             </li>\\n            </ul>\\n           </div>\\n           <div class=\"col-sm-2\">\\n            <ul class=\"menu-list\">\\n             <li>\\n              <a class=\"\" href=\"/bme-exchange/es/Indices/Bolsas\" target=\"_self\">\\n               Índices Bolsas\\n              </a>\\n             </li>\\n            </ul>\\n           </div>\\n           <div class=\"col-sm-2\">\\n            <ul class=\"menu-list\">\\n             <li>\\n              <a class=\"\" href=\"/bme-exchange/es/Indices/Latibex\" target=\"_self\">\\n               Índices Latibex\\n              </a>\\n             </li>\\n            </ul>\\n           </div>\\n           <div class=\"col-sm-2\">\\n            <ul class=\"menu-list\">\\n             <li>\\n              <a class=\"\" href=\"/bme-exchange/es/Indices/Renta-Fija\" target=\"_self\">\\n               Índices Renta Fija\\n              </a>\\n             </li>\\n            </ul>\\n           </div>\\n          </div>\\n         </li>\\n        </ul>\\n       </li>\\n       <li class=\"dropdown\">\\n        <a aria-expanded=\"false\" aria-haspopup=\"true\" class=\"dropdown-toggle active\" data-toggle=\"dropdown\" href=\"/bme-exchange/es/Mercados-y-Cotizaciones\" role=\"button\">\\n         Mercados y Cotizaciones\\n        </a>\\n        <div class=\"flecha-dropdown\">\\n         <div>\\n         </div>\\n         <div>\\n         </div>\\n        </div>\\n        <ul class=\"dropdown-menu\">\\n         <li class=\"container-fluid\">\\n          <div class=\"row\">\\n           <a class=\"col-sm-12 dropdown-overview active\" href=\"/bme-exchange/es/Mercados-y-Cotizaciones\" target=\"_self\">\\n            <span class=\"menu-overview-title\">\\n             Mercados y Cotizaciones\\n            </span>\\n            <span class=\"menu-overview-btn\">\\n             Descubre más\\n             <span class=\"glyphicon glyphicon-menu-right\">\\n             </span>\\n            </span>\\n            <span class=\"menu-overview-claim\">\\n             La clave para el éxito de cualquier decisión de inversión\\n            </span>\\n           </a>\\n          </div>\\n          <div class=\"row menu-options\">\\n           <div class=\"col-sm-2\">\\n            <ul class=\"menu-list\">\\n             <li>\\n              <a aria-expanded=\"false\" class=\"visible-xs-block collapsed\" data-toggle=\"collapse\" href=\"#menu138\">\\n               Acciones\\n              </a>\\n              <div class=\"collapse mobile-menu-2\" id=\"menu138\">\\n               <div class=\"btn-return-2lv\">\\n                <button data-target=\"#menu138\" data-toggle=\"collapse\" role=\"button\" type=\"button\">\\n                 Mercados y Cotizaciones\\n                </button>\\n               </div>\\n               <a class=\"\" href=\"/bme-exchange/es/Mercados-y-Cotizaciones/Acciones/Mercado-Continuo/Precios/ibex-35-ES0SI0000005\" target=\"_self\">\\n                Acciones\\n               </a>\\n               <ul>\\n                <li>\\n                 <span>\\n                  Mercado Principal\\n                 </span>\\n                 <ul>\\n                  <li>\\n                   <a class=\"\" href=\"/bme-exchange/es/Mercados-y-Cotizaciones/Acciones/Mercado-Continuo/Precios/ibex-35-ES0SI0000005\" target=\"_self\">\\n                    Precios\\n                   </a>\\n                  </li>\\n                  <li>\\n                   <a class=\"\" href=\"/bme-exchange/es/Mercados-y-Cotizaciones/Acciones/Mercado-Continuo/Empresas-Cotizadas\" target=\"_self\">\\n                    Empresas Cotizadas\\n                   </a>\\n                  </li>\\n                  <li>\\n                   <a class=\"\" href=\"/bme-exchange/es/Mercados-y-Cotizaciones/Acciones/Mercado-Continuo/Ultima-Informacion-Privilegiada\" target=\"_self\">\\n                    Información Privilegiada/Otra información relevante\\n                   </a>\\n                  </li>\\n                  <li>\\n                   <a class=\"\" href=\"/bme-exchange/es/Mercados-y-Cotizaciones/Acciones/Mercado-Continuo/Operaciones-Financieras/Dividendos\" target=\"_self\">\\n                    Operaciones Financieras\\n                   </a>\\n                  </li>\\n                 </ul>\\n                </li>\\n                <li>\\n                 <a class=\"\" href=\"https://www.latibex.com/esp/Cotizaciones/Acciones\" target=\"_blank\">\\n                  Latibex\\n                 </a>\\n                </li>\\n                <li>\\n                 <a class=\"\" href=\"https://www.bmegrowth.es/esp/Precios.aspx\" target=\"_blank\">\\n                  BME Growth\\n                 </a>\\n                </li>\\n                <li>\\n                 <a class=\"\" href=\"https://www.bolsasymercados.es/MTF_Equity/esp/SICAV/Precios.aspx?mercado=ValorLiquidativo\" target=\"_blank\">\\n                  BME MTF Equity\\n                 </a>\\n                </li>\\n                <li>\\n                 <span>\\n                  Herramientas\\n                 </span>\\n                 <ul>\\n                  <li>\\n                   <a class=\"\" href=\"/bme-exchange/es/Mercados-y-Cotizaciones/Acciones/Analisis-y-Herramientas/Analisis-de-empresas/Lighthouse\" target=\"_self\">\\n                    Análisis Lighthouse Acciones\\n                   </a>\\n                  </li>\\n                  <li>\\n                   <a class=\"\" href=\"/bme-exchange/es/Mercados-y-Cotizaciones/Acciones/Analisis-y-Herramientas/Analisis-de-empresas/Morningstar/ibex-Medium\" target=\"_self\">\\n                    Analisis Morningstar Acciones\\n                   </a>\\n                  </li>\\n                  <li>\\n                   <a class=\"\" href=\"/bme-exchange/es/Negociar/Agenda\" target=\"_self\">\\n                    Agenda del Inversor\\n                   </a>\\n                  </li>\\n                  <li>\\n                   <a class=\"\" href=\"/bme-exchange/es/Mercados-y-Cotizaciones/Acciones/Analisis-y-Herramientas/Mi-Cartera\" target=\"_self\">\\n                    Mi Cartera\\n                   </a>\\n                  </li>\\n                 </ul>\\n                </li>\\n               </ul>\\n              </div>\\n             </li>\\n            </ul>\\n           </div>\\n           <div class=\"col-sm-2\">\\n            <ul class=\"menu-list\">\\n             <li>\\n              <a aria-expanded=\"false\" class=\"visible-xs-block collapsed\" data-toggle=\"collapse\" href=\"#menu209\">\\n               Renta Fija\\n              </a>\\n              <div class=\"collapse mobile-menu-2\" id=\"menu209\">\\n               <div class=\"btn-return-2lv\">\\n                <button data-target=\"#menu209\" data-toggle=\"collapse\" role=\"button\" type=\"button\">\\n                 Mercados y Cotizaciones\\n                </button>\\n               </div>\\n               <a class=\"\" href=\"/bme-exchange/es/Mercados-y-Cotizaciones/Renta-Fija/Precios/AIAF-SEND-Deuda-Publica\" target=\"_self\">\\n                Renta Fija\\n               </a>\\n               <ul>\\n                <li>\\n                 <a class=\"\" href=\"/bme-exchange/es/Mercados-y-Cotizaciones/Renta-Fija/Precios/AIAF-SEND-Deuda-Publica\" target=\"_self\">\\n                  Precios\\n                 </a>\\n                </li>\\n                <li>\\n                 <a class=\"\" href=\"/bme-exchange/es/Mercados-y-Cotizaciones/Renta-Fija/Emisiones-En-Circulacion\" target=\"_self\">\\n                  Emisiones en circulación\\n                 </a>\\n                </li>\\n                <li>\\n                 <a class=\"\" href=\"/bme-exchange/es/Mercados-y-Cotizaciones/Renta-Fija/Listado-de-Emisores\" target=\"_self\">\\n                  Emisores\\n                 </a>\\n                </li>\\n                <li>\\n                 <a class=\"\" href=\"/bme-exchange/es/Mercados-y-Cotizaciones/Renta-Fija/Admision-a-Cotizar/Ultimos-Desembolsos\" target=\"_self\">\\n                  Admisiones a Cotización\\n                 </a>\\n                </li>\\n                <li>\\n                 <a class=\"\" href=\"/bme-exchange/es/Mercados-y-Cotizaciones/Renta-Fija/Anuncios\" target=\"_self\">\\n                  Anuncios emisiones\\n                 </a>\\n                </li>\\n                <li>\\n                 <a class=\"\" href=\"/bme-exchange/es/Mercados-y-Cotizaciones/Renta-Fija/Noticias\" target=\"_self\">\\n                  Noticias\\n                 </a>\\n                </li>\\n                <li>\\n                 <a class=\"\" href=\"/bme-exchange/es/Mercados-y-Cotizaciones/Renta-Fija/MARF-Hechos-Relevantes\" target=\"_self\">\\n                  MARF Hechos Relevantes\\n                 </a>\\n                </li>\\n                <li>\\n                 <a class=\"\" href=\"/bme-exchange/es/Mercados-y-Cotizaciones/Renta-Fija/MARF-Informacion-Financiera\" target=\"_self\">\\n                  MARF Información Financiera\\n                 </a>\\n                </li>\\n               </ul>\\n              </div>\\n             </li>\\n            </ul>\\n           </div>\\n           <div class=\"col-sm-2\">\\n            <ul class=\"menu-list\">\\n             <li>\\n              <a aria-expanded=\"false\" class=\"visible-xs-block collapsed\" data-toggle=\"collapse\" href=\"#menu241\">\\n               ETFs\\n              </a>\\n              <div class=\"collapse mobile-menu-2\" id=\"menu241\">\\n               <div class=\"btn-return-2lv\">\\n                <button data-target=\"#menu241\" data-toggle=\"collapse\" role=\"button\" type=\"button\">\\n                 Mercados y Cotizaciones\\n                </button>\\n               </div>\\n               <a class=\"\" href=\"/bme-exchange/es/Mercados-y-Cotizaciones/ETFs/Cotizaciones\" target=\"_self\">\\n                ETFs\\n               </a>\\n               <ul>\\n                <li>\\n                 <a class=\"\" href=\"/bme-exchange/es/Mercados-y-Cotizaciones/ETFs/Cotizaciones\" target=\"_self\">\\n                  Cotizaciones\\n                 </a>\\n                </li>\\n                <li>\\n                 <a class=\"\" href=\"/bme-exchange/es/Mercados-y-Cotizaciones/ETFs/Cierre-Mercado\" target=\"_self\">\\n                  Cierre de mercado\\n                 </a>\\n                </li>\\n                <li>\\n                 <a class=\"\" href=\"/bme-exchange/es/Mercados-y-Cotizaciones/ETFs/Dividendos\" target=\"_self\">\\n                  Dividendos\\n                 </a>\\n                </li>\\n                <li>\\n                 <a class=\"\" href=\"/bme-exchange/es/Mercados-y-Cotizaciones/ETFs/Hechos-Relevantes\" target=\"_self\">\\n                  Hechos Relevantes\\n                 </a>\\n                </li>\\n                <li>\\n                 <a class=\"\" href=\"/bme-exchange/es/Mercados-y-Cotizaciones/ETFs/Herramientas/Mi-Cartera-de-ETFs?m=ETF\" target=\"_self\">\\n                  Mi Cartera ETF\\n                 </a>\\n                </li>\\n               </ul>\\n              </div>\\n             </li>\\n            </ul>\\n           </div>\\n           <div class=\"col-sm-2\">\\n            <ul class=\"menu-list\">\\n             <li>\\n              <a aria-expanded=\"false\" class=\"visible-xs-block collapsed\" data-toggle=\"collapse\" href=\"#menu250\">\\n               Warrants\\n              </a>\\n              <div class=\"collapse mobile-menu-2\" id=\"menu250\">\\n               <div class=\"btn-return-2lv\">\\n                <button data-target=\"#menu250\" data-toggle=\"collapse\" role=\"button\" type=\"button\">\\n                 Mercados y Cotizaciones\\n                </button>\\n               </div>\\n               <a class=\"\" href=\"/bme-exchange/es/Mercados-y-Cotizaciones/Warrants/Precios/Warrants\" target=\"_self\">\\n                Warrants\\n               </a>\\n               <ul>\\n                <li>\\n                 <a class=\"\" href=\"/bme-exchange/es/Mercados-y-Cotizaciones/Warrants/Precios/Warrants\" target=\"_self\">\\n                  Cotizaciones\\n                 </a>\\n                </li>\\n                <li>\\n                 <a class=\"\" href=\"/bme-exchange/es/Mercados-y-Cotizaciones/Warrants/Informes\" target=\"_self\">\\n                  Informes\\n                 </a>\\n                </li>\\n                <li>\\n                 <a class=\"\" href=\"/bme-exchange/es/Mercados-y-Cotizaciones/Warrants/Listado-de-valores\" target=\"_self\">\\n                  Listado de valores\\n                 </a>\\n                </li>\\n                <li>\\n                 <a class=\"\" href=\"/bme-exchange/es/Mercados-y-Cotizaciones/Warrants/Ajustes-Operaciones-Financieras\" target=\"_self\">\\n                  Ajustes por Operaciones Financieras\\n                 </a>\\n                </li>\\n                <li>\\n                 <a class=\"\" href=\"/bme-exchange/es/Mercados-y-Cotizaciones/Warrants/Admisiones\" target=\"_self\">\\n                  Admisiones\\n                 </a>\\n                </li>\\n               </ul>\\n              </div>\\n             </li>\\n            </ul>\\n           </div>\\n           <div class=\"col-sm-2\">\\n            <ul class=\"menu-list\">\\n             <li>\\n              <a class=\"\" href=\"https://www.meff.es/esp/Derivados-Financieros/Cotizaciones\" target=\"_blank\">\\n               Derivados\\n              </a>\\n             </li>\\n            </ul>\\n           </div>\\n           <div class=\"col-sm-2\">\\n            <ul class=\"menu-list\">\\n             <li>\\n              <a class=\"active\" href=\"/bme-exchange/es/Mercados-y-Cotizaciones/Estadisticas\" target=\"_self\">\\n               Estadísticas\\n              </a>\\n             </li>\\n            </ul>\\n            <ul class=\"menu-list\">\\n             <li>\\n              <a class=\"\" href=\"https://www.bmemarketdata.es/esp/\" target=\"_blank\">\\n               Market Data\\n              </a>\\n             </li>\\n            </ul>\\n           </div>\\n          </div>\\n         </li>\\n        </ul>\\n       </li>\\n       <li>\\n        <a class=\"\" href=\"/bme-exchange/es/Regulacion/Buscador-Regulacion\" target=\"_self\">\\n         Regulación\\n        </a>\\n       </li>\\n       <li class=\"dropdown\">\\n        <a aria-expanded=\"false\" aria-haspopup=\"true\" class=\"dropdown-toggle\" data-toggle=\"dropdown\" href=\"/bme-exchange/es/Para-Inversores\" role=\"button\">\\n         Para inversores\\n        </a>\\n        <div class=\"flecha-dropdown\">\\n         <div>\\n         </div>\\n         <div>\\n         </div>\\n        </div>\\n        <ul class=\"dropdown-menu\">\\n         <li class=\"container-fluid\">\\n          <div class=\"row\">\\n           <a class=\"col-sm-12 dropdown-overview\" href=\"/bme-exchange/es/Para-Inversores\" target=\"_self\">\\n            <span class=\"menu-overview-title\">\\n             Para inversores\\n            </span>\\n            <span class=\"menu-overview-btn\">\\n             Descubre más\\n             <span class=\"glyphicon glyphicon-menu-right\">\\n             </span>\\n            </span>\\n            <span class=\"menu-overview-claim\">\\n             Tecnología e innovación al servicio de los inversores\\n            </span>\\n           </a>\\n          </div>\\n          <div class=\"row menu-options\">\\n           <div class=\"col-sm-2\">\\n            <ul class=\"menu-list\">\\n             <li>\\n              <a class=\"\" href=\"/bme-exchange/es/Para-Inversores/Institucionales\" target=\"_self\">\\n               Institucionales\\n              </a>\\n             </li>\\n            </ul>\\n           </div>\\n           <div class=\"col-sm-2\">\\n            <ul class=\"menu-list\">\\n             <li>\\n              <a class=\"\" href=\"/bme-exchange/es/Para-Inversores/Minoristas\" target=\"_self\">\\n               Minoristas\\n              </a>\\n             </li>\\n            </ul>\\n           </div>\\n          </div>\\n         </li>\\n        </ul>\\n       </li>\\n       <li>\\n        <a class=\"\" href=\"/bme-exchange/es/Formacion\" target=\"_self\">\\n         Formación\\n        </a>\\n       </li>\\n       <li class=\"bme-brand\">\\n        <a href=\"/esp/Home\" target=\"_blank\" title=\"Web Corporativa BME\">\\n         <img alt=\"Logo BME\" aria-hidden=\"true\" src=\"/bme-exchange/images/base/LogoBMEInv.svg\"/>\\n         <span class=\"corporate-web-btn\">\\n          Web Corporativa\\n          <span class=\"glyphicon glyphicon-menu-right\">\\n          </span>\\n         </span>\\n        </a>\\n       </li>\\n      </ul>\\n     </div>\\n    </div>\\n   </nav>\\n  </header>\\n  <div class=\"container\">\\n   <div class=\"row\">\\n    <div class=\"col-sm-12\">\\n     <ol class=\"breadcrumb hidden-print\" id=\"breadcrumbs\">\\n      <li>\\n       <a href=\"/bme-exchange/es/Home\" target=\"_self\">\\n        Home\\n       </a>\\n      </li>\\n      <li>\\n       <a href=\"/bme-exchange/es/Mercados-y-Cotizaciones\" target=\"_self\">\\n        Mercados y Cotizaciones\\n       </a>\\n      </li>\\n      <li>\\n       <a href=\"/bme-exchange/es/Mercados-y-Cotizaciones/Estadisticas\" target=\"_self\">\\n        Estadísticas\\n       </a>\\n      </li>\\n      <li class=\"active\">\\n       <a href=\"/bme-exchange/es/Mercados-y-Cotizaciones/Estadisticas\" target=\"_self\">\\n        Estadísticas\\n       </a>\\n      </li>\\n     </ol>\\n     <script type=\"application/ld+json\">\\n      {\"@context\": \"http://schema.org\",\"@type\": \"BreadcrumbList\",\"itemListElement\":[{\"@type\": \"ListItem\",\"position\": 1,\"item\":{\"@id\": \"https://www.bolsasymercados.es/bme-exchange/es/Home\",\"name\": \"Home\"}},{\"@type\": \"ListItem\",\"position\": 2,\"item\":{\"@id\": \"https://www.bolsasymercados.es/bme-exchange/es/Mercados-y-Cotizaciones\",\"name\": \"Mercados y Cotizaciones\"}},{\"@type\": \"ListItem\",\"position\": 3,\"item\":{\"@id\": \"https://www.bolsasymercados.es/bme-exchange/es/Mercados-y-Cotizaciones/Estadisticas\",\"name\": \"Estadísticas\"}},{\"@type\": \"ListItem\",\"position\": 4,\"item\":{\"@id\": \"https://www.bolsasymercados.es/bme-exchange/es/Mercados-y-Cotizaciones/Estadisticas\",\"name\": \"Estadísticas\"}}]}\\n     </script>\\n    </div>\\n   </div>\\n  </div>\\n  <div class=\"container\">\\n   <div class=\"row\">\\n    <div class=\"col-lg-8 col-md-9 col-sm-10\">\\n     <h1>\\n      Estadísticas\\n     </h1>\\n    </div>\\n   </div>\\n  </div>\\n  <div class=\"container\">\\n   <div class=\"row\">\\n    <div class=\"col-sm-12\">\\n     <nav class=\"tabs page-main-tabs\" id=\"menuTabs266\">\\n      <button class=\"btn-tab-left\">\\n       <span>\\n       </span>\\n       <span>\\n       </span>\\n       <span>\\n       </span>\\n      </button>\\n      <ul>\\n       <li>\\n        <a class=\"active\" data-menu=\"m267\" href=\"/bme-exchange/es/Mercados-y-Cotizaciones/Estadisticas\" target=\"_self\" title=\"Estadísticas\">\\n         Estadísticas\\n        </a>\\n       </li>\\n       <li>\\n        <a class=\"\" data-menu=\"m268\" href=\"/bme-exchange/es/Mercados-y-Cotizaciones/Estadisticas/Boletines-Informes\" target=\"_self\" title=\"Boletines e Informes de Mercado\">\\n         Boletines e Informes de Mercado\\n        </a>\\n       </li>\\n      </ul>\\n      <button class=\"btn-tab-right\">\\n       <span>\\n       </span>\\n       <span>\\n       </span>\\n       <span>\\n       </span>\\n      </button>\\n     </nav>\\n     <h2>\\n      Estadísticas\\n     </h2>\\n    </div>\\n   </div>\\n  </div>\\n  <div class=\"Contenido\">\\n  </div>\\n  <main class=\"Contenido below-tabs\" id=\"main-content\">\\n   <section class=\"overview section-tabs Accordion\">\\n    <div class=\"container\">\\n     <div class=\"row\">\\n      <div class=\"col-sm-12\">\\n       <div aria-multiselectable=\"true\" class=\"section-tabs-list\" id=\"Contenido_Modulos_Modulos_ListaModulos_ctl00_0_O_0_accordion\" role=\"tablist\">\\n        <div class=\"panel is-collapsed\">\\n         <div class=\"section-tabs-accordion-btn\" role=\"tab\">\\n          <a class=\"accordion-hash\" data-target=\"Contenido_Modulos_Modulos_ListaModulos_ctl00_0_O_0Tab1\" name=\"indices\">\\n          </a>\\n          <a aria-controls=\"Contenido_Modulos_Modulos_ListaModulos_ctl00_0_O_0Tab1\" aria-expanded=\"false\" data-parent=\"#Contenido_Modulos_Modulos_ListaModulos_ctl00_0_O_0_accordion\" data-toggle=\"collapse\" href=\"#Contenido_Modulos_Modulos_ListaModulos_ctl00_0_O_0Tab1\" role=\"tab\">\\n           Índices\\n          </a>\\n         </div>\\n         <div class=\"section-tabs-tab collapse\" id=\"Contenido_Modulos_Modulos_ListaModulos_ctl00_0_O_0Tab1\" role=\"tabpanel\">\\n          <p>\\n           <a class=\"xls\" href=\"https://www.bolsasymercados.es/esp/publicacion/revista/estadisticas/TABLA%2001-01%20(Gr%C3%A1f.%20IBEX%20mensual).xls\" name=\"estadisticas-indices\" target=\"_blank\">\\n            IBEX 35. Histórico mensual\\n           </a>\\n           <a class=\"xls\" href=\"https://www.bolsasymercados.es/esp/publicacion/revista/estadisticas/TABLA%2001-02%20(IBEX%20y%20volatilidad%20anual%20con%20y%20sin%20dividendos).xls\" target=\"_blank\">\\n            IBEX 35 con y sin dividendos: rentabilidad y volatilidad\\n            <br/>\\n           </a>\\n           <a class=\"xls\" href=\"https://www.bolsasymercados.es/esp/publicacion/revista/estadisticas/TABLA%2001-03%20(Principales%20%C3%ADndices%20Familia%20IBEX).xls\" target=\"_blank\">\\n            Principales índices de la familia IBEX\\n           </a>\\n           <a class=\"xls\" href=\"https://www.bolsasymercados.es/esp/publicacion/revista/estadisticas/TABLA%2001-04%20(Principales%20%C3%ADndices%20amplios%20Bolsas%20espa%C3%B1olas).xls\" target=\"_blank\">\\n            Principales índices amplios de las Bolsas españolas\\n            <br/>\\n           </a>\\n           <a class=\"xls\" href=\"https://www.bolsasymercados.es/esp/publicacion/revista/estadisticas/TABLA%2001-05%20(Evolucion%20de%20la%20cotizacion%20por%20sectores%20de%20actividad).xls\" target=\"_blank\">\\n            Índices bursátiles por sectores de actividad económica\\n           </a>\\n           <a class=\"xls\" href=\"https://www.bolsasymercados.es/esp/publicacion/revista/estadisticas/TABLA%2001-06%20(Principales%20Indices%20Bolsas%20mundiales).xls\" target=\"_blank\">\\n            Índices de las principales Bolsas mundiales\\n           </a>\\n           <a class=\"xls\" href=\"https://www.bolsasymercados.es/esp/publicacion/revista/estadisticas/TABLA%2001-07%20(Rentabilidad%20anual%20principales%20Bolsas%20del%20mundo).xls\" target=\"_blank\">\\n            Rentabilidad anual de las principales Bolsas del mundo (%)\\n           </a>\\n           <a class=\"xls\" href=\"https://www.bolsasymercados.es/esp/publicacion/revista/estadisticas/TABLA%2001-08%20(Volatilidad%20anual%20principales%20Bolsas%20del%20mundo).xls\" target=\"_blank\">\\n            Volatilidad anualizada de las principales Bolsas del mundo (%)\\n           </a>\\n           <a class=\"enlace\" href=\"https://www.bolsasymercados.es/esp/Sobre-BME/Historico/Indices\" target=\"_blank\">\\n            Datos históricos diarios de todos los índices de acciones BME (máximo 1 año)\\n           </a>\\n           <a class=\"enlace\" href=\"/bme-exchange/es/Indices/Resumen\" target=\"_blank\">\\n            Toda la información de índices de BME con precios de 1 año, composición histórica, ajustes y gráficos de 5 años\\n           </a>\\n          </p>\\n         </div>\\n        </div>\\n        <div class=\"panel is-collapsed\">\\n         <div class=\"section-tabs-accordion-btn\" role=\"tab\">\\n          <a class=\"accordion-hash\" data-target=\"Contenido_Modulos_Modulos_ListaModulos_ctl00_0_O_0Tab2\" name=\"acciones\">\\n          </a>\\n          <a aria-controls=\"Contenido_Modulos_Modulos_ListaModulos_ctl00_0_O_0Tab2\" aria-expanded=\"false\" data-parent=\"#Contenido_Modulos_Modulos_ListaModulos_ctl00_0_O_0_accordion\" data-toggle=\"collapse\" href=\"#Contenido_Modulos_Modulos_ListaModulos_ctl00_0_O_0Tab2\" role=\"tab\">\\n           Acciones\\n          </a>\\n         </div>\\n         <div class=\"section-tabs-tab collapse\" id=\"Contenido_Modulos_Modulos_ListaModulos_ctl00_0_O_0Tab2\" role=\"tabpanel\">\\n          <h4>\\n           1. Capitalización y negociación de acciones\\n          </h4>\\n          <p>\\n           <a class=\"xls\" href=\"/esp/publicacion/revista/estadisticas/TABLA%2002-01%20Capitalizacion%20total%20y%20sectorial%20de%20la%20Bolsa%20espa%C3%B1ola.xls\" target=\"_blank\">\\n            Capitalización total y sectorial de la Bolsa española\\n           </a>\\n           <a class=\"xls\" href=\"/esp/publicacion/revista/estadisticas/TABLA%2002-02%20Ranking%20sociedades%20SIBE%20por%20capitalizaci%C3%B3n%20y%20contrataci%C3%B3n.xls\" target=\"_blank\">\\n            Ranking por capitalización y contratación de las empresas cotizadas en SIBE\\n           </a>\\n           <a class=\"xls\" href=\"/esp/publicacion/revista/estadisticas/TABLA%2002-03%20(Volumen%20negociado%20en%20acciones%20en%20la%20Bolsa%20espa%C3%B1ola).xls\" target=\"_blank\">\\n            Volumen negociado en acciones: importe y número de operaciones\\n           </a>\\n          </p>\\n          <h4>\\n           2. Empresas cotizadas\\n          </h4>\\n          <p>\\n           <a class=\"xls\" href=\"/bme-exchange/docs/docsSubidos/Estadisticas/Acciones/Empresas-cotizadas/Historico-empresas-cotizadas.xlsx\" target=\"_blank\">\\n            Histórico de empresas cotizadas\\n           </a>\\n           <a class=\"xls\" href=\"/bme-exchange/docs/docsSubidos/Estadisticas/Acciones/Empresas-cotizadas/Procedencia-empresas-cotizadas.xlsx\" target=\"_blank\">\\n            Procedencia de empresas cotizadas\\n           </a>\\n           <a class=\"xls\" href=\"/esp/publicacion/revista/estadisticas/TABLA%2003-01%20(Evolucion%20n%C3%BAmero%20empresas%20cotizadas%20en%20la%20Bolsa%20espa%C3%B1ola).xls\" target=\"_blank\">\\n            Número de empresas cotizadas\\n           </a>\\n           <a class=\"xls\" href=\"/esp/publicacion/revista/estadisticas/TABLA%2003-02%20(Listado%20de%20nuevas%20admisiones%20a%20cotizacion).xls\" target=\"_blank\">\\n            Nuevas admisiones a cotización (2019)\\n            <br/>\\n           </a>\\n           <a class=\"enlace\" href=\"/bme-exchange/es/Mercados-y-Cotizaciones/Acciones/Mercado-Continuo/Empresas-Cotizadas\" target=\"_blank\">\\n            Listado alfabético de las empresas cotizadas con buscador y acceso a sus fichas informativas\\n           </a>\\n           <a class=\"enlace\" href=\"/bme-exchange/es/Mercados-y-Cotizaciones/Acciones/Mercado-Continuo/Operaciones-Financieras/Admisiones-Negociacion\" target=\"_blank\">\\n            Listado de admisiones a negociación en el último año\\n           </a>\\n           <a class=\"enlace\" href=\"/bme-exchange/es/Mercados-y-Cotizaciones/Acciones/Mercado-Continuo/Operaciones-Financieras/Exclusiones-Negociacion\" target=\"_blank\">\\n            Listado de exclusiones de negociación en el último año\\n           </a>\\n           <a class=\"enlace\" href=\"/bme-exchange/es/Mercados-y-Cotizaciones/Acciones/Mercado-Continuo/Precios/mercado-continuo\" target=\"_blank\">\\n            Precios y volumenes de la sesión de todas las empresas cotizadas agrupadas por mercados, índices y sectores\\n            <br/>\\n           </a>\\n           <a class=\"enlace\" href=\"/bme-exchange/es/Mercados-y-Cotizaciones/Acciones/Analisis-y-Herramientas/Analisis-de-empresas/Morningstar/ibex-Medium\" target=\"_blank\">\\n            <span style=\"letter-spacing: -0.2pt; background-color: #ffffff;\">\\n             Análisis cuantitativo de pequeñas y medianas empresas cotizadas\\n            </span>\\n           </a>\\n           <a class=\"enlace\" href=\"/bme-exchange/es/Mercados-y-Cotizaciones/Acciones/Analisis-y-Herramientas/Analisis-de-empresas/Lighthouse\" target=\"_blank\">\\n            Análisis fundamental de pequeñas y medianas empresas (servicio Lighthouse)\\n           </a>\\n          </p>\\n          <h4>\\n           3. Operaciones corporativas con acciones\\n          </h4>\\n          <p>\\n           <a class=\"xls\" href=\"/esp/publicacion/revista/estadisticas/TABLA%2004-01%20(Listado%20de%20OPVs%20y%20OPS%202010%20a%202021).xls\" target=\"_blank\">\\n            Ofertas Públicas de Venta (OPV) Suscripción (OPS) y otras (2010-2019)\\n           </a>\\n           <a class=\"xls\" href=\"/esp/publicacion/revista/estadisticas/TABLA%2004-02%20(Ampliaciones%20de%20capital%20Importes%20agregados).xls\" target=\"_blank\">\\n            Ampliaciones de capital: importes agregados\\n           </a>\\n           <a class=\"xls\" href=\"/esp/publicacion/revista/estadisticas/TABLA%2004-03%20(Reducciones%20de%20capital%20y%20fondos%20propios).XLS\" target=\"_blank\">\\n            Reducciones de capital y fondos propios\\n           </a>\\n           <a class=\"xls\" href=\"/esp/publicacion/revista/estadisticas/TABLA%2004-04%20(Listado%20de%20OPAS%20desde%202009).xls\" target=\"_blank\">\\n            Listado de OPAs (2009-2019)\\n           </a>\\n           <a class=\"enlace\" href=\"/bme-exchange/es/Mercados-y-Cotizaciones/Acciones/Mercado-Continuo/Operaciones-Financieras/OPVs-OPSs\" target=\"_blank\">\\n            Listado de OPVs y OPSs en el último año\\n           </a>\\n           <a class=\"enlace\" href=\"/bme-exchange/es/Mercados-y-Cotizaciones/Acciones/Mercado-Continuo/Operaciones-Financieras/Ampliaciones-Capital\" target=\"_blank\">\\n            Listado de ampliaciones en el último año\\n           </a>\\n           <a class=\"enlace\" href=\"/bme-exchange/es/Mercados-y-Cotizaciones/Acciones/Mercado-Continuo/Operaciones-Financieras/OPAs\" target=\"_blank\">\\n            Listado de OPAs en el último año\\n           </a>\\n           <a class=\"enlace\" href=\"/bme-exchange/es/Mercados-y-Cotizaciones/Acciones/Mercado-Continuo/Operaciones-Financieras/Splits\" target=\"_blank\">\\n            Listado de splits en el último año\\n           </a>\\n           <a class=\"enlace\" href=\"/bme-exchange/es/Mercados-y-Cotizaciones/Acciones/Mercado-Continuo/Operaciones-Financieras/Refundicion-Nominal\" target=\"_blank\">\\n            Listado de refundiciones de nominal en el último año\\n           </a>\\n          </p>\\n          <h4>\\n           4. Ingresos y resultados de las compañías cotizadas\\n          </h4>\\n          <p>\\n           <a class=\"xls\" href=\"/esp/publicacion/revista/estadisticas/TABLA%2011-01%20(Rdos%20Tasa%20V.).xls\" target=\"_blank\">\\n            Resultado neto de las compañías españolas cotizadas por sectores\\n           </a>\\n           <a class=\"xls\" href=\"/esp/publicacion/revista/estadisticas/TABLA%2011-02%20(Ebitda%20Tasa%20V.).xls\" target=\"_blank\">\\n            EBITDA de las compañías cotizadas por sectores\\n           </a>\\n           <a class=\"xls\" href=\"/esp/publicacion/revista/estadisticas/TABLA%2011-03%20(Ingresos%20y%20resultados%20por%20compa%C3%B1%C3%ADas).xls\" target=\"_blank\">\\n            Ingresos y resultados netos. Listado por compañías españolas cotizadas\\n           </a>\\n           <a class=\"xls\" href=\"/esp/publicacion/revista/estadisticas/TABLA%2011-04%20(Ebitda%20por%20compa%C3%B1%C3%ADas).xls\" target=\"_blank\">\\n            EBITDA. Listado por compañías cotizadas\\n           </a>\\n          </p>\\n          <h4>\\n           5. Retribución al accionista\\n          </h4>\\n          <p>\\n           <a class=\"xls\" href=\"/esp/publicacion/revista/estadisticas/TABLA%2005-01%20(Dividendos%20y%20otros%20pagos%20como%20retribucion%20al%20accionista).xls\" target=\"_blank\">\\n            Dividendos y otros pagos efectuados por las empresas cotizadas\\n           </a>\\n           <a class=\"enlace\" href=\"/bme-exchange/es/Mercados-y-Cotizaciones/Acciones/Mercado-Continuo/Operaciones-Financieras/Dividendos\" target=\"_blank\">\\n            Listado de dividendos satisfechos en el último año\\n           </a>\\n           <a class=\"enlace\" href=\"/bme-exchange/es/Mercados-y-Cotizaciones/Acciones/Mercado-Continuo/Operaciones-Financieras/Pagos-Especiales\" target=\"_blank\">\\n            Listado de Pagos Especiales en el último año (Primas de Emisión y otros)\\n           </a>\\n          </p>\\n          <h4>\\n           6. Notas de Supervisión\\n          </h4>\\n          <p>\\n           <a class=\"pdf\" href=\"/bme-exchange/docs/docsSubidos/Estadisticas/Acciones/Notas-supervision/Bajas-valores.pdf\" target=\"_blank\">\\n            Bajas de valores\\n           </a>\\n           <a class=\"pdf\" href=\"/bme-exchange/docs/docsSubidos/Estadisticas/Acciones/Notas-supervision/Cambio-denominacion-social.pdf\" target=\"_blank\">\\n            Cambios de denominación\\n           </a>\\n           <a class=\"pdf\" href=\"/bme-exchange/docs/docsSubidos/Estadisticas/Acciones/Notas-supervision/Proximas-incorporaciones.pdf\" target=\"_blank\">\\n            Próximas incorporaciones\\n            <br/>\\n           </a>\\n           <a class=\"pdf\" href=\"/bme-exchange/docs/docsSubidos/Estadisticas/Acciones/Notas-supervision/Integraciones-acciones.pdf\" target=\"_blank\">\\n            Integraciones de acciones\\n           </a>\\n           <br/>\\n           <a class=\"pdf\" href=\"/bme-exchange/docs/docsSubidos/Estadisticas/Acciones/Notas-supervision/Desdoblamientos-agrupaciones.pdf\" target=\"_blank\">\\n            Desdoblamientos y Agrupaciones\\n           </a>\\n           <a class=\"pdf\" href=\"/bme-exchange/docs/docsSubidos/Estadisticas/Acciones/Notas-supervision/Reducciones-capital.pdf\" target=\"_blank\">\\n            Reducciones de capital\\n           </a>\\n          </p>\\n         </div>\\n        </div>\\n        <div class=\"panel is-collapsed\">\\n         <div class=\"section-tabs-accordion-btn\" role=\"tab\">\\n          <a class=\"accordion-hash\" data-target=\"Contenido_Modulos_Modulos_ListaModulos_ctl00_0_O_0Tab3\" name=\"rentafija\">\\n          </a>\\n          <a aria-controls=\"Contenido_Modulos_Modulos_ListaModulos_ctl00_0_O_0Tab3\" aria-expanded=\"false\" data-parent=\"#Contenido_Modulos_Modulos_ListaModulos_ctl00_0_O_0_accordion\" data-toggle=\"collapse\" href=\"#Contenido_Modulos_Modulos_ListaModulos_ctl00_0_O_0Tab3\" role=\"tab\">\\n           Renta Fija\\n          </a>\\n         </div>\\n         <div class=\"section-tabs-tab collapse\" id=\"Contenido_Modulos_Modulos_ListaModulos_ctl00_0_O_0Tab3\" role=\"tabpanel\">\\n          <p>\\n           <a class=\"xls\" href=\"https://www.bolsasymercados.es/esp/publicacion/revista/estadisticas/TABLA%2008-01%20(Volumen%20y%20operaciones%20SEND).xls\" target=\"_blank\">\\n            Negociación de Instrumentos de Renta Fija Privada en la plataforma electrónica SEND\\n           </a>\\n           <a class=\"xls\" href=\"https://www.bolsasymercados.es/esp/publicacion/revista/estadisticas/TABLA%2008-02%20(Saldo%20en%20circulaci%C3%B3n%20AIAF%20y%20Gr%C3%A1fico).xls\" target=\"_blank\">\\n            Saldo en circulación en instrumentos de Renta Fija Privada en BME\\n           </a>\\n           <a class=\"xls\" href=\"https://www.bolsasymercados.es/esp/publicacion/revista/estadisticas/TABLA%2008-03%20(Importes%20Admitidos%20por%20instrumentos%20AIAF).xls\" target=\"_blank\">\\n            Importes de Renta Fija Privada admitidos por instrumentos (AIAF)\\n           </a>\\n           <a class=\"xls\" href=\"https://www.bolsasymercados.es/esp/publicacion/revista/estadisticas/TABLA%2008-04%20(Finananciacion%20por%20instrumentos%20AIAF).xls\" target=\"_blank\">\\n            Financiación obtenida por instrumentos de Renta Fija Privada (AIAF)\\n           </a>\\n           <a class=\"xls\" href=\"https://www.bolsasymercados.es/esp/publicacion/revista/estadisticas/TABLA%2008-05%20(Emisiones%20y%20Saldo%20vivo%20MARF).xls\" target=\"_blank\">\\n            Mercado Alternativo de Renta Fija (MARF)\\n           </a>\\n           <a class=\"enlace\" href=\"/bme-exchange/es/Mercados-y-Cotizaciones/Estadisticas/AIAF\" target=\"_blank\">\\n            Información histórica Renta Fija\\xa0 privada (AIAF) (histórico volúmenes, admisiones y saldo vivo)\\n           </a>\\n           <a class=\"xls\" href=\"https://www.bolsasymercados.es/esp/publicacion/revista/estadisticas/TABLA%2009-01%20(Contratacion%20Deuda%20Plataformas%20BME).xls\" target=\"_blank\">\\n            Volumen negociado de Deuda Pública en las plataformas electrónicas de BME\\n           </a>\\n           <a class=\"xls\" href=\"https://www.bolsasymercados.es/esp/publicacion/revista/estadisticas/TABLA%2009-02%20(Deuda-Saldo%20vivo%20y%20no%20residentes).xls\" target=\"_blank\">\\n            Deuda Pública. Saldo Vivo total y no Residentes\\n           </a>\\n           <a class=\"xls\" href=\"https://www.bolsasymercados.es/esp/publicacion/revista/estadisticas/TABLA%2009-03%20(Saldos%20Vivos%20Instrumentos%20BME).xls\" target=\"_blank\">\\n            Saldos vivos de Deuda Pública por Instrumentos en los mercados de BME\\n           </a>\\n           <a class=\"enlace\" href=\"/bme-exchange/es/Mercados-y-Cotizaciones/Estadisticas/SENAF\" target=\"_blank\">\\n            Estadísticas históricas SENAF: importes negociados desde 2002\\n           </a>\\n          </p>\\n         </div>\\n        </div>\\n        <div class=\"panel is-collapsed\">\\n         <div class=\"section-tabs-accordion-btn\" role=\"tab\">\\n          <a class=\"accordion-hash\" data-target=\"Contenido_Modulos_Modulos_ListaModulos_ctl00_0_O_0Tab4\" name=\"etfs\">\\n          </a>\\n          <a aria-controls=\"Contenido_Modulos_Modulos_ListaModulos_ctl00_0_O_0Tab4\" aria-expanded=\"false\" data-parent=\"#Contenido_Modulos_Modulos_ListaModulos_ctl00_0_O_0_accordion\" data-toggle=\"collapse\" href=\"#Contenido_Modulos_Modulos_ListaModulos_ctl00_0_O_0Tab4\" role=\"tab\">\\n           ETFs\\n          </a>\\n         </div>\\n         <div class=\"section-tabs-tab collapse\" id=\"Contenido_Modulos_Modulos_ListaModulos_ctl00_0_O_0Tab4\" role=\"tabpanel\">\\n          <p>\\n           <a class=\"xls\" href=\"https://www.bolsasymercados.es/esp/publicacion/revista/estadisticas/TABLA%2006-01%20(Negociacion%20y%20patrimonio%20ETFs).xls\" target=\"_blank\">\\n            ETFs: negociación y patrimonio. Importes agregados\\n           </a>\\n           <a class=\"xls\" href=\"https://www.bolsasymercados.es/esp/publicacion/revista/estadisticas/TABLA%2006-02%20(Ranking%20de%20ETFs%20por%20contrataci%C3%B3n).xls\" target=\"_blank\">\\n            Ranking de ETFs por contratación\\n           </a>\\n           <a class=\"enlace\" href=\"/bme-exchange/es/Mercados-y-Cotizaciones/ETFs/Cotizaciones\" target=\"_blank\">\\n            Precios y fichas informativas de los ETFs\\n           </a>\\n           <a class=\"enlace\" href=\"/bme-exchange/es/Mercados-y-Cotizaciones/Estadisticas/ETFs/Ranking-Diario\" target=\"_blank\">\\n            Ranking diario de ETFs\\n           </a>\\n           <a class=\"enlace\" href=\"/bme-exchange/es/Mercados-y-Cotizaciones/Estadisticas/ETFs/Contratacion-ETFs\" target=\"_blank\">\\n            Contratación por ETF\\n           </a>\\n           <a class=\"enlace\" href=\"/bme-exchange/es/Mercados-y-Cotizaciones/Estadisticas/ETFs/Contratacion-Historica\" target=\"_blank\">\\n            Contratación histórica\\n           </a>\\n           <a class=\"enlace\" href=\"/bme-exchange/es/Mercados-y-Cotizaciones/Estadisticas/ETFs/Patrimonio-ETFs-Por-ETF\" target=\"_blank\">\\n            Patrimonio\\n           </a>\\n          </p>\\n         </div>\\n        </div>\\n        <div class=\"panel is-collapsed\">\\n         <div class=\"section-tabs-accordion-btn\" role=\"tab\">\\n          <a class=\"accordion-hash\" data-target=\"Contenido_Modulos_Modulos_ListaModulos_ctl00_0_O_0Tab5\" name=\"warrants\">\\n          </a>\\n          <a aria-controls=\"Contenido_Modulos_Modulos_ListaModulos_ctl00_0_O_0Tab5\" aria-expanded=\"false\" data-parent=\"#Contenido_Modulos_Modulos_ListaModulos_ctl00_0_O_0_accordion\" data-toggle=\"collapse\" href=\"#Contenido_Modulos_Modulos_ListaModulos_ctl00_0_O_0Tab5\" role=\"tab\">\\n           Warrants  y otros productos cotizados\\n          </a>\\n         </div>\\n         <div class=\"section-tabs-tab collapse\" id=\"Contenido_Modulos_Modulos_ListaModulos_ctl00_0_O_0Tab5\" role=\"tabpanel\">\\n          <p>\\n           <a class=\"xls\" href=\"https://www.bolsasymercados.es/esp/publicacion/revista/estadisticas/TABLA%2007-01%20Negociaci%C3%B3n%20de%20Warrants%20y%20otros%20productos%20cotizados.xls\" target=\"_blank\">\\n            Negociación de Warrants y otros productos negociados\\n           </a>\\n           <a class=\"enlace\" href=\"/bme-exchange/es/Mercados-y-Cotizaciones/Estadisticas/Warrants/Mayores-Subidas-Bajadas-Negociados\" target=\"_blank\">\\n            Warrants -Ranking diario\\n           </a>\\n           <a class=\"enlace\" href=\"/bme-exchange/es/Mercados-y-Cotizaciones/Estadisticas/Warrants/Contratacion-Warrants\" target=\"_blank\">\\n            Warrants -Contratación\\n           </a>\\n           <a class=\"enlace\" href=\"/bme-exchange/es/Mercados-y-Cotizaciones/Estadisticas/Warrants/Por-Tipo-Subyacente\" target=\"_blank\">\\n            Warrants -Emisiones\\n           </a>\\n           <a class=\"enlace\" href=\"/bme-exchange/es/Mercados-y-Cotizaciones/Estadisticas/Warrants/Contratacion-Historica-Warrants\" target=\"_blank\">\\n            Warrants -Contratación histórica\\n           </a>\\n           <a class=\"enlace\" href=\"/bme-exchange/es/Mercados-y-Cotizaciones/Estadisticas/Warrants/Contratacion-Historica-Inline-Warrants\" target=\"_blank\">\\n            Inline Warrants (nº\\xa0 y efectivo negociado)\\n           </a>\\n           <a class=\"enlace\" href=\"/bme-exchange/es/Mercados-y-Cotizaciones/Estadisticas/Warrants/Contratacion-Historica-Bonus-Warrants\" target=\"_blank\">\\n            Bonus/Bonus CAP (nº\\xa0 y efectivo negociado)\\n           </a>\\n           <a class=\"enlace\" href=\"/bme-exchange/es/Mercados-y-Cotizaciones/Estadisticas/Warrants/Contratacion-Historica-Tubos-Warrants\" target=\"_blank\">\\n            Turbos/Turbos Pro (nº\\xa0 y efectivo negociado)\\n           </a>\\n           <a class=\"enlace\" href=\"/bme-exchange/es/Mercados-y-Cotizaciones/Estadisticas/Warrants/Contratacion-Historica-Discount-Warrants\" target=\"_blank\">\\n            Discount (nº\\xa0 y efectivo negociado)\\n           </a>\\n           <a class=\"enlace\" href=\"/bme-exchange/es/Mercados-y-Cotizaciones/Estadisticas/Warrants/Contratacion-Historica-StayHighLow-Warrants\" target=\"_blank\">\\n            Stay High/Stay Low (nº\\xa0 y efectivo negociado)\\n           </a>\\n           <a class=\"enlace\" href=\"/bme-exchange/es/Mercados-y-Cotizaciones/Estadisticas/Warrants/Contratacion-Historica-Multi-Warrants\" target=\"_blank\">\\n            Multi (nº\\xa0 y efectivo negociado)\\n           </a>\\n           <a class=\"enlace\" href=\"/bme-exchange/es/Mercados-y-Cotizaciones/Estadisticas/Warrants/Contratacion-Historica-Certificados\" target=\"_blank\">\\n            Certificados (nº\\xa0 y efectivo negociado)\\n           </a>\\n          </p>\\n         </div>\\n        </div>\\n        <div class=\"panel is-collapsed\">\\n         <div class=\"section-tabs-accordion-btn\" role=\"tab\">\\n          <a class=\"accordion-hash\" data-target=\"Contenido_Modulos_Modulos_ListaModulos_ctl00_0_O_0Tab6\" name=\"derivados\">\\n          </a>\\n          <a aria-controls=\"Contenido_Modulos_Modulos_ListaModulos_ctl00_0_O_0Tab6\" aria-expanded=\"false\" data-parent=\"#Contenido_Modulos_Modulos_ListaModulos_ctl00_0_O_0_accordion\" data-toggle=\"collapse\" href=\"#Contenido_Modulos_Modulos_ListaModulos_ctl00_0_O_0Tab6\" role=\"tab\">\\n           Derivados. Opciones y Futuros\\n          </a>\\n         </div>\\n         <div class=\"section-tabs-tab collapse\" id=\"Contenido_Modulos_Modulos_ListaModulos_ctl00_0_O_0Tab6\" role=\"tabpanel\">\\n          <p>\\n           <a class=\"xls\" href=\"https://www.bolsasymercados.es/esp/publicacion/revista/estadisticas/TABLA%2010-01%20(Negociaci%C3%B3n%20Opciones%20y%20Futuros).xls\" target=\"_blank\">\\n            Negociación de Opciones y Futuros sobre renta variable\\n           </a>\\n           <a class=\"enlace\" href=\"https://www.meff.es/esp/Derivados-Financieros/Estadisticas-Diarias\" target=\"_blank\">\\n            Estadísticas diarias de opciones y futuros financieros: volúmenes negociados y posición abierta (30 días)\\n           </a>\\n           <a class=\"enlace\" href=\"https://www.meff.es/esp/Derivados-Financieros/Descarga-Ficheros-xRolling-FX\" target=\"_blank\">\\n            Estadísticas diarias de derivados X Rolling FX: volúmenes negociados y posición abierta (30 días)\\n           </a>\\n           <a class=\"enlace\" href=\"https://www.meff.es/esp/Derivados-Financieros/Estadisticas-Mensuales\" target=\"_blank\">\\n            Estadísticas mensuales de opciones y futuros financieros: volúmenes negociados y posición abierta (2 años)\\n           </a>\\n           <a class=\"xls\" href=\"https://www.meff.es/docs/Ficheros/ficherosest/00000000000000000000000001012021000000001000000010040005N0000.xls\" target=\"_blank\">\\n            Opciones y futuros financieros: volúmenes anuales negociados por tipos de subyacente desde el año 2000\\n           </a>\\n           <a class=\"xls\" href=\"https://www.meff.es/esp/Derivados-Financieros/Estadisticas-Diarias\" target=\"_blank\">\\n            Estadísticas diarias de opciones y futuros financieros: volúmenes negociados y posición abierta (30 días)\\n           </a>\\n           <a class=\"xls\" href=\"https://www.bolsasymercados.es/esp/publicacion/revista/estadisticas/TABLA%2010-02%20(Volatilidad%20IBEX)%20(Antigua%2010-04).xls\" target=\"_blank\">\\n            Volatilidad del IBEX 35\\n           </a>\\n           <a class=\"xls\" href=\"https://www.bolsasymercados.es/esp/publicacion/revista/estadisticas/TABLA%2010-03%20(Derivados%20Energ%C3%ADa).xls\" target=\"_blank\">\\n            Negociación de Futuros y Swaps sobre electricidad negociados en MEFF\\n           </a>\\n           <a class=\"enlace\" href=\"https://www.meff.es/esp/Home#menu64\" target=\"_blank\">\\n            Estadísticas derivados Commodities en MEFF\\n           </a>\\n          </p>\\n          <p>\\n          </p>\\n         </div>\\n        </div>\\n        <div class=\"panel is-collapsed\">\\n         <div class=\"section-tabs-accordion-btn\" role=\"tab\">\\n          <a class=\"accordion-hash\" data-target=\"Contenido_Modulos_Modulos_ListaModulos_ctl00_0_O_0Tab7\" name=\"otrainfo\">\\n          </a>\\n          <a aria-controls=\"Contenido_Modulos_Modulos_ListaModulos_ctl00_0_O_0Tab7\" aria-expanded=\"false\" data-parent=\"#Contenido_Modulos_Modulos_ListaModulos_ctl00_0_O_0_accordion\" data-toggle=\"collapse\" href=\"#Contenido_Modulos_Modulos_ListaModulos_ctl00_0_O_0Tab7\" role=\"tab\">\\n           Otra Información\\n          </a>\\n         </div>\\n         <div class=\"section-tabs-tab collapse\" id=\"Contenido_Modulos_Modulos_ListaModulos_ctl00_0_O_0Tab7\" role=\"tabpanel\">\\n          <p>\\n           <a class=\"xls\" href=\"https://www.bolsasymercados.es/esp/publicacion/revista/estadisticas/TABLA%2012-01%20(PER%20sectorial%20Bolsa%20espa%C3%B1ola).xls\" target=\"_blank\">\\n            PER sectorial de la Bolsa española\\n           </a>\\n           <a class=\"xls\" href=\"https://www.bolsasymercados.es/esp/publicacion/revista/estadisticas/TABLA%2012-02%20(%20Propiedad%20Bonos%20y%20Oblig.).xls\" target=\"_blank\">\\n            Propiedad de los Bonos y Obligaciones del Estado\\n           </a>\\n           <a class=\"xls\" href=\"https://www.bolsasymercados.es/esp/publicacion/revista/estadisticas/TABLA%2012-03%20(Inversi%C3%B3n%20Extranjera).xls\" target=\"_blank\">\\n            Inversión Extranjera en acciones de sociedades cotizadas\\n           </a>\\n           <a class=\"xls\" href=\"https://www.bolsasymercados.es/esp/publicacion/revista/estadisticas/TABLA%2012-04%20(Inversi%C3%B3n%20Institucional).xls\" target=\"_blank\">\\n            Instituciones de Inversión colectival en España: Evolución de Patrimonio y Partícipes\\n           </a>\\n           <a class=\"enlace\" href=\"/bme-exchange/es/Mercados-y-Cotizaciones/Fondos-de-Inversion\" target=\"_blank\">\\n            FONDOS DE INVERSIÓN. Información diaria de valor liquidativo, gestoras y categorías\\n           </a>\\n          </p>\\n         </div>\\n        </div>\\n       </div>\\n      </div>\\n     </div>\\n    </div>\\n   </section>\\n  </main>\\n  <div class=\"hidden-print home\" data-url=\"https://www.bolsasymercados.es/bme-exchange/es/Mercados-y-Cotizaciones/Estadisticas\" id=\"AccionesPag\">\\n   <div class=\"links\">\\n    <a class=\"icon twitter\" href=\"#share_in_twitter\" title=\"Compartir en Twitter\">\\n    </a>\\n    <a class=\"icon whatsapp\" href=\"#share_in_whatsapp\" title=\"Enviar por WhatsApp\">\\n    </a>\\n    <a class=\"icon linkedin\" href=\"#share_in_linkedin\" title=\"Compartir en LinkedIn\">\\n    </a>\\n    <a class=\"icon facebook\" href=\"#share_in_facebook\" title=\"Compartir en Facebook\">\\n    </a>\\n    <a class=\"icon email sep\" href=\"#share_in_mail\" title=\"Enviar por email\">\\n    </a>\\n    <a class=\"icon print sep\" href=\"#share_in_print\" title=\"Imprimir\">\\n    </a>\\n   </div>\\n   <a class=\"tirador\" href=\"#share_in_open\">\\n    <span aria-hidden=\"true\" class=\"glyphicon\">\\n    </span>\\n   </a>\\n  </div>\\n  <a class=\"hidden-print hidden\" href=\"#top\" id=\"VolverInicio\" target=\"_self\">\\n   <span aria-hidden=\"true\" class=\"glyphicon glyphicon-chevron-up\">\\n   </span>\\n  </a>\\n  <footer class=\"hidden-print\" id=\"Pie\">\\n   <div id=\"LinksPie\">\\n    <div class=\"container\">\\n     <div class=\"row\">\\n      <div class=\"col-lg-7 col-md-12 links\">\\n       <div>\\n        <div class=\"titulo-col-pie\">\\n         <span>\\n          MERCADO\\n         </span>\\n        </div>\\n        <ul>\\n         <li>\\n          <a href=\"/bme-exchange/es/Negociar/Calendario-Mercado\" target=\"_self\">\\n           Calendario de Mercado\\n          </a>\\n         </li>\\n         <li>\\n          <a href=\"/bme-exchange/es/Negociar/Horario-Mercado\" target=\"_self\">\\n           Horario de Mercado\\n          </a>\\n         </li>\\n         <li>\\n          <a href=\"/bme-exchange/es/Market-Status\" target=\"_self\">\\n           Estado del Mercado\\n          </a>\\n         </li>\\n         <li>\\n          <a href=\"/bme-exchange/es/Negociar/Mercados/Renta-Variable/MIFID-II/Informes-Best-Execution\" target=\"_self\">\\n           MiFID II Renta Variable\\n          </a>\\n         </li>\\n         <li>\\n          <a href=\"/bme-exchange/es/Negociar/Mercados/Renta-Fija/MIFID-II/Informes-Best-Execution\" target=\"_self\">\\n           MiFID II Renta Fija\\n          </a>\\n         </li>\\n         <li>\\n          <a href=\"https://www.meff.es/esp/MIFID-II\" target=\"_blank\">\\n           MiFID II Derivados\\n          </a>\\n         </li>\\n        </ul>\\n       </div>\\n       <div>\\n        <div class=\"titulo-col-pie\">\\n         <span>\\n          LINKS RÁPIDOS\\n         </span>\\n        </div>\\n        <ul>\\n         <li>\\n          <a href=\"/bme-exchange/es/Mercados-y-Cotizaciones/Acciones/Mercado-Continuo/Precios/ibex-35-ES0SI0000005\" target=\"_self\">\\n           IBEX 35®\\n          </a>\\n         </li>\\n         <li>\\n          <a href=\"/bme-exchange/es/Mercados-y-Cotizaciones/Acciones/Mercado-Continuo/Operaciones-Financieras/Dividendos\" target=\"_self\">\\n           Dividendos\\n          </a>\\n         </li>\\n         <li>\\n          <a href=\"/bme-exchange/es/Negociar/Agenda\" target=\"_self\">\\n           Agenda del Inversor\\n          </a>\\n         </li>\\n         <li>\\n          <a href=\"/bme-exchange/es/Mercados-y-Cotizaciones/Acciones/Analisis-y-Herramientas/Mi-Cartera\" target=\"_self\">\\n           Mi Cartera\\n          </a>\\n         </li>\\n         <li>\\n          <a href=\"/bme-exchange/es/Mercados-y-Cotizaciones/Estadisticas/Boletines-Informes\" target=\"_self\">\\n           Boletines de cotización\\n          </a>\\n         </li>\\n         <li>\\n          <a href=\"/bme-exchange/es/Mercados-y-Cotizaciones/Estadisticas\" target=\"_self\">\\n           Estadísticas\\n          </a>\\n         </li>\\n        </ul>\\n       </div>\\n       <div>\\n        <div class=\"titulo-col-pie\">\\n         <span>\\n          SERVICIOS\\n         </span>\\n        </div>\\n        <ul>\\n         <li>\\n          <a href=\"https://www.bolsasymercados.es/BME_4Companies\" target=\"_blank\">\\n           BME 4Companies\\n          </a>\\n         </li>\\n         <li>\\n          <a href=\"https://www.bmeregulatoryservices.es\" target=\"_blank\">\\n           BME Regulatory Services\\n          </a>\\n         </li>\\n         <li>\\n          <a href=\"/bme-exchange/es/Negociar/Participantes/Servicios-para-Participantes\" target=\"_self\">\\n           Servicios para intermediarios\\n          </a>\\n         </li>\\n         <li>\\n          <a href=\"https://www.bmemarketdata.es\" target=\"_blank\">\\n           Market Data\\n          </a>\\n         </li>\\n         <li>\\n          <a href=\"/bme-exchange/es/Espacios-Corporativos\" target=\"_self\">\\n           Espacios para Eventos Corporativos\\n          </a>\\n         </li>\\n         <li>\\n          <a href=\"https://www.bolsasymercados.es/esp/Sala-Comunicacion\" target=\"_blank\">\\n           Sala de Comunicación BME\\n          </a>\\n         </li>\\n        </ul>\\n       </div>\\n      </div>\\n      <div class=\"col-lg-5 col-md-12 siguenos\">\\n       <div>\\n        <div class=\"titulo-col-pie\">\\n         <span>\\n          SÍGUENOS:\\n         </span>\\n        </div>\\n        <div class=\"RRSS\">\\n         <a class=\"icon twitter\" href=\"https://twitter.com/bolsabme\" target=\"_blank\" title=\"Twitter\">\\n         </a>\\n         <a class=\"icon flickr\" href=\"https://www.flickr.com/photos/archivobme/\" target=\"_blank\" title=\"Flickr\">\\n         </a>\\n         <a class=\"icon linkedin\" href=\"https://www.linkedin.com/company/bolsabme\" target=\"_blank\" title=\"LinkedIn\">\\n         </a>\\n         <a class=\"icon youtube\" href=\"https://www.youtube.com/@BolsaBME\" target=\"_blank\" title=\"YouTube\">\\n         </a>\\n         <a class=\"icon rss\" href=\"/bme-exchange/es/RSS\" target=\"_self\" title=\"RSS\">\\n         </a>\\n        </div>\\n       </div>\\n       <div>\\n        <a class=\"Contacto mover overview-btn blue\" href=\"/bme-exchange/es/Contacto#Informacion-General\">\\n         CONTACTO\\n        </a>\\n       </div>\\n       <div>\\n        <a href=\"/esp/Home\" target=\"_blank\">\\n         <img alt=\"Logo Bolsas y Mercados Españoles\" class=\"Logo\" src=\"/bme-exchange/images/base/LogoBMEInv.svg?v=Six\"/>\\n        </a>\\n       </div>\\n      </div>\\n     </div>\\n    </div>\\n   </div>\\n   <div id=\"FranjaPie\">\\n    <ul class=\"list-inline\">\\n     <li>\\n      Copyright® BME 2023\\n     </li>\\n     <li>\\n      <a href=\"/bme-exchange/es/Disclaimer\" target=\"_self\">\\n       Disclaimer\\n      </a>\\n     </li>\\n     <li>\\n      <a href=\"/bme-exchange/es/privacidad/Politica-de-Privacidad\" target=\"_self\">\\n       Política de Privacidad\\n      </a>\\n     </li>\\n     <li>\\n      <a href=\"/bme-exchange/es/Politica-de-cookies\" target=\"_self\">\\n       Política de cookies\\n      </a>\\n     </li>\\n     <li>\\n      <a href=\"/bme-exchange/es/privacidad/Aviso-Legal\" target=\"_self\">\\n       Aviso legal\\n      </a>\\n     </li>\\n     <li>\\n      <a href=\"/bme-exchange/es/Mapa-Web\" target=\"_self\">\\n       Mapa Web\\n      </a>\\n     </li>\\n    </ul>\\n   </div>\\n   <div class=\"visible-xs-block\" id=\"testXS\">\\n   </div>\\n  </footer>\\n  <footer class=\"visible-print-block\" id=\"UrlPrint\">\\n   <div class=\"container\">\\n    <div class=\"row\">\\n     <div class=\"col-xs-6\">\\n      Copyright® BME 2023\\n     </div>\\n     <div class=\"col-xs-6 text-right\">\\n      [ https://www.bolsasymercados.es/bme-exchange/ ]\\n     </div>\\n    </div>\\n   </div>\\n  </footer>\\n </body>\\n</html>\\n'"
      ]
     },
     "execution_count": 105,
     "metadata": {},
     "output_type": "execute_result"
    }
   ],
   "source": [
    "soup2.prettify()"
   ]
  },
  {
   "cell_type": "code",
   "execution_count": 132,
   "id": "d92a988a",
   "metadata": {
    "scrolled": true
   },
   "outputs": [
    {
     "data": {
      "text/plain": [
       "[<a class=\"xls\" href=\"https://www.bolsasymercados.es/esp/publicacion/revista/estadisticas/TABLA%2001-01%20(Gr%C3%A1f.%20IBEX%20mensual).xls\" name=\"estadisticas-indices\" target=\"_blank\">IBEX 35. Histórico mensual</a>,\n",
       " <a class=\"xls\" href=\"https://www.bolsasymercados.es/esp/publicacion/revista/estadisticas/TABLA%2001-02%20(IBEX%20y%20volatilidad%20anual%20con%20y%20sin%20dividendos).xls\" target=\"_blank\">IBEX 35 con y sin dividendos: rentabilidad y volatilidad<br/></a>,\n",
       " <a class=\"xls\" href=\"https://www.bolsasymercados.es/esp/publicacion/revista/estadisticas/TABLA%2001-03%20(Principales%20%C3%ADndices%20Familia%20IBEX).xls\" target=\"_blank\">Principales índices de la familia IBEX</a>,\n",
       " <a class=\"xls\" href=\"https://www.bolsasymercados.es/esp/publicacion/revista/estadisticas/TABLA%2001-04%20(Principales%20%C3%ADndices%20amplios%20Bolsas%20espa%C3%B1olas).xls\" target=\"_blank\">Principales índices amplios de las Bolsas españolas<br/></a>,\n",
       " <a class=\"xls\" href=\"https://www.bolsasymercados.es/esp/publicacion/revista/estadisticas/TABLA%2001-05%20(Evolucion%20de%20la%20cotizacion%20por%20sectores%20de%20actividad).xls\" target=\"_blank\">Índices bursátiles por sectores de actividad económica</a>,\n",
       " <a class=\"xls\" href=\"https://www.bolsasymercados.es/esp/publicacion/revista/estadisticas/TABLA%2001-06%20(Principales%20Indices%20Bolsas%20mundiales).xls\" target=\"_blank\">Índices de las principales Bolsas mundiales</a>,\n",
       " <a class=\"xls\" href=\"https://www.bolsasymercados.es/esp/publicacion/revista/estadisticas/TABLA%2001-07%20(Rentabilidad%20anual%20principales%20Bolsas%20del%20mundo).xls\" target=\"_blank\">Rentabilidad anual de las principales Bolsas del mundo (%)</a>,\n",
       " <a class=\"xls\" href=\"https://www.bolsasymercados.es/esp/publicacion/revista/estadisticas/TABLA%2001-08%20(Volatilidad%20anual%20principales%20Bolsas%20del%20mundo).xls\" target=\"_blank\">Volatilidad anualizada de las principales Bolsas del mundo (%)</a>,\n",
       " <a class=\"xls\" href=\"/esp/publicacion/revista/estadisticas/TABLA%2002-01%20Capitalizacion%20total%20y%20sectorial%20de%20la%20Bolsa%20espa%C3%B1ola.xls\" target=\"_blank\">Capitalización total y sectorial de la Bolsa española </a>,\n",
       " <a class=\"xls\" href=\"/esp/publicacion/revista/estadisticas/TABLA%2002-02%20Ranking%20sociedades%20SIBE%20por%20capitalizaci%C3%B3n%20y%20contrataci%C3%B3n.xls\" target=\"_blank\">Ranking por capitalización y contratación de las empresas cotizadas en SIBE </a>,\n",
       " <a class=\"xls\" href=\"/esp/publicacion/revista/estadisticas/TABLA%2002-03%20(Volumen%20negociado%20en%20acciones%20en%20la%20Bolsa%20espa%C3%B1ola).xls\" target=\"_blank\">Volumen negociado en acciones: importe y número de operaciones </a>,\n",
       " <a class=\"xls\" href=\"/bme-exchange/docs/docsSubidos/Estadisticas/Acciones/Empresas-cotizadas/Historico-empresas-cotizadas.xlsx\" target=\"_blank\">Histórico de empresas cotizadas</a>,\n",
       " <a class=\"xls\" href=\"/bme-exchange/docs/docsSubidos/Estadisticas/Acciones/Empresas-cotizadas/Procedencia-empresas-cotizadas.xlsx\" target=\"_blank\">Procedencia de empresas cotizadas</a>,\n",
       " <a class=\"xls\" href=\"/esp/publicacion/revista/estadisticas/TABLA%2003-01%20(Evolucion%20n%C3%BAmero%20empresas%20cotizadas%20en%20la%20Bolsa%20espa%C3%B1ola).xls\" target=\"_blank\">Número de empresas cotizadas</a>,\n",
       " <a class=\"xls\" href=\"/esp/publicacion/revista/estadisticas/TABLA%2003-02%20(Listado%20de%20nuevas%20admisiones%20a%20cotizacion).xls\" target=\"_blank\">Nuevas admisiones a cotización (2019)<br/></a>,\n",
       " <a class=\"xls\" href=\"/esp/publicacion/revista/estadisticas/TABLA%2004-01%20(Listado%20de%20OPVs%20y%20OPS%202010%20a%202021).xls\" target=\"_blank\">Ofertas Públicas de Venta (OPV) Suscripción (OPS) y otras (2010-2019)</a>,\n",
       " <a class=\"xls\" href=\"/esp/publicacion/revista/estadisticas/TABLA%2004-02%20(Ampliaciones%20de%20capital%20Importes%20agregados).xls\" target=\"_blank\">Ampliaciones de capital: importes agregados</a>,\n",
       " <a class=\"xls\" href=\"/esp/publicacion/revista/estadisticas/TABLA%2004-03%20(Reducciones%20de%20capital%20y%20fondos%20propios).XLS\" target=\"_blank\">Reducciones de capital y fondos propios</a>,\n",
       " <a class=\"xls\" href=\"/esp/publicacion/revista/estadisticas/TABLA%2004-04%20(Listado%20de%20OPAS%20desde%202009).xls\" target=\"_blank\">Listado de OPAs (2009-2019)</a>,\n",
       " <a class=\"xls\" href=\"/esp/publicacion/revista/estadisticas/TABLA%2011-01%20(Rdos%20Tasa%20V.).xls\" target=\"_blank\">Resultado neto de las compañías españolas cotizadas por sectores </a>,\n",
       " <a class=\"xls\" href=\"/esp/publicacion/revista/estadisticas/TABLA%2011-02%20(Ebitda%20Tasa%20V.).xls\" target=\"_blank\">EBITDA de las compañías cotizadas por sectores </a>,\n",
       " <a class=\"xls\" href=\"/esp/publicacion/revista/estadisticas/TABLA%2011-03%20(Ingresos%20y%20resultados%20por%20compa%C3%B1%C3%ADas).xls\" target=\"_blank\">Ingresos y resultados netos. Listado por compañías españolas cotizadas</a>,\n",
       " <a class=\"xls\" href=\"/esp/publicacion/revista/estadisticas/TABLA%2011-04%20(Ebitda%20por%20compa%C3%B1%C3%ADas).xls\" target=\"_blank\">EBITDA. Listado por compañías cotizadas</a>,\n",
       " <a class=\"xls\" href=\"/esp/publicacion/revista/estadisticas/TABLA%2005-01%20(Dividendos%20y%20otros%20pagos%20como%20retribucion%20al%20accionista).xls\" target=\"_blank\">Dividendos y otros pagos efectuados por las empresas cotizadas</a>,\n",
       " <a class=\"xls\" href=\"https://www.bolsasymercados.es/esp/publicacion/revista/estadisticas/TABLA%2008-01%20(Volumen%20y%20operaciones%20SEND).xls\" target=\"_blank\">Negociación de Instrumentos de Renta Fija Privada en la plataforma electrónica SEND</a>,\n",
       " <a class=\"xls\" href=\"https://www.bolsasymercados.es/esp/publicacion/revista/estadisticas/TABLA%2008-02%20(Saldo%20en%20circulaci%C3%B3n%20AIAF%20y%20Gr%C3%A1fico).xls\" target=\"_blank\">Saldo en circulación en instrumentos de Renta Fija Privada en BME</a>,\n",
       " <a class=\"xls\" href=\"https://www.bolsasymercados.es/esp/publicacion/revista/estadisticas/TABLA%2008-03%20(Importes%20Admitidos%20por%20instrumentos%20AIAF).xls\" target=\"_blank\">Importes de Renta Fija Privada admitidos por instrumentos (AIAF)</a>,\n",
       " <a class=\"xls\" href=\"https://www.bolsasymercados.es/esp/publicacion/revista/estadisticas/TABLA%2008-04%20(Finananciacion%20por%20instrumentos%20AIAF).xls\" target=\"_blank\">Financiación obtenida por instrumentos de Renta Fija Privada (AIAF)</a>,\n",
       " <a class=\"xls\" href=\"https://www.bolsasymercados.es/esp/publicacion/revista/estadisticas/TABLA%2008-05%20(Emisiones%20y%20Saldo%20vivo%20MARF).xls\" target=\"_blank\">Mercado Alternativo de Renta Fija (MARF)</a>,\n",
       " <a class=\"xls\" href=\"https://www.bolsasymercados.es/esp/publicacion/revista/estadisticas/TABLA%2009-01%20(Contratacion%20Deuda%20Plataformas%20BME).xls\" target=\"_blank\">Volumen negociado de Deuda Pública en las plataformas electrónicas de BME</a>,\n",
       " <a class=\"xls\" href=\"https://www.bolsasymercados.es/esp/publicacion/revista/estadisticas/TABLA%2009-02%20(Deuda-Saldo%20vivo%20y%20no%20residentes).xls\" target=\"_blank\">Deuda Pública. Saldo Vivo total y no Residentes</a>,\n",
       " <a class=\"xls\" href=\"https://www.bolsasymercados.es/esp/publicacion/revista/estadisticas/TABLA%2009-03%20(Saldos%20Vivos%20Instrumentos%20BME).xls\" target=\"_blank\">Saldos vivos de Deuda Pública por Instrumentos en los mercados de BME</a>,\n",
       " <a class=\"xls\" href=\"https://www.bolsasymercados.es/esp/publicacion/revista/estadisticas/TABLA%2006-01%20(Negociacion%20y%20patrimonio%20ETFs).xls\" target=\"_blank\">ETFs: negociación y patrimonio. Importes agregados</a>,\n",
       " <a class=\"xls\" href=\"https://www.bolsasymercados.es/esp/publicacion/revista/estadisticas/TABLA%2006-02%20(Ranking%20de%20ETFs%20por%20contrataci%C3%B3n).xls\" target=\"_blank\">Ranking de ETFs por contratación</a>,\n",
       " <a class=\"xls\" href=\"https://www.bolsasymercados.es/esp/publicacion/revista/estadisticas/TABLA%2007-01%20Negociaci%C3%B3n%20de%20Warrants%20y%20otros%20productos%20cotizados.xls\" target=\"_blank\">Negociación de Warrants y otros productos negociados</a>,\n",
       " <a class=\"xls\" href=\"https://www.bolsasymercados.es/esp/publicacion/revista/estadisticas/TABLA%2010-01%20(Negociaci%C3%B3n%20Opciones%20y%20Futuros).xls\" target=\"_blank\">Negociación de Opciones y Futuros sobre renta variable</a>,\n",
       " <a class=\"xls\" href=\"https://www.meff.es/docs/Ficheros/ficherosest/00000000000000000000000001012021000000001000000010040005N0000.xls\" target=\"_blank\">Opciones y futuros financieros: volúmenes anuales negociados por tipos de subyacente desde el año 2000</a>,\n",
       " <a class=\"xls\" href=\"https://www.meff.es/esp/Derivados-Financieros/Estadisticas-Diarias\" target=\"_blank\">Estadísticas diarias de opciones y futuros financieros: volúmenes negociados y posición abierta (30 días)</a>,\n",
       " <a class=\"xls\" href=\"https://www.bolsasymercados.es/esp/publicacion/revista/estadisticas/TABLA%2010-02%20(Volatilidad%20IBEX)%20(Antigua%2010-04).xls\" target=\"_blank\">Volatilidad del IBEX 35</a>,\n",
       " <a class=\"xls\" href=\"https://www.bolsasymercados.es/esp/publicacion/revista/estadisticas/TABLA%2010-03%20(Derivados%20Energ%C3%ADa).xls\" target=\"_blank\">Negociación de Futuros y Swaps sobre electricidad negociados en MEFF</a>,\n",
       " <a class=\"xls\" href=\"https://www.bolsasymercados.es/esp/publicacion/revista/estadisticas/TABLA%2012-01%20(PER%20sectorial%20Bolsa%20espa%C3%B1ola).xls\" target=\"_blank\">PER sectorial de la Bolsa española</a>,\n",
       " <a class=\"xls\" href=\"https://www.bolsasymercados.es/esp/publicacion/revista/estadisticas/TABLA%2012-02%20(%20Propiedad%20Bonos%20y%20Oblig.).xls\" target=\"_blank\">Propiedad de los Bonos y Obligaciones del Estado</a>,\n",
       " <a class=\"xls\" href=\"https://www.bolsasymercados.es/esp/publicacion/revista/estadisticas/TABLA%2012-03%20(Inversi%C3%B3n%20Extranjera).xls\" target=\"_blank\">Inversión Extranjera en acciones de sociedades cotizadas</a>,\n",
       " <a class=\"xls\" href=\"https://www.bolsasymercados.es/esp/publicacion/revista/estadisticas/TABLA%2012-04%20(Inversi%C3%B3n%20Institucional).xls\" target=\"_blank\">Instituciones de Inversión colectival en España: Evolución de Patrimonio y Partícipes</a>]"
      ]
     },
     "execution_count": 132,
     "metadata": {},
     "output_type": "execute_result"
    }
   ],
   "source": [
    "list(soup2.main.find_all('a',class_='xls'))"
   ]
  },
  {
   "cell_type": "code",
   "execution_count": 137,
   "id": "c1fe68b8",
   "metadata": {},
   "outputs": [
    {
     "data": {
      "text/plain": [
       "[<a class=\"xls\" href=\"https://www.bolsasymercados.es/esp/publicacion/revista/estadisticas/TABLA%2001-01%20(Gr%C3%A1f.%20IBEX%20mensual).xls\" name=\"estadisticas-indices\" target=\"_blank\">IBEX 35. Histórico mensual</a>]"
      ]
     },
     "execution_count": 137,
     "metadata": {},
     "output_type": "execute_result"
    }
   ],
   "source": [
    "list(soup2.main.find_all('a',attrs={\"name\": \"estadisticas-indices\"}))"
   ]
  },
  {
   "cell_type": "code",
   "execution_count": 140,
   "id": "40f26036",
   "metadata": {},
   "outputs": [
    {
     "data": {
      "text/plain": [
       "'https://www.bolsasymercados.es/esp/publicacion/revista/estadisticas/TABLA%2001-01%20(Gr%C3%A1f.%20IBEX%20mensual).xls'"
      ]
     },
     "execution_count": 140,
     "metadata": {},
     "output_type": "execute_result"
    }
   ],
   "source": [
    "soup2.main.find_all('a',attrs={\"name\": \"estadisticas-indices\"})[0].get('href')"
   ]
  },
  {
   "cell_type": "code",
   "execution_count": 146,
   "id": "863315cf",
   "metadata": {},
   "outputs": [
    {
     "data": {
      "text/plain": [
       "['https://www.bolsasymercados.es/esp/publicacion/revista/estadisticas/TABLA%2001-01%20(Gr%C3%A1f.%20IBEX%20mensual).xls']"
      ]
     },
     "execution_count": 146,
     "metadata": {},
     "output_type": "execute_result"
    }
   ],
   "source": [
    "# search related links \n",
    "\n",
    "xlslinks = []\n",
    "\n",
    "for link in soup2.main.find_all('a',attrs={\"name\": \"estadisticas-indices\"}):\n",
    "    \n",
    "    xlslinks.append(link.get('href'))\n",
    "    \n",
    "xlslinks"
   ]
  },
  {
   "cell_type": "code",
   "execution_count": 203,
   "id": "c2dbc79b",
   "metadata": {},
   "outputs": [
    {
     "data": {
      "text/html": [
       "<div>\n",
       "<style scoped>\n",
       "    .dataframe tbody tr th:only-of-type {\n",
       "        vertical-align: middle;\n",
       "    }\n",
       "\n",
       "    .dataframe tbody tr th {\n",
       "        vertical-align: top;\n",
       "    }\n",
       "\n",
       "    .dataframe thead th {\n",
       "        text-align: right;\n",
       "    }\n",
       "</style>\n",
       "<table border=\"1\" class=\"dataframe\">\n",
       "  <thead>\n",
       "    <tr style=\"text-align: right;\">\n",
       "      <th></th>\n",
       "      <th>Month</th>\n",
       "      <th>IBEX-35 Val</th>\n",
       "    </tr>\n",
       "  </thead>\n",
       "  <tbody>\n",
       "    <tr>\n",
       "      <th>0</th>\n",
       "      <td>1989-12-01 00:00:00</td>\n",
       "      <td>3000.0</td>\n",
       "    </tr>\n",
       "    <tr>\n",
       "      <th>1</th>\n",
       "      <td>1990-01-01 00:00:00</td>\n",
       "      <td>2841.6</td>\n",
       "    </tr>\n",
       "    <tr>\n",
       "      <th>2</th>\n",
       "      <td>1990-02-01 00:00:00</td>\n",
       "      <td>2762.4</td>\n",
       "    </tr>\n",
       "    <tr>\n",
       "      <th>3</th>\n",
       "      <td>1990-03-01 00:00:00</td>\n",
       "      <td>2484.5</td>\n",
       "    </tr>\n",
       "    <tr>\n",
       "      <th>4</th>\n",
       "      <td>1990-04-01 00:00:00</td>\n",
       "      <td>2643.7</td>\n",
       "    </tr>\n",
       "    <tr>\n",
       "      <th>...</th>\n",
       "      <td>...</td>\n",
       "      <td>...</td>\n",
       "    </tr>\n",
       "    <tr>\n",
       "      <th>396</th>\n",
       "      <td>dic-22</td>\n",
       "      <td>8229.1</td>\n",
       "    </tr>\n",
       "    <tr>\n",
       "      <th>397</th>\n",
       "      <td>ene-23</td>\n",
       "      <td>9034.0</td>\n",
       "    </tr>\n",
       "    <tr>\n",
       "      <th>398</th>\n",
       "      <td>feb-23</td>\n",
       "      <td>9394.6</td>\n",
       "    </tr>\n",
       "    <tr>\n",
       "      <th>399</th>\n",
       "      <td>mar-23</td>\n",
       "      <td>9232.5</td>\n",
       "    </tr>\n",
       "    <tr>\n",
       "      <th>400</th>\n",
       "      <td>abr-23</td>\n",
       "      <td>9241.0</td>\n",
       "    </tr>\n",
       "  </tbody>\n",
       "</table>\n",
       "<p>401 rows × 2 columns</p>\n",
       "</div>"
      ],
      "text/plain": [
       "                   Month  IBEX-35 Val\n",
       "0    1989-12-01 00:00:00       3000.0\n",
       "1    1990-01-01 00:00:00       2841.6\n",
       "2    1990-02-01 00:00:00       2762.4\n",
       "3    1990-03-01 00:00:00       2484.5\n",
       "4    1990-04-01 00:00:00       2643.7\n",
       "..                   ...          ...\n",
       "396               dic-22       8229.1\n",
       "397               ene-23       9034.0\n",
       "398               feb-23       9394.6\n",
       "399               mar-23       9232.5\n",
       "400               abr-23       9241.0\n",
       "\n",
       "[401 rows x 2 columns]"
      ]
     },
     "metadata": {},
     "output_type": "display_data"
    },
    {
     "data": {
      "text/html": [
       "<div>\n",
       "<style scoped>\n",
       "    .dataframe tbody tr th:only-of-type {\n",
       "        vertical-align: middle;\n",
       "    }\n",
       "\n",
       "    .dataframe tbody tr th {\n",
       "        vertical-align: top;\n",
       "    }\n",
       "\n",
       "    .dataframe thead th {\n",
       "        text-align: right;\n",
       "    }\n",
       "</style>\n",
       "<table border=\"1\" class=\"dataframe\">\n",
       "  <thead>\n",
       "    <tr style=\"text-align: right;\">\n",
       "      <th></th>\n",
       "      <th>IBEX-35 Val</th>\n",
       "    </tr>\n",
       "  </thead>\n",
       "  <tbody>\n",
       "    <tr>\n",
       "      <th>count</th>\n",
       "      <td>401.000000</td>\n",
       "    </tr>\n",
       "    <tr>\n",
       "      <th>mean</th>\n",
       "      <td>8102.037456</td>\n",
       "    </tr>\n",
       "    <tr>\n",
       "      <th>std</th>\n",
       "      <td>3149.861939</td>\n",
       "    </tr>\n",
       "    <tr>\n",
       "      <th>min</th>\n",
       "      <td>2032.130000</td>\n",
       "    </tr>\n",
       "    <tr>\n",
       "      <th>25%</th>\n",
       "      <td>6452.200000</td>\n",
       "    </tr>\n",
       "    <tr>\n",
       "      <th>50%</th>\n",
       "      <td>8718.600000</td>\n",
       "    </tr>\n",
       "    <tr>\n",
       "      <th>75%</th>\n",
       "      <td>10209.160000</td>\n",
       "    </tr>\n",
       "    <tr>\n",
       "      <th>max</th>\n",
       "      <td>15890.500000</td>\n",
       "    </tr>\n",
       "  </tbody>\n",
       "</table>\n",
       "</div>"
      ],
      "text/plain": [
       "        IBEX-35 Val\n",
       "count    401.000000\n",
       "mean    8102.037456\n",
       "std     3149.861939\n",
       "min     2032.130000\n",
       "25%     6452.200000\n",
       "50%     8718.600000\n",
       "75%    10209.160000\n",
       "max    15890.500000"
      ]
     },
     "execution_count": 203,
     "metadata": {},
     "output_type": "execute_result"
    }
   ],
   "source": [
    "df=pd.read_excel(xlslinks[0])\n",
    "df=df.rename(columns={\"Unnamed: 0\": \"Month\",'Ibex 35':'IBEX-35 Val'})\n",
    "display(df)\n",
    "df.describe()"
   ]
  },
  {
   "cell_type": "code",
   "execution_count": 207,
   "id": "db18f45c",
   "metadata": {},
   "outputs": [],
   "source": [
    "df.to_csv('IBEX35_mensual.csv')"
   ]
  },
  {
   "cell_type": "markdown",
   "id": "a5c738e3",
   "metadata": {},
   "source": [
    "## Selenium"
   ]
  },
  {
   "cell_type": "code",
   "execution_count": 157,
   "id": "ddbaf4f1",
   "metadata": {},
   "outputs": [],
   "source": [
    "url='http://quotes.toscrape.com'"
   ]
  },
  {
   "cell_type": "code",
   "execution_count": 279,
   "id": "9c192117",
   "metadata": {},
   "outputs": [
    {
     "name": "stderr",
     "output_type": "stream",
     "text": [
      "<ipython-input-279-c026f0c15647>:1: DeprecationWarning: executable_path has been deprecated, please pass in a Service object\n",
      "  driver = webdriver.Chrome(ChromeDriverManager().install())\n"
     ]
    }
   ],
   "source": [
    "driver = webdriver.Chrome(ChromeDriverManager().install())"
   ]
  },
  {
   "cell_type": "code",
   "execution_count": 158,
   "id": "75fcb250",
   "metadata": {},
   "outputs": [],
   "source": [
    "driver.get(url)"
   ]
  },
  {
   "cell_type": "code",
   "execution_count": 159,
   "id": "780e5c75",
   "metadata": {},
   "outputs": [
    {
     "data": {
      "text/plain": [
       "'<html lang=\"en\"><head>\\n\\t<meta charset=\"UTF-8\">\\n\\t<title>Quotes to Scrape</title>\\n    <link rel=\"stylesheet\" href=\"/static/bootstrap.min.css\">\\n    <link rel=\"stylesheet\" href=\"/static/main.css\">\\n</head>\\n<body>\\n    <div class=\"container\">\\n        <div class=\"row header-box\">\\n            <div class=\"col-md-8\">\\n                <h1>\\n                    <a href=\"/\" style=\"text-decoration: none\">Quotes to Scrape</a>\\n                </h1>\\n            </div>\\n            <div class=\"col-md-4\">\\n                <p>\\n                \\n                    <a href=\"/login\">Login</a>\\n                \\n                </p>\\n            </div>\\n        </div>\\n    \\n\\n<div class=\"row\">\\n    <div class=\"col-md-8\">\\n\\n    <div class=\"quote\" itemscope=\"\" itemtype=\"http://schema.org/CreativeWork\">\\n        <span class=\"text\" itemprop=\"text\">“The world as we have created it is a process of our thinking. It cannot be changed without changing our thinking.”</span>\\n        <span>by <small class=\"author\" itemprop=\"author\">Albert Einstein</small>\\n        <a href=\"/author/Albert-Einstein\">(about)</a>\\n        </span>\\n        <div class=\"tags\">\\n            Tags:\\n            <meta class=\"keywords\" itemprop=\"keywords\" content=\"change,deep-thoughts,thinking,world\"> \\n            \\n            <a class=\"tag\" href=\"/tag/change/page/1/\">change</a>\\n            \\n            <a class=\"tag\" href=\"/tag/deep-thoughts/page/1/\">deep-thoughts</a>\\n            \\n            <a class=\"tag\" href=\"/tag/thinking/page/1/\">thinking</a>\\n            \\n            <a class=\"tag\" href=\"/tag/world/page/1/\">world</a>\\n            \\n        </div>\\n    </div>\\n\\n    <div class=\"quote\" itemscope=\"\" itemtype=\"http://schema.org/CreativeWork\">\\n        <span class=\"text\" itemprop=\"text\">“It is our choices, Harry, that show what we truly are, far more than our abilities.”</span>\\n        <span>by <small class=\"author\" itemprop=\"author\">J.K. Rowling</small>\\n        <a href=\"/author/J-K-Rowling\">(about)</a>\\n        </span>\\n        <div class=\"tags\">\\n            Tags:\\n            <meta class=\"keywords\" itemprop=\"keywords\" content=\"abilities,choices\"> \\n            \\n            <a class=\"tag\" href=\"/tag/abilities/page/1/\">abilities</a>\\n            \\n            <a class=\"tag\" href=\"/tag/choices/page/1/\">choices</a>\\n            \\n        </div>\\n    </div>\\n\\n    <div class=\"quote\" itemscope=\"\" itemtype=\"http://schema.org/CreativeWork\">\\n        <span class=\"text\" itemprop=\"text\">“There are only two ways to live your life. One is as though nothing is a miracle. The other is as though everything is a miracle.”</span>\\n        <span>by <small class=\"author\" itemprop=\"author\">Albert Einstein</small>\\n        <a href=\"/author/Albert-Einstein\">(about)</a>\\n        </span>\\n        <div class=\"tags\">\\n            Tags:\\n            <meta class=\"keywords\" itemprop=\"keywords\" content=\"inspirational,life,live,miracle,miracles\"> \\n            \\n            <a class=\"tag\" href=\"/tag/inspirational/page/1/\">inspirational</a>\\n            \\n            <a class=\"tag\" href=\"/tag/life/page/1/\">life</a>\\n            \\n            <a class=\"tag\" href=\"/tag/live/page/1/\">live</a>\\n            \\n            <a class=\"tag\" href=\"/tag/miracle/page/1/\">miracle</a>\\n            \\n            <a class=\"tag\" href=\"/tag/miracles/page/1/\">miracles</a>\\n            \\n        </div>\\n    </div>\\n\\n    <div class=\"quote\" itemscope=\"\" itemtype=\"http://schema.org/CreativeWork\">\\n        <span class=\"text\" itemprop=\"text\">“The person, be it gentleman or lady, who has not pleasure in a good novel, must be intolerably stupid.”</span>\\n        <span>by <small class=\"author\" itemprop=\"author\">Jane Austen</small>\\n        <a href=\"/author/Jane-Austen\">(about)</a>\\n        </span>\\n        <div class=\"tags\">\\n            Tags:\\n            <meta class=\"keywords\" itemprop=\"keywords\" content=\"aliteracy,books,classic,humor\"> \\n            \\n            <a class=\"tag\" href=\"/tag/aliteracy/page/1/\">aliteracy</a>\\n            \\n            <a class=\"tag\" href=\"/tag/books/page/1/\">books</a>\\n            \\n            <a class=\"tag\" href=\"/tag/classic/page/1/\">classic</a>\\n            \\n            <a class=\"tag\" href=\"/tag/humor/page/1/\">humor</a>\\n            \\n        </div>\\n    </div>\\n\\n    <div class=\"quote\" itemscope=\"\" itemtype=\"http://schema.org/CreativeWork\">\\n        <span class=\"text\" itemprop=\"text\">“Imperfection is beauty, madness is genius and it\\'s better to be absolutely ridiculous than absolutely boring.”</span>\\n        <span>by <small class=\"author\" itemprop=\"author\">Marilyn Monroe</small>\\n        <a href=\"/author/Marilyn-Monroe\">(about)</a>\\n        </span>\\n        <div class=\"tags\">\\n            Tags:\\n            <meta class=\"keywords\" itemprop=\"keywords\" content=\"be-yourself,inspirational\"> \\n            \\n            <a class=\"tag\" href=\"/tag/be-yourself/page/1/\">be-yourself</a>\\n            \\n            <a class=\"tag\" href=\"/tag/inspirational/page/1/\">inspirational</a>\\n            \\n        </div>\\n    </div>\\n\\n    <div class=\"quote\" itemscope=\"\" itemtype=\"http://schema.org/CreativeWork\">\\n        <span class=\"text\" itemprop=\"text\">“Try not to become a man of success. Rather become a man of value.”</span>\\n        <span>by <small class=\"author\" itemprop=\"author\">Albert Einstein</small>\\n        <a href=\"/author/Albert-Einstein\">(about)</a>\\n        </span>\\n        <div class=\"tags\">\\n            Tags:\\n            <meta class=\"keywords\" itemprop=\"keywords\" content=\"adulthood,success,value\"> \\n            \\n            <a class=\"tag\" href=\"/tag/adulthood/page/1/\">adulthood</a>\\n            \\n            <a class=\"tag\" href=\"/tag/success/page/1/\">success</a>\\n            \\n            <a class=\"tag\" href=\"/tag/value/page/1/\">value</a>\\n            \\n        </div>\\n    </div>\\n\\n    <div class=\"quote\" itemscope=\"\" itemtype=\"http://schema.org/CreativeWork\">\\n        <span class=\"text\" itemprop=\"text\">“It is better to be hated for what you are than to be loved for what you are not.”</span>\\n        <span>by <small class=\"author\" itemprop=\"author\">André Gide</small>\\n        <a href=\"/author/Andre-Gide\">(about)</a>\\n        </span>\\n        <div class=\"tags\">\\n            Tags:\\n            <meta class=\"keywords\" itemprop=\"keywords\" content=\"life,love\"> \\n            \\n            <a class=\"tag\" href=\"/tag/life/page/1/\">life</a>\\n            \\n            <a class=\"tag\" href=\"/tag/love/page/1/\">love</a>\\n            \\n        </div>\\n    </div>\\n\\n    <div class=\"quote\" itemscope=\"\" itemtype=\"http://schema.org/CreativeWork\">\\n        <span class=\"text\" itemprop=\"text\">“I have not failed. I\\'ve just found 10,000 ways that won\\'t work.”</span>\\n        <span>by <small class=\"author\" itemprop=\"author\">Thomas A. Edison</small>\\n        <a href=\"/author/Thomas-A-Edison\">(about)</a>\\n        </span>\\n        <div class=\"tags\">\\n            Tags:\\n            <meta class=\"keywords\" itemprop=\"keywords\" content=\"edison,failure,inspirational,paraphrased\"> \\n            \\n            <a class=\"tag\" href=\"/tag/edison/page/1/\">edison</a>\\n            \\n            <a class=\"tag\" href=\"/tag/failure/page/1/\">failure</a>\\n            \\n            <a class=\"tag\" href=\"/tag/inspirational/page/1/\">inspirational</a>\\n            \\n            <a class=\"tag\" href=\"/tag/paraphrased/page/1/\">paraphrased</a>\\n            \\n        </div>\\n    </div>\\n\\n    <div class=\"quote\" itemscope=\"\" itemtype=\"http://schema.org/CreativeWork\">\\n        <span class=\"text\" itemprop=\"text\">“A woman is like a tea bag; you never know how strong it is until it\\'s in hot water.”</span>\\n        <span>by <small class=\"author\" itemprop=\"author\">Eleanor Roosevelt</small>\\n        <a href=\"/author/Eleanor-Roosevelt\">(about)</a>\\n        </span>\\n        <div class=\"tags\">\\n            Tags:\\n            <meta class=\"keywords\" itemprop=\"keywords\" content=\"misattributed-eleanor-roosevelt\"> \\n            \\n            <a class=\"tag\" href=\"/tag/misattributed-eleanor-roosevelt/page/1/\">misattributed-eleanor-roosevelt</a>\\n            \\n        </div>\\n    </div>\\n\\n    <div class=\"quote\" itemscope=\"\" itemtype=\"http://schema.org/CreativeWork\">\\n        <span class=\"text\" itemprop=\"text\">“A day without sunshine is like, you know, night.”</span>\\n        <span>by <small class=\"author\" itemprop=\"author\">Steve Martin</small>\\n        <a href=\"/author/Steve-Martin\">(about)</a>\\n        </span>\\n        <div class=\"tags\">\\n            Tags:\\n            <meta class=\"keywords\" itemprop=\"keywords\" content=\"humor,obvious,simile\"> \\n            \\n            <a class=\"tag\" href=\"/tag/humor/page/1/\">humor</a>\\n            \\n            <a class=\"tag\" href=\"/tag/obvious/page/1/\">obvious</a>\\n            \\n            <a class=\"tag\" href=\"/tag/simile/page/1/\">simile</a>\\n            \\n        </div>\\n    </div>\\n\\n    <nav>\\n        <ul class=\"pager\">\\n            \\n            \\n            <li class=\"next\">\\n                <a href=\"/page/2/\">Next <span aria-hidden=\"true\">→</span></a>\\n            </li>\\n            \\n        </ul>\\n    </nav>\\n    </div>\\n    <div class=\"col-md-4 tags-box\">\\n        \\n            <h2>Top Ten tags</h2>\\n            \\n            <span class=\"tag-item\">\\n            <a class=\"tag\" style=\"font-size: 28px\" href=\"/tag/love/\">love</a>\\n            </span>\\n            \\n            <span class=\"tag-item\">\\n            <a class=\"tag\" style=\"font-size: 26px\" href=\"/tag/inspirational/\">inspirational</a>\\n            </span>\\n            \\n            <span class=\"tag-item\">\\n            <a class=\"tag\" style=\"font-size: 26px\" href=\"/tag/life/\">life</a>\\n            </span>\\n            \\n            <span class=\"tag-item\">\\n            <a class=\"tag\" style=\"font-size: 24px\" href=\"/tag/humor/\">humor</a>\\n            </span>\\n            \\n            <span class=\"tag-item\">\\n            <a class=\"tag\" style=\"font-size: 22px\" href=\"/tag/books/\">books</a>\\n            </span>\\n            \\n            <span class=\"tag-item\">\\n            <a class=\"tag\" style=\"font-size: 14px\" href=\"/tag/reading/\">reading</a>\\n            </span>\\n            \\n            <span class=\"tag-item\">\\n            <a class=\"tag\" style=\"font-size: 10px\" href=\"/tag/friendship/\">friendship</a>\\n            </span>\\n            \\n            <span class=\"tag-item\">\\n            <a class=\"tag\" style=\"font-size: 8px\" href=\"/tag/friends/\">friends</a>\\n            </span>\\n            \\n            <span class=\"tag-item\">\\n            <a class=\"tag\" style=\"font-size: 8px\" href=\"/tag/truth/\">truth</a>\\n            </span>\\n            \\n            <span class=\"tag-item\">\\n            <a class=\"tag\" style=\"font-size: 6px\" href=\"/tag/simile/\">simile</a>\\n            </span>\\n            \\n        \\n    </div>\\n</div>\\n\\n    </div>\\n    <footer class=\"footer\">\\n        <div class=\"container\">\\n            <p class=\"text-muted\">\\n                Quotes by: <a href=\"https://www.goodreads.com/quotes\">GoodReads.com</a>\\n            </p>\\n            <p class=\"copyright\">\\n                Made with <span class=\"sh-red\">❤</span> by <a href=\"https://scrapinghub.com\">Scrapinghub</a>\\n            </p>\\n        </div>\\n    </footer>\\n\\n</body></html>'"
      ]
     },
     "execution_count": 159,
     "metadata": {},
     "output_type": "execute_result"
    }
   ],
   "source": [
    "driver.page_source"
   ]
  },
  {
   "cell_type": "code",
   "execution_count": 160,
   "id": "7434cd35",
   "metadata": {},
   "outputs": [
    {
     "name": "stdout",
     "output_type": "stream",
     "text": [
      "Quotes to Scrape\n"
     ]
    }
   ],
   "source": [
    "print(driver.title)"
   ]
  },
  {
   "cell_type": "code",
   "execution_count": 167,
   "id": "8edf0278",
   "metadata": {},
   "outputs": [],
   "source": [
    "driver.implicitly_wait(0.5)"
   ]
  },
  {
   "cell_type": "code",
   "execution_count": 180,
   "id": "7e7ad314",
   "metadata": {},
   "outputs": [
    {
     "data": {
      "text/plain": [
       "'“The world as we have created it is a process of our thinking. It cannot be changed without changing our thinking.”\\nby Albert Einstein (about)\\nTags: change deep-thoughts thinking world'"
      ]
     },
     "execution_count": 180,
     "metadata": {},
     "output_type": "execute_result"
    }
   ],
   "source": [
    "Q = driver.find_elements(By.CLASS_NAME, \"quote\")\n",
    "Q[0].text"
   ]
  },
  {
   "cell_type": "code",
   "execution_count": 183,
   "id": "addc8e81",
   "metadata": {},
   "outputs": [
    {
     "data": {
      "text/plain": [
       "'Albert Einstein'"
      ]
     },
     "execution_count": 183,
     "metadata": {},
     "output_type": "execute_result"
    }
   ],
   "source": [
    "Tag = driver.find_elements(By.TAG_NAME, \"small\")\n",
    "val = Tag[0].text\n",
    "val"
   ]
  },
  {
   "cell_type": "code",
   "execution_count": 194,
   "id": "eaaa043c",
   "metadata": {},
   "outputs": [
    {
     "name": "stdout",
     "output_type": "stream",
     "text": [
      "Tags: change\n",
      "Tags: deep-thoughts\n",
      "Tags: thinking\n",
      "Tags: world\n"
     ]
    }
   ],
   "source": [
    "element = driver.find_elements(By.CLASS_NAME, \"quote\")\n",
    "elements = element[0].find_elements(By.CLASS_NAME, 'tag')\n",
    "for e in elements:\n",
    "    print('Tags:',e.text)"
   ]
  },
  {
   "cell_type": "code",
   "execution_count": 193,
   "id": "0fe2de2d",
   "metadata": {},
   "outputs": [
    {
     "name": "stdout",
     "output_type": "stream",
     "text": [
      "http://quotes.toscrape.com/\n",
      "http://quotes.toscrape.com/login\n",
      "http://quotes.toscrape.com/author/Albert-Einstein\n",
      "http://quotes.toscrape.com/tag/change/page/1/\n",
      "http://quotes.toscrape.com/tag/deep-thoughts/page/1/\n",
      "http://quotes.toscrape.com/tag/thinking/page/1/\n",
      "http://quotes.toscrape.com/tag/world/page/1/\n",
      "http://quotes.toscrape.com/author/J-K-Rowling\n",
      "http://quotes.toscrape.com/tag/abilities/page/1/\n",
      "http://quotes.toscrape.com/tag/choices/page/1/\n",
      "http://quotes.toscrape.com/author/Albert-Einstein\n",
      "http://quotes.toscrape.com/tag/inspirational/page/1/\n",
      "http://quotes.toscrape.com/tag/life/page/1/\n",
      "http://quotes.toscrape.com/tag/live/page/1/\n",
      "http://quotes.toscrape.com/tag/miracle/page/1/\n",
      "http://quotes.toscrape.com/tag/miracles/page/1/\n",
      "http://quotes.toscrape.com/author/Jane-Austen\n",
      "http://quotes.toscrape.com/tag/aliteracy/page/1/\n",
      "http://quotes.toscrape.com/tag/books/page/1/\n",
      "http://quotes.toscrape.com/tag/classic/page/1/\n",
      "http://quotes.toscrape.com/tag/humor/page/1/\n",
      "http://quotes.toscrape.com/author/Marilyn-Monroe\n",
      "http://quotes.toscrape.com/tag/be-yourself/page/1/\n",
      "http://quotes.toscrape.com/tag/inspirational/page/1/\n",
      "http://quotes.toscrape.com/author/Albert-Einstein\n",
      "http://quotes.toscrape.com/tag/adulthood/page/1/\n",
      "http://quotes.toscrape.com/tag/success/page/1/\n",
      "http://quotes.toscrape.com/tag/value/page/1/\n",
      "http://quotes.toscrape.com/author/Andre-Gide\n",
      "http://quotes.toscrape.com/tag/life/page/1/\n",
      "http://quotes.toscrape.com/tag/love/page/1/\n",
      "http://quotes.toscrape.com/author/Thomas-A-Edison\n",
      "http://quotes.toscrape.com/tag/edison/page/1/\n",
      "http://quotes.toscrape.com/tag/failure/page/1/\n",
      "http://quotes.toscrape.com/tag/inspirational/page/1/\n",
      "http://quotes.toscrape.com/tag/paraphrased/page/1/\n",
      "http://quotes.toscrape.com/author/Eleanor-Roosevelt\n",
      "http://quotes.toscrape.com/tag/misattributed-eleanor-roosevelt/page/1/\n",
      "http://quotes.toscrape.com/author/Steve-Martin\n",
      "http://quotes.toscrape.com/tag/humor/page/1/\n",
      "http://quotes.toscrape.com/tag/obvious/page/1/\n",
      "http://quotes.toscrape.com/tag/simile/page/1/\n",
      "http://quotes.toscrape.com/page/2/\n",
      "http://quotes.toscrape.com/tag/love/\n",
      "http://quotes.toscrape.com/tag/inspirational/\n",
      "http://quotes.toscrape.com/tag/life/\n",
      "http://quotes.toscrape.com/tag/humor/\n",
      "http://quotes.toscrape.com/tag/books/\n",
      "http://quotes.toscrape.com/tag/reading/\n",
      "http://quotes.toscrape.com/tag/friendship/\n",
      "http://quotes.toscrape.com/tag/friends/\n",
      "http://quotes.toscrape.com/tag/truth/\n",
      "http://quotes.toscrape.com/tag/simile/\n",
      "https://www.goodreads.com/quotes\n",
      "https://scrapinghub.com/\n"
     ]
    }
   ],
   "source": [
    "for a in driver.find_elements(By.XPATH, \".// a\"):\n",
    "    print(a.get_attribute('href'))"
   ]
  },
  {
   "cell_type": "code",
   "execution_count": 195,
   "id": "a9a8b10d",
   "metadata": {},
   "outputs": [],
   "source": [
    "driver.quit()"
   ]
  },
  {
   "cell_type": "markdown",
   "id": "38dbcd2e",
   "metadata": {},
   "source": [
    "## Exercici 2\n",
    "Documenta en un Word el teu conjunt de dades generat amb la informació que tenen els diferents arxius de Kaggle."
   ]
  },
  {
   "cell_type": "markdown",
   "id": "13c10f23",
   "metadata": {},
   "source": [
    "## Monthly Value of IBEX-35\n",
    "\n",
    "### Context\n",
    "\n",
    "This dataset contains the results of the IBEX 35 values for each month in the past years (1981-2023). It must serve the web:\n",
    "\n",
    "https://www.bolsasymercados.es/esp/publicacion/revista/estadisticas/TABLA%2001-01%20(Gr%C3%A1f.%20IBEX%20mensual).xls\n",
    "\n",
    "### Dataset title\n",
    "\n",
    "The title is: IBEX35_mensual\n",
    "\n",
    "\n",
    "### Content:\n",
    "\n",
    "+40 rows and 2 columns.\n",
    "Columns' description are listed below.\n",
    "\n",
    "Month: month of data values taken\n",
    "IBEX-35 Val: monthly ibex-35 closing index value\n",
    "\n",
    "\n",
    "#### Acknowledgements\n",
    "\n",
    "Data from Bolsa de Madrid.\n",
    "\n",
    "https://github.com/Pacs7/estructures_Dataframe/Sprint10"
   ]
  },
  {
   "cell_type": "code",
   "execution_count": 206,
   "id": "e6035dee",
   "metadata": {},
   "outputs": [
    {
     "data": {
      "text/html": [
       "<div>\n",
       "<style scoped>\n",
       "    .dataframe tbody tr th:only-of-type {\n",
       "        vertical-align: middle;\n",
       "    }\n",
       "\n",
       "    .dataframe tbody tr th {\n",
       "        vertical-align: top;\n",
       "    }\n",
       "\n",
       "    .dataframe thead th {\n",
       "        text-align: right;\n",
       "    }\n",
       "</style>\n",
       "<table border=\"1\" class=\"dataframe\">\n",
       "  <thead>\n",
       "    <tr style=\"text-align: right;\">\n",
       "      <th></th>\n",
       "      <th>Month</th>\n",
       "      <th>IBEX-35 Val</th>\n",
       "    </tr>\n",
       "  </thead>\n",
       "  <tbody>\n",
       "    <tr>\n",
       "      <th>199</th>\n",
       "      <td>2006-07-01 00:00:00</td>\n",
       "      <td>11818.0</td>\n",
       "    </tr>\n",
       "    <tr>\n",
       "      <th>274</th>\n",
       "      <td>2012-10-01 00:00:00</td>\n",
       "      <td>7842.9</td>\n",
       "    </tr>\n",
       "    <tr>\n",
       "      <th>257</th>\n",
       "      <td>2011-05-01 00:00:00</td>\n",
       "      <td>10476.0</td>\n",
       "    </tr>\n",
       "    <tr>\n",
       "      <th>275</th>\n",
       "      <td>2012-11-01 00:00:00</td>\n",
       "      <td>7934.6</td>\n",
       "    </tr>\n",
       "    <tr>\n",
       "      <th>215</th>\n",
       "      <td>2007-11-01 00:00:00</td>\n",
       "      <td>15759.9</td>\n",
       "    </tr>\n",
       "  </tbody>\n",
       "</table>\n",
       "</div>"
      ],
      "text/plain": [
       "                   Month  IBEX-35 Val\n",
       "199  2006-07-01 00:00:00      11818.0\n",
       "274  2012-10-01 00:00:00       7842.9\n",
       "257  2011-05-01 00:00:00      10476.0\n",
       "275  2012-11-01 00:00:00       7934.6\n",
       "215  2007-11-01 00:00:00      15759.9"
      ]
     },
     "metadata": {},
     "output_type": "display_data"
    }
   ],
   "source": [
    "display(df.sample(5))"
   ]
  },
  {
   "cell_type": "markdown",
   "id": "780b9f71",
   "metadata": {},
   "source": [
    "## Exercici 3\n",
    "Tria una pàgina web que tu vulguis i realitza web scraping mitjançant la llibreria Selenium primer i Scrapy després. "
   ]
  },
  {
   "cell_type": "code",
   "execution_count": 208,
   "id": "2d0da150",
   "metadata": {},
   "outputs": [],
   "source": [
    "url3='https://www.moratour.com'"
   ]
  },
  {
   "cell_type": "code",
   "execution_count": 220,
   "id": "0c9ecf4a",
   "metadata": {},
   "outputs": [
    {
     "name": "stderr",
     "output_type": "stream",
     "text": [
      "\n",
      "[WDM] - Downloading:   0%|          | 0.00/8.29M [00:00<?, ?B/s]\u001b[A\n",
      "[WDM] - Downloading:   3%|▎         | 288k/8.29M [00:00<00:02, 2.95MB/s]\u001b[A\n",
      "[WDM] - Downloading:  34%|███▍      | 2.86M/8.29M [00:00<00:00, 17.1MB/s]\u001b[A\n",
      "[WDM] - Downloading:  85%|████████▌ | 7.05M/8.29M [00:00<00:00, 27.1MB/s]\u001b[A<ipython-input-220-c026f0c15647>:1: DeprecationWarning: executable_path has been deprecated, please pass in a Service object\n",
      "  driver = webdriver.Chrome(ChromeDriverManager().install())\n"
     ]
    }
   ],
   "source": [
    "driver = webdriver.Chrome(ChromeDriverManager().install())"
   ]
  },
  {
   "cell_type": "code",
   "execution_count": 221,
   "id": "f3b7985a",
   "metadata": {},
   "outputs": [
    {
     "name": "stderr",
     "output_type": "stream",
     "text": [
      "\n",
      "[WDM] - Downloading: 100%|██████████| 8.29M/8.29M [00:14<00:00, 27.1MB/s]\u001b[A"
     ]
    }
   ],
   "source": [
    "driver.get(url3)"
   ]
  },
  {
   "cell_type": "code",
   "execution_count": 222,
   "id": "d20da88b",
   "metadata": {},
   "outputs": [],
   "source": [
    "driver.implicitly_wait(0.5)"
   ]
  },
  {
   "cell_type": "code",
   "execution_count": 227,
   "id": "68ca669a",
   "metadata": {
    "scrolled": true
   },
   "outputs": [
    {
     "data": {
      "text/plain": [
       "'<html lang=\"en\"><head><meta charset=\"utf-8\"><title>Mora Tour Dates - MORA TOUR DATES</title><meta name=\"viewport\" content=\"width=device-width, initial-scale=1.0, maximum-scale=1.0, user-scalable=0\"><link rel=\"icon\" href=\"/favicon.png\"><meta property=\"og:image\" content=\"/card.png\"><meta name=\"twitter:card\" content=\"summary_large_image\"><meta property=\"og:title\" content=\"Mora Tour Dates - MORA TOUR DATES\"><meta property=\"og:url\" content=\"https://moratourdates.com/\"><meta property=\"og:image\" content=\"/card.png\"><meta name=\"next-head-count\" content=\"9\"><link rel=\"preload\" href=\"/_next/static/media/c95ee470b01643a4.p.otf\" as=\"font\" type=\"font/otf\" crossorigin=\"anonymous\"><link rel=\"preload\" href=\"/_next/static/media/fb3445ec1ea49f84.p.otf\" as=\"font\" type=\"font/otf\" crossorigin=\"anonymous\"><link rel=\"preload\" href=\"/_next/static/media/c42217f2a61f9174.p.otf\" as=\"font\" type=\"font/otf\" crossorigin=\"anonymous\"><link rel=\"preload\" href=\"/_next/static/media/276ad734c566443f.p.otf\" as=\"font\" type=\"font/otf\" crossorigin=\"anonymous\"><link rel=\"preload\" href=\"/_next/static/media/0dd9252564478f3a.p.otf\" as=\"font\" type=\"font/otf\" crossorigin=\"anonymous\"><link rel=\"preload\" href=\"/_next/static/css/70743e714c64d8f0.css\" as=\"style\"><link rel=\"stylesheet\" href=\"/_next/static/css/70743e714c64d8f0.css\" data-n-g=\"\"><noscript data-n-css=\"\"></noscript><script src=\"https://connect.facebook.net/signals/config/234018341268530?v=2.9.106&amp;r=stable\" async=\"\"></script><script src=\"https://connect.facebook.net/signals/plugins/identity.js?v=2.9.106\" async=\"\"></script><script async=\"\" src=\"https://connect.facebook.net/en_US/fbevents.js\"></script><script defer=\"\" nomodule=\"\" src=\"/_next/static/chunks/polyfills-c67a75d1b6f99dc8.js\"></script><script src=\"/_next/static/chunks/webpack-dc7dcd5ad21230d8.js\" defer=\"\"></script><script src=\"/_next/static/chunks/framework-2c79e2a64abdb08b.js\" defer=\"\"></script><script src=\"/_next/static/chunks/main-f11614d8aa7ee555.js\" defer=\"\"></script><script src=\"/_next/static/chunks/pages/_app-fccca735f456ff51.js\" defer=\"\"></script><script src=\"/_next/static/chunks/560-880b2161e9b427f8.js\" defer=\"\"></script><script src=\"/_next/static/chunks/pages/index-9cfe898cb20a22d6.js\" defer=\"\"></script><script src=\"/_next/static/8WyVZ1GxJT5REXZcBxdVh/_buildManifest.js\" defer=\"\"></script><script src=\"/_next/static/8WyVZ1GxJT5REXZcBxdVh/_ssgManifest.js\" defer=\"\"></script><style id=\"__jsx-3319699326\">:root{--benton-font:\\'__bentonSans_56cc3c\\', \\'__bentonSans_Fallback_56cc3c\\'}</style></head><body class=\"bg-purple\"><div id=\"__next\"><main><div id=\"paraiso\" class=\"relative font-sans font-black uppercase max-w-full overflow-hidden select-none\"><img alt=\"fondo\" srcset=\"/_next/image?url=%2F_next%2Fstatic%2Fmedia%2Fheader-bg.a9bf32d4.webp&amp;w=1920&amp;q=75 1x, /_next/image?url=%2F_next%2Fstatic%2Fmedia%2Fheader-bg.a9bf32d4.webp&amp;w=3840&amp;q=75 2x\" src=\"/_next/image?url=%2F_next%2Fstatic%2Fmedia%2Fheader-bg.a9bf32d4.webp&amp;w=3840&amp;q=75\" width=\"1920\" height=\"1313\" decoding=\"async\" data-nimg=\"1\" class=\"w-full relative overflow-hidden max-w-[690px] md:border-2 md:border-t-0 border-white/10 md:rounded-b-3xl mx-auto\" loading=\"lazy\" style=\"color:transparent\"><div class=\"max-w-[690px] mx-auto p-5 relative\"><div class=\"flex\"><button class=\"flex-1 animate-hover\"><img alt=\"paraiso\" srcset=\"/_next/image?url=%2F_next%2Fstatic%2Fmedia%2Fparaiso-logo.a4b4235f.png&amp;w=256&amp;q=75 1x, /_next/image?url=%2F_next%2Fstatic%2Fmedia%2Fparaiso-logo.a4b4235f.png&amp;w=640&amp;q=75 2x\" src=\"/_next/image?url=%2F_next%2Fstatic%2Fmedia%2Fparaiso-logo.a4b4235f.png&amp;w=640&amp;q=75\" width=\"200\" height=\"109\" decoding=\"async\" data-nimg=\"1\" loading=\"lazy\" style=\"color:transparent\"></button><button class=\"flex-1 animate-hover-slow\"><img alt=\"estelalogo\" srcset=\"/_next/image?url=%2F_next%2Fstatic%2Fmedia%2Festela-logo.4053aa70.png&amp;w=640&amp;q=75 1x, /_next/image?url=%2F_next%2Fstatic%2Fmedia%2Festela-logo.4053aa70.png&amp;w=828&amp;q=75 2x\" src=\"/_next/image?url=%2F_next%2Fstatic%2Fmedia%2Festela-logo.4053aa70.png&amp;w=828&amp;q=75\" width=\"400\" height=\"105\" decoding=\"async\" data-nimg=\"1\" loading=\"lazy\" style=\"color:transparent\"></button></div><div class=\"relative z-[2]\"><h1 class=\"text-center text-white text-4xl sm:text-6xl py-6 mb-6 md:mb-14\">Get Tickets Now</h1><div class=\"mb-4 last:mb-0\" style=\"opacity: 1; transform: none;\"><div class=\"flex justify-start sm:justify-between sm:items-center gap-4 pt-2 pb-8 flex-col sm:flex-row w-full\"><div class=\"flex flex-col justify-center items-start sm:justify-start sm:items-center sm:flex-row gap-1 sm:gap-3 relative\"><span class=\"text-white text-xl line-through whitespace-nowrap\">APR . 13 . 23</span><span class=\"text-md text-dark-purple\">Los Angeles, USA</span><div class=\"absolute sm:left-[120px] left-[3px] h-[22px] bg-red-600/80 z-10 sm:translate-y-[0] translate-y-[10px] text-white px-5 rotate-[-5deg] whitespace-nowrap\">Sold Out</div></div><a class=\"h-[38px] whitespace-nowrap inline-flex items-center flex-col justify-center px-6 bg-white uppercase border-2 border-transparent hover:text-white hover:bg-transparent hover:border-white transition-colors duration-200 rounded-lg shadow-xl text-purple\">Sold Out</a></div></div><div class=\"mb-4 last:mb-0\" style=\"opacity: 1; transform: none;\"><div class=\"flex justify-start sm:justify-between sm:items-center gap-4 pt-2 pb-8 flex-col sm:flex-row w-full\"><div class=\"flex flex-col justify-center items-start sm:justify-start sm:items-center sm:flex-row gap-1 sm:gap-3 relative\"><span class=\"text-white text-xl line-through whitespace-nowrap\">APR . 14 . 23</span><span class=\"text-md text-dark-purple\">Las Vegas, USA</span><div class=\"absolute sm:left-[120px] left-[3px] h-[22px] bg-red-600/80 z-10 sm:translate-y-[0] translate-y-[10px] text-white px-5 rotate-[-5deg] whitespace-nowrap\">Sold Out</div></div><a class=\"h-[38px] whitespace-nowrap inline-flex items-center flex-col justify-center px-6 bg-white uppercase border-2 border-transparent hover:text-white hover:bg-transparent hover:border-white transition-colors duration-200 rounded-lg shadow-xl text-purple\">Sold Out</a></div></div><div class=\"mb-4 last:mb-0\" style=\"opacity: 1; transform: none;\"><div class=\"flex justify-start sm:justify-between sm:items-center gap-4 pt-2 pb-8 flex-col sm:flex-row w-full\"><div class=\"flex flex-col justify-center items-start sm:justify-start sm:items-center sm:flex-row gap-1 sm:gap-3 relative\"><span class=\"text-white text-xl line-through whitespace-nowrap\">APR . 15 . 23</span><span class=\"text-md text-dark-purple\">Atlanta, USA</span><div class=\"absolute sm:left-[120px] left-[3px] h-[22px] bg-red-600/80 z-10 sm:translate-y-[0] translate-y-[10px] text-white px-5 rotate-[-5deg] whitespace-nowrap\">Sold Out</div></div><a class=\"h-[38px] whitespace-nowrap inline-flex items-center flex-col justify-center px-6 bg-white uppercase border-2 border-transparent hover:text-white hover:bg-transparent hover:border-white transition-colors duration-200 rounded-lg shadow-xl text-purple\">Sold Out</a></div></div><div class=\"mb-4 last:mb-0\" style=\"opacity: 1; transform: none;\"><div class=\"flex justify-start sm:justify-between sm:items-center gap-4 pt-2 pb-8 flex-col sm:flex-row w-full\"><div class=\"flex flex-col justify-center items-start sm:justify-start sm:items-center sm:flex-row gap-1 sm:gap-3 relative\"><span class=\"text-white text-xl whitespace-nowrap\">APR . 16 . 23</span><span class=\"text-md text-dark-purple\">Salt Lake City, USA</span></div><a class=\"h-[38px] whitespace-nowrap inline-flex items-center flex-col justify-center px-6 bg-white uppercase border-2 border-transparent hover:text-white hover:bg-transparent hover:border-white transition-colors duration-200 rounded-lg shadow-xl text-purple\" href=\"https://tickets.skyslc.com/e/mora-4-16-23\">Buy Tickets Here</a></div></div><div class=\"mb-4 last:mb-0\" style=\"opacity: 1; transform: none;\"><div class=\"flex justify-start sm:justify-between sm:items-center gap-4 pt-2 pb-8 flex-col sm:flex-row w-full\"><div class=\"flex flex-col justify-center items-start sm:justify-start sm:items-center sm:flex-row gap-1 sm:gap-3 relative\"><span class=\"text-white text-xl line-through whitespace-nowrap\">APR . 20 . 23</span><span class=\"text-md text-dark-purple\">Chicago, USA</span><div class=\"absolute sm:left-[120px] left-[3px] h-[22px] bg-red-600/80 z-10 sm:translate-y-[0] translate-y-[10px] text-white px-5 rotate-[-5deg] whitespace-nowrap\">Sold Out</div></div><a class=\"h-[38px] whitespace-nowrap inline-flex items-center flex-col justify-center px-6 bg-white uppercase border-2 border-transparent hover:text-white hover:bg-transparent hover:border-white transition-colors duration-200 rounded-lg shadow-xl text-purple\">Sold Out</a></div></div><div class=\"mb-4 last:mb-0\" style=\"opacity: 1; transform: none;\"><div class=\"flex justify-start sm:justify-between sm:items-center gap-4 pt-2 pb-8 flex-col sm:flex-row w-full\"><div class=\"flex flex-col justify-center items-start sm:justify-start sm:items-center sm:flex-row gap-1 sm:gap-3 relative\"><span class=\"text-white text-xl whitespace-nowrap\">APR . 20 . 23</span><span class=\"text-md text-dark-purple\">Joliet, USA</span></div><a class=\"h-[38px] whitespace-nowrap inline-flex items-center flex-col justify-center px-6 bg-white uppercase border-2 border-transparent hover:text-white hover:bg-transparent hover:border-white transition-colors duration-200 rounded-lg shadow-xl text-purple\" href=\"https://www.ticketweb.com/event/mora-2023-usa-tour-the-forge-tickets/12946635\">Buy Tickets Here</a></div></div><div class=\"mb-4 last:mb-0\" style=\"opacity:0;transform:scale(1.5) translateZ(0)\"><div class=\"flex justify-start sm:justify-between sm:items-center gap-4 pt-2 pb-8 flex-col sm:flex-row w-full\"><div class=\"flex flex-col justify-center items-start sm:justify-start sm:items-center sm:flex-row gap-1 sm:gap-3 relative\"><span class=\"text-white text-xl line-through whitespace-nowrap\">APR . 21 . 23</span><span class=\"text-md text-dark-purple\">Philadelphia, USA</span><div class=\"absolute sm:left-[120px] left-[3px] h-[22px] bg-red-600/80 z-10 sm:translate-y-[0] translate-y-[10px] text-white px-5 rotate-[-5deg] whitespace-nowrap\">Sold Out</div></div><a class=\"h-[38px] whitespace-nowrap inline-flex items-center flex-col justify-center px-6 bg-white uppercase border-2 border-transparent hover:text-white hover:bg-transparent hover:border-white transition-colors duration-200 rounded-lg shadow-xl text-purple\">Sold Out</a></div></div><div class=\"mb-4 last:mb-0\" style=\"opacity:0;transform:scale(1.5) translateZ(0)\"><div class=\"flex justify-start sm:justify-between sm:items-center gap-4 pt-2 pb-8 flex-col sm:flex-row w-full\"><div class=\"flex flex-col justify-center items-start sm:justify-start sm:items-center sm:flex-row gap-1 sm:gap-3 relative\"><span class=\"text-white text-xl whitespace-nowrap\">APR . 22 . 23</span><span class=\"text-md text-dark-purple\">San Francisco, USA</span></div><a class=\"h-[38px] whitespace-nowrap inline-flex items-center flex-col justify-center px-6 bg-white uppercase border-2 border-transparent hover:text-white hover:bg-transparent hover:border-white transition-colors duration-200 rounded-lg shadow-xl text-purple\" href=\"https://www.tixr.com/groups/templesf/events/mora-62714\">Buy Tickets Here</a></div></div><div class=\"mb-4 last:mb-0\" style=\"opacity:0;transform:scale(1.5) translateZ(0)\"><div class=\"flex justify-start sm:justify-between sm:items-center gap-4 pt-2 pb-8 flex-col sm:flex-row w-full\"><div class=\"flex flex-col justify-center items-start sm:justify-start sm:items-center sm:flex-row gap-1 sm:gap-3 relative\"><span class=\"text-white text-xl whitespace-nowrap\">APR . 28 . 23</span><span class=\"text-md text-dark-purple\">SAN SALVADOR, EL SALVADOR</span></div><a class=\"h-[38px] whitespace-nowrap inline-flex items-center flex-col justify-center px-6 bg-white uppercase border-2 border-transparent hover:text-white hover:bg-transparent hover:border-white transition-colors duration-200 rounded-lg shadow-xl text-purple\" href=\"https://paraiso.funcapital.com/login\">Buy Tickets Here</a></div></div><div class=\"mb-4 last:mb-0\" style=\"opacity:0;transform:scale(1.5) translateZ(0)\"><div class=\"flex justify-start sm:justify-between sm:items-center gap-4 pt-2 pb-8 flex-col sm:flex-row w-full\"><div class=\"flex flex-col justify-center items-start sm:justify-start sm:items-center sm:flex-row gap-1 sm:gap-3 relative\"><span class=\"text-white text-xl whitespace-nowrap\">APR . 29 . 23</span><span class=\"text-md text-dark-purple\">Ciudad de Guatemala</span></div><a class=\"h-[38px] whitespace-nowrap inline-flex items-center flex-col justify-center px-6 bg-white uppercase border-2 border-transparent hover:text-white hover:bg-transparent hover:border-white transition-colors duration-200 rounded-lg shadow-xl text-purple\" href=\"https://empiremusicfestival.com/tickets/\">Buy Tickets Here</a></div></div><div class=\"mb-4 last:mb-0\" style=\"opacity:0;transform:scale(1.5) translateZ(0)\"><div class=\"flex justify-start sm:justify-between sm:items-center gap-4 pt-2 pb-8 flex-col sm:flex-row w-full\"><div class=\"flex flex-col justify-center items-start sm:justify-start sm:items-center sm:flex-row gap-1 sm:gap-3 relative\"><span class=\"text-white text-xl line-through whitespace-nowrap\">MAY . 4 . 23</span><span class=\"text-md text-dark-purple\">Boston, USA</span><div class=\"absolute sm:left-[120px] left-[3px] h-[22px] bg-red-600/80 z-10 sm:translate-y-[0] translate-y-[10px] text-white px-5 rotate-[-5deg] whitespace-nowrap\">Sold Out</div></div><a class=\"h-[38px] whitespace-nowrap inline-flex items-center flex-col justify-center px-6 bg-white uppercase border-2 border-transparent hover:text-white hover:bg-transparent hover:border-white transition-colors duration-200 rounded-lg shadow-xl text-purple\">Sold Out</a></div></div><div class=\"mb-4 last:mb-0\" style=\"opacity:0;transform:scale(1.5) translateZ(0)\"><div class=\"flex justify-start sm:justify-between sm:items-center gap-4 pt-2 pb-8 flex-col sm:flex-row w-full\"><div class=\"flex flex-col justify-center items-start sm:justify-start sm:items-center sm:flex-row gap-1 sm:gap-3 relative\"><span class=\"text-white text-xl line-through whitespace-nowrap\">MAY . 5 . 23</span><span class=\"text-md text-dark-purple\">New York, USA</span><div class=\"absolute sm:left-[120px] left-[3px] h-[22px] bg-red-600/80 z-10 sm:translate-y-[0] translate-y-[10px] text-white px-5 rotate-[-5deg] whitespace-nowrap\">Sold Out</div></div><a class=\"h-[38px] whitespace-nowrap inline-flex items-center flex-col justify-center px-6 bg-white uppercase border-2 border-transparent hover:text-white hover:bg-transparent hover:border-white transition-colors duration-200 rounded-lg shadow-xl text-purple\">Sold Out</a></div></div><div class=\"mb-4 last:mb-0\" style=\"opacity:0;transform:scale(1.5) translateZ(0)\"><div class=\"flex justify-start sm:justify-between sm:items-center gap-4 pt-2 pb-8 flex-col sm:flex-row w-full\"><div class=\"flex flex-col justify-center items-start sm:justify-start sm:items-center sm:flex-row gap-1 sm:gap-3 relative\"><span class=\"text-white text-xl whitespace-nowrap\">MAY . 6 . 23</span><span class=\"text-md text-dark-purple\">Providence, USA</span></div><a class=\"h-[38px] whitespace-nowrap inline-flex items-center flex-col justify-center px-6 bg-white uppercase border-2 border-transparent hover:text-white hover:bg-transparent hover:border-white transition-colors duration-200 rounded-lg shadow-xl text-purple\" href=\"https://bit.ly/Mora_TheStrand\">Buy Tickets Here</a></div></div><div class=\"mb-4 last:mb-0\" style=\"opacity:0;transform:scale(1.5) translateZ(0)\"><div class=\"flex justify-start sm:justify-between sm:items-center gap-4 pt-2 pb-8 flex-col sm:flex-row w-full\"><div class=\"flex flex-col justify-center items-start sm:justify-start sm:items-center sm:flex-row gap-1 sm:gap-3 relative\"><span class=\"text-white text-xl whitespace-nowrap\">MAY . 12 . 23</span><span class=\"text-md text-dark-purple\">Orlando, USA</span></div><a class=\"h-[38px] whitespace-nowrap inline-flex items-center flex-col justify-center px-6 bg-white uppercase border-2 border-transparent hover:text-white hover:bg-transparent hover:border-white transition-colors duration-200 rounded-lg shadow-xl text-purple\" href=\"http://moraorlando.com/\">Buy Tickets Here</a></div></div><div class=\"mb-4 last:mb-0\" style=\"opacity:0;transform:scale(1.5) translateZ(0)\"><div class=\"flex justify-start sm:justify-between sm:items-center gap-4 pt-2 pb-8 flex-col sm:flex-row w-full\"><div class=\"flex flex-col justify-center items-start sm:justify-start sm:items-center sm:flex-row gap-1 sm:gap-3 relative\"><span class=\"text-white text-xl whitespace-nowrap\">MAY . 13 . 23</span><span class=\"text-md text-dark-purple\">Miami, FL - FPL Solar Amphitheater at Bayfront Park</span></div><a class=\"h-[38px] whitespace-nowrap inline-flex items-center flex-col justify-center px-6 bg-white uppercase border-2 border-transparent hover:text-white hover:bg-transparent hover:border-white transition-colors duration-200 rounded-lg shadow-xl text-purple\" href=\"https://concerts.livenation.com/event/0D005E56E938E6BF?f_use_ras_unavailability=true&amp;f_ras_manifest_attributes=true&amp;f_tmol_prefix=true\">Buy Tickets Here</a></div></div><div class=\"mb-4 last:mb-0\" style=\"opacity:0;transform:scale(1.5) translateZ(0)\"><div class=\"flex justify-start sm:justify-between sm:items-center gap-4 pt-2 pb-8 flex-col sm:flex-row w-full\"><div class=\"flex flex-col justify-center items-start sm:justify-start sm:items-center sm:flex-row gap-1 sm:gap-3 relative\"><span class=\"text-white text-xl line-through whitespace-nowrap\">MAY . 18 . 23</span><span class=\"text-md text-dark-purple\">Houston, USA</span><div class=\"absolute sm:left-[120px] left-[3px] h-[22px] bg-red-600/80 z-10 sm:translate-y-[0] translate-y-[10px] text-white px-5 rotate-[-5deg] whitespace-nowrap\">Sold Out</div></div><a class=\"h-[38px] whitespace-nowrap inline-flex items-center flex-col justify-center px-6 bg-white uppercase border-2 border-transparent hover:text-white hover:bg-transparent hover:border-white transition-colors duration-200 rounded-lg shadow-xl text-purple\">Sold Out</a></div></div><div class=\"mb-4 last:mb-0\" style=\"opacity:0;transform:scale(1.5) translateZ(0)\"><div class=\"flex justify-start sm:justify-between sm:items-center gap-4 pt-2 pb-8 flex-col sm:flex-row w-full\"><div class=\"flex flex-col justify-center items-start sm:justify-start sm:items-center sm:flex-row gap-1 sm:gap-3 relative\"><span class=\"text-white text-xl whitespace-nowrap\">MAYO . 24 . 23</span><span class=\"text-md text-dark-purple\">Arena Marcos - Aguascalientes, México</span></div><a class=\"h-[38px] whitespace-nowrap inline-flex items-center flex-col justify-center px-6 bg-white uppercase border-2 border-transparent hover:text-white hover:bg-transparent hover:border-white transition-colors duration-200 rounded-lg shadow-xl text-purple\" href=\"http://www.showticket.com.mx/paraisomoraags\">Buy Tickets Here</a></div></div><div class=\"mb-4 last:mb-0\" style=\"opacity:0;transform:scale(1.5) translateZ(0)\"><div class=\"flex justify-start sm:justify-between sm:items-center gap-4 pt-2 pb-8 flex-col sm:flex-row w-full\"><div class=\"flex flex-col justify-center items-start sm:justify-start sm:items-center sm:flex-row gap-1 sm:gap-3 relative\"><span class=\"text-white text-xl line-through whitespace-nowrap\">MAY . 25 . 23</span><span class=\"text-md text-dark-purple\">Guadalajara, México</span><div class=\"absolute sm:left-[120px] left-[3px] h-[22px] bg-red-600/80 z-10 sm:translate-y-[0] translate-y-[10px] text-white px-5 rotate-[-5deg] whitespace-nowrap\">Sold Out</div></div><a class=\"h-[38px] whitespace-nowrap inline-flex items-center flex-col justify-center px-6 bg-white uppercase border-2 border-transparent hover:text-white hover:bg-transparent hover:border-white transition-colors duration-200 rounded-lg shadow-xl text-purple\">Sold Out</a></div></div><div class=\"mb-4 last:mb-0\" style=\"opacity:0;transform:scale(1.5) translateZ(0)\"><div class=\"flex justify-start sm:justify-between sm:items-center gap-4 pt-2 pb-8 flex-col sm:flex-row w-full\"><div class=\"flex flex-col justify-center items-start sm:justify-start sm:items-center sm:flex-row gap-1 sm:gap-3 relative\"><span class=\"text-white text-xl line-through whitespace-nowrap\">MAY . 26 . 23</span><span class=\"text-md text-dark-purple\">Ciudad de México, México</span><div class=\"absolute sm:left-[120px] left-[3px] h-[22px] bg-red-600/80 z-10 sm:translate-y-[0] translate-y-[10px] text-white px-5 rotate-[-5deg] whitespace-nowrap\">Sold Out</div></div><a class=\"h-[38px] whitespace-nowrap inline-flex items-center flex-col justify-center px-6 bg-white uppercase border-2 border-transparent hover:text-white hover:bg-transparent hover:border-white transition-colors duration-200 rounded-lg shadow-xl text-purple\">Sold Out</a></div></div><div class=\"mb-4 last:mb-0\" style=\"opacity:0;transform:scale(1.5) translateZ(0)\"><div class=\"flex justify-start sm:justify-between sm:items-center gap-4 pt-2 pb-8 flex-col sm:flex-row w-full\"><div class=\"flex flex-col justify-center items-start sm:justify-start sm:items-center sm:flex-row gap-1 sm:gap-3 relative\"><span class=\"text-white text-xl line-through whitespace-nowrap\">MAY . 27 . 23</span><span class=\"text-md text-dark-purple\">Monterrey, México</span><div class=\"absolute sm:left-[120px] left-[3px] h-[22px] bg-red-600/80 z-10 sm:translate-y-[0] translate-y-[10px] text-white px-5 rotate-[-5deg] whitespace-nowrap\">Sold Out</div></div><a class=\"h-[38px] whitespace-nowrap inline-flex items-center flex-col justify-center px-6 bg-white uppercase border-2 border-transparent hover:text-white hover:bg-transparent hover:border-white transition-colors duration-200 rounded-lg shadow-xl text-purple\">Sold Out</a></div></div><div class=\"mb-4 last:mb-0\" style=\"opacity:0;transform:scale(1.5) translateZ(0)\"><div class=\"flex justify-start sm:justify-between sm:items-center gap-4 pt-2 pb-8 flex-col sm:flex-row w-full\"><div class=\"flex flex-col justify-center items-start sm:justify-start sm:items-center sm:flex-row gap-1 sm:gap-3 relative\"><span class=\"text-white text-xl whitespace-nowrap\">JUN . 2 . 23</span><span class=\"text-md text-dark-purple\">Barcelona, Spain</span></div><a class=\"h-[38px] whitespace-nowrap inline-flex items-center flex-col justify-center px-6 bg-white uppercase border-2 border-transparent hover:text-white hover:bg-transparent hover:border-white transition-colors duration-200 rounded-lg shadow-xl text-purple\" href=\"https://www.primaverasound.com/en/tickets\">Buy Tickets Here</a></div></div><div class=\"mb-4 last:mb-0\" style=\"opacity:0;transform:scale(1.5) translateZ(0)\"><div class=\"flex justify-start sm:justify-between sm:items-center gap-4 pt-2 pb-8 flex-col sm:flex-row w-full\"><div class=\"flex flex-col justify-center items-start sm:justify-start sm:items-center sm:flex-row gap-1 sm:gap-3 relative\"><span class=\"text-white text-xl whitespace-nowrap\">JUN . 3 . 23</span><span class=\"text-md text-dark-purple\">Lecco, Italy</span></div><a class=\"h-[38px] whitespace-nowrap inline-flex items-center flex-col justify-center px-6 bg-white uppercase border-2 border-transparent hover:text-white hover:bg-transparent hover:border-white transition-colors duration-200 rounded-lg shadow-xl text-purple\" href=\"https://namelessfestival.it\">Buy Tickets Here</a></div></div><div class=\"mb-4 last:mb-0\" style=\"opacity:0;transform:scale(1.5) translateZ(0)\"><div class=\"flex justify-start sm:justify-between sm:items-center gap-4 pt-2 pb-8 flex-col sm:flex-row w-full\"><div class=\"flex flex-col justify-center items-start sm:justify-start sm:items-center sm:flex-row gap-1 sm:gap-3 relative\"><span class=\"text-white text-xl whitespace-nowrap\">JUN . 8 . 23</span><span class=\"text-md text-dark-purple\">Oporto, Portugal</span></div><a class=\"h-[38px] whitespace-nowrap inline-flex items-center flex-col justify-center px-6 bg-white uppercase border-2 border-transparent hover:text-white hover:bg-transparent hover:border-white transition-colors duration-200 rounded-lg shadow-xl text-purple\" href=\"https://www.primaverasound.com/en/tickets\">Buy Tickets Here</a></div></div><div class=\"mb-4 last:mb-0\" style=\"opacity:0;transform:scale(1.5) translateZ(0)\"><div class=\"flex justify-start sm:justify-between sm:items-center gap-4 pt-2 pb-8 flex-col sm:flex-row w-full\"><div class=\"flex flex-col justify-center items-start sm:justify-start sm:items-center sm:flex-row gap-1 sm:gap-3 relative\"><span class=\"text-white text-xl whitespace-nowrap\">JUN . 9 . 23</span><span class=\"text-md text-dark-purple\">Madrid, Spain</span></div><a class=\"h-[38px] whitespace-nowrap inline-flex items-center flex-col justify-center px-6 bg-white uppercase border-2 border-transparent hover:text-white hover:bg-transparent hover:border-white transition-colors duration-200 rounded-lg shadow-xl text-purple\" href=\"https://www.primaverasound.com/en/tickets\">Buy Tickets Here</a></div></div><div class=\"mb-4 last:mb-0\" style=\"opacity:0;transform:scale(1.5) translateZ(0)\"><div class=\"flex justify-start sm:justify-between sm:items-center gap-4 pt-2 pb-8 flex-col sm:flex-row w-full\"><div class=\"flex flex-col justify-center items-start sm:justify-start sm:items-center sm:flex-row gap-1 sm:gap-3 relative\"><span class=\"text-white text-xl whitespace-nowrap\">JUN . 16 . 23</span><span class=\"text-md text-dark-purple\">O Son Do Camiño - Santiago de Compostela, Spain</span></div><a class=\"h-[38px] whitespace-nowrap inline-flex items-center flex-col justify-center px-6 bg-white uppercase border-2 border-transparent hover:text-white hover:bg-transparent hover:border-white transition-colors duration-200 rounded-lg shadow-xl text-purple\" href=\"https://my.weezevent.com/o-son-do-camino-2023\">Buy Tickets Here</a></div></div><div class=\"mb-4 last:mb-0\" style=\"opacity:0;transform:scale(1.5) translateZ(0)\"><div class=\"flex justify-start sm:justify-between sm:items-center gap-4 pt-2 pb-8 flex-col sm:flex-row w-full\"><div class=\"flex flex-col justify-center items-start sm:justify-start sm:items-center sm:flex-row gap-1 sm:gap-3 relative\"><span class=\"text-white text-xl whitespace-nowrap\">JUN . 23 . 23</span><span class=\"text-md text-dark-purple\">Gran Canaria, Spain</span></div><a class=\"h-[38px] whitespace-nowrap inline-flex items-center flex-col justify-center px-6 bg-white uppercase border-2 border-transparent hover:text-white hover:bg-transparent hover:border-white transition-colors duration-200 rounded-lg shadow-xl text-purple\" href=\"https://www.enterticket.es/eventos/boombastic-canarias-2023-137015\">Buy Tickets Here</a></div></div><div class=\"mb-4 last:mb-0\" style=\"opacity:0;transform:scale(1.5) translateZ(0)\"><div class=\"flex justify-start sm:justify-between sm:items-center gap-4 pt-2 pb-8 flex-col sm:flex-row w-full\"><div class=\"flex flex-col justify-center items-start sm:justify-start sm:items-center sm:flex-row gap-1 sm:gap-3 relative\"><span class=\"text-white text-xl whitespace-nowrap\">JUN . 24 . 23</span><span class=\"text-md text-dark-purple\">Zuera Sound Festival - Zuera, Spain</span></div><a class=\"h-[38px] whitespace-nowrap inline-flex items-center flex-col justify-center px-6 bg-white uppercase border-2 border-transparent hover:text-white hover:bg-transparent hover:border-white transition-colors duration-200 rounded-lg shadow-xl text-purple\" href=\"https://zuerasound.com/entradas/\">Buy Tickets Here</a></div></div><div class=\"mb-4 last:mb-0\" style=\"opacity:0;transform:scale(1.5) translateZ(0)\"><div class=\"flex justify-start sm:justify-between sm:items-center gap-4 pt-2 pb-8 flex-col sm:flex-row w-full\"><div class=\"flex flex-col justify-center items-start sm:justify-start sm:items-center sm:flex-row gap-1 sm:gap-3 relative\"><span class=\"text-white text-xl whitespace-nowrap\">JUN . 25 . 23</span><span class=\"text-md text-dark-purple\">Marina D\\'Or (Oropesa del Mar), Spain</span></div><a class=\"h-[38px] whitespace-nowrap inline-flex items-center flex-col justify-center px-6 bg-white uppercase border-2 border-transparent hover:text-white hover:bg-transparent hover:border-white transition-colors duration-200 rounded-lg shadow-xl text-purple\" href=\"https://reggaetonbeachfestival.com/es/festivales/summer/marina-d-or/tickets\">Buy Tickets Here</a></div></div><div class=\"mb-4 last:mb-0\" style=\"opacity:0;transform:scale(1.5) translateZ(0)\"><div class=\"flex justify-start sm:justify-between sm:items-center gap-4 pt-2 pb-8 flex-col sm:flex-row w-full\"><div class=\"flex flex-col justify-center items-start sm:justify-start sm:items-center sm:flex-row gap-1 sm:gap-3 relative\"><span class=\"text-white text-xl whitespace-nowrap\">JUN . 29 . 23</span><span class=\"text-md text-dark-purple\">Calahorra, La Rioja, Spain</span></div><a class=\"h-[38px] whitespace-nowrap inline-flex items-center flex-col justify-center px-6 bg-white uppercase border-2 border-transparent hover:text-white hover:bg-transparent hover:border-white transition-colors duration-200 rounded-lg shadow-xl text-purple\" href=\"https://www.holika.es/entradas\">Buy Tickets Here</a></div></div><div class=\"mb-4 last:mb-0\" style=\"opacity:0;transform:scale(1.5) translateZ(0)\"><div class=\"flex justify-start sm:justify-between sm:items-center gap-4 pt-2 pb-8 flex-col sm:flex-row w-full\"><div class=\"flex flex-col justify-center items-start sm:justify-start sm:items-center sm:flex-row gap-1 sm:gap-3 relative\"><span class=\"text-white text-xl whitespace-nowrap\">JUN . 30 . 23</span><span class=\"text-md text-dark-purple\">Sevilla, Spain</span></div><a class=\"h-[38px] whitespace-nowrap inline-flex items-center flex-col justify-center px-6 bg-white uppercase border-2 border-transparent hover:text-white hover:bg-transparent hover:border-white transition-colors duration-200 rounded-lg shadow-xl text-purple\" href=\"https://purolatino.es/sevilla/entradas/\">Buy Tickets Here</a></div></div><div class=\"mb-4 last:mb-0\" style=\"opacity:0;transform:scale(1.5) translateZ(0)\"><div class=\"flex justify-start sm:justify-between sm:items-center gap-4 pt-2 pb-8 flex-col sm:flex-row w-full\"><div class=\"flex flex-col justify-center items-start sm:justify-start sm:items-center sm:flex-row gap-1 sm:gap-3 relative\"><span class=\"text-white text-xl whitespace-nowrap\">Jul . 1 . 23</span><span class=\"text-md text-dark-purple\">Valencia, Spain</span></div><a class=\"h-[38px] whitespace-nowrap inline-flex items-center flex-col justify-center px-6 bg-white uppercase border-2 border-transparent hover:text-white hover:bg-transparent hover:border-white transition-colors duration-200 rounded-lg shadow-xl text-purple\" href=\"https://bigsoundfestival.com/pages/abonos/abonos.php\">Buy Tickets Here</a></div></div><div class=\"mb-4 last:mb-0\" style=\"opacity:0;transform:scale(1.5) translateZ(0)\"><div class=\"flex justify-start sm:justify-between sm:items-center gap-4 pt-2 pb-8 flex-col sm:flex-row w-full\"><div class=\"flex flex-col justify-center items-start sm:justify-start sm:items-center sm:flex-row gap-1 sm:gap-3 relative\"><span class=\"text-white text-xl whitespace-nowrap\">Jul . 2 . 23</span><span class=\"text-md text-dark-purple\">Tenerife, Spain</span></div><a class=\"h-[38px] whitespace-nowrap inline-flex items-center flex-col justify-center px-6 bg-white uppercase border-2 border-transparent hover:text-white hover:bg-transparent hover:border-white transition-colors duration-200 rounded-lg shadow-xl text-purple\" href=\"https://reggaetonbeachfestival.com/en/festivales/summer/tenerife\">Buy Tickets Here</a></div></div><div class=\"mb-4 last:mb-0\" style=\"opacity:0;transform:scale(1.5) translateZ(0)\"><div class=\"flex justify-start sm:justify-between sm:items-center gap-4 pt-2 pb-8 flex-col sm:flex-row w-full\"><div class=\"flex flex-col justify-center items-start sm:justify-start sm:items-center sm:flex-row gap-1 sm:gap-3 relative\"><span class=\"text-white text-xl whitespace-nowrap\">Jul . 6 . 23</span><span class=\"text-md text-dark-purple\">Bahía Sound Festival - Cádiz, Spain</span></div><a class=\"h-[38px] whitespace-nowrap inline-flex items-center flex-col justify-center px-6 bg-white uppercase border-2 border-transparent hover:text-white hover:bg-transparent hover:border-white transition-colors duration-200 rounded-lg shadow-xl text-purple\" href=\"https://www.enterticket.es/eventos/bahia-sound-latin-urban-fest-mora-cano-lennis-rodriguez-240638\">Buy Tickets Here</a></div></div><div class=\"mb-4 last:mb-0\" style=\"opacity:0;transform:scale(1.5) translateZ(0)\"><div class=\"flex justify-start sm:justify-between sm:items-center gap-4 pt-2 pb-8 flex-col sm:flex-row w-full\"><div class=\"flex flex-col justify-center items-start sm:justify-start sm:items-center sm:flex-row gap-1 sm:gap-3 relative\"><span class=\"text-white text-xl whitespace-nowrap\">Jul . 8 . 23</span><span class=\"text-md text-dark-purple\">Reggaeton Beach Festival - Marbella, Spain</span></div><a class=\"h-[38px] whitespace-nowrap inline-flex items-center flex-col justify-center px-6 bg-white uppercase border-2 border-transparent hover:text-white hover:bg-transparent hover:border-white transition-colors duration-200 rounded-lg shadow-xl text-purple\" href=\"https://reggaetonbeachfestival.com/es/festivales/summer/marbella/tickets\">Buy Tickets Here</a></div></div><div class=\"mb-4 last:mb-0\" style=\"opacity:0;transform:scale(1.5) translateZ(0)\"><div class=\"flex justify-start sm:justify-between sm:items-center gap-4 pt-2 pb-8 flex-col sm:flex-row w-full\"><div class=\"flex flex-col justify-center items-start sm:justify-start sm:items-center sm:flex-row gap-1 sm:gap-3 relative\"><span class=\"text-white text-xl whitespace-nowrap\">Jul . 9 . 23</span><span class=\"text-md text-dark-purple\">Live Club - Punta Umbría, Spain</span></div><a class=\"h-[38px] whitespace-nowrap inline-flex items-center flex-col justify-center px-6 bg-white uppercase border-2 border-transparent hover:text-white hover:bg-transparent hover:border-white transition-colors duration-200 rounded-lg shadow-xl text-purple\" href=\"https://www.fourvenues.com/es/live-punta-umbria/events/mora-en-concierto-09-07-2023-35VS\">Buy Tickets Here</a></div></div><div class=\"mb-4 last:mb-0\" style=\"opacity:0;transform:scale(1.5) translateZ(0)\"><div class=\"flex justify-start sm:justify-between sm:items-center gap-4 pt-2 pb-8 flex-col sm:flex-row w-full\"><div class=\"flex flex-col justify-center items-start sm:justify-start sm:items-center sm:flex-row gap-1 sm:gap-3 relative\"><span class=\"text-white text-xl whitespace-nowrap\">Jul . 16 . 23</span><span class=\"text-md text-dark-purple\">Mallorca, Spain</span></div><a class=\"h-[38px] whitespace-nowrap inline-flex items-center flex-col justify-center px-6 bg-white uppercase border-2 border-transparent hover:text-white hover:bg-transparent hover:border-white transition-colors duration-200 rounded-lg shadow-xl text-purple\" href=\"https://reggaetonbeachfestival.com/es/festivales/summer/mallorca/tickets\">Buy Tickets Here</a></div></div><div class=\"mb-4 last:mb-0\" style=\"opacity:0;transform:scale(1.5) translateZ(0)\"><div class=\"flex justify-start sm:justify-between sm:items-center gap-4 pt-2 pb-8 flex-col sm:flex-row w-full\"><div class=\"flex flex-col justify-center items-start sm:justify-start sm:items-center sm:flex-row gap-1 sm:gap-3 relative\"><span class=\"text-white text-xl whitespace-nowrap\">Jul . 20 . 23</span><span class=\"text-md text-dark-purple\">Gijon, Asturias, Spain</span></div><a class=\"h-[38px] whitespace-nowrap inline-flex items-center flex-col justify-center px-6 bg-white uppercase border-2 border-transparent hover:text-white hover:bg-transparent hover:border-white transition-colors duration-200 rounded-lg shadow-xl text-purple\" href=\"https://www.enterticket.es/eventos/boombastic-asturias-2023-118884\">Buy Tickets Here</a></div></div><div class=\"mb-4 last:mb-0\" style=\"opacity:0;transform:scale(1.5) translateZ(0)\"><div class=\"flex justify-start sm:justify-between sm:items-center gap-4 pt-2 pb-8 flex-col sm:flex-row w-full\"><div class=\"flex flex-col justify-center items-start sm:justify-start sm:items-center sm:flex-row gap-1 sm:gap-3 relative\"><span class=\"text-white text-xl whitespace-nowrap\">Jul . 21 . 23</span><span class=\"text-md text-dark-purple\">Torremolinos, Spain</span></div><a class=\"h-[38px] whitespace-nowrap inline-flex items-center flex-col justify-center px-6 bg-white uppercase border-2 border-transparent hover:text-white hover:bg-transparent hover:border-white transition-colors duration-200 rounded-lg shadow-xl text-purple\" href=\"https://purolatino.es/torremolinos/entradas/\">Buy Tickets Here</a></div></div><div class=\"mb-4 last:mb-0\" style=\"opacity:0;transform:scale(1.5) translateZ(0)\"><div class=\"flex justify-start sm:justify-between sm:items-center gap-4 pt-2 pb-8 flex-col sm:flex-row w-full\"><div class=\"flex flex-col justify-center items-start sm:justify-start sm:items-center sm:flex-row gap-1 sm:gap-3 relative\"><span class=\"text-white text-xl whitespace-nowrap\">Jul . 23 . 23</span><span class=\"text-md text-dark-purple\">Zevra Festival - Cullera, Spain</span></div><a class=\"h-[38px] whitespace-nowrap inline-flex items-center flex-col justify-center px-6 bg-white uppercase border-2 border-transparent hover:text-white hover:bg-transparent hover:border-white transition-colors duration-200 rounded-lg shadow-xl text-purple\" href=\"https://www.zevrafestival.com/entradas.php\">Buy Tickets Here</a></div></div><div class=\"mb-4 last:mb-0\" style=\"opacity:0;transform:scale(1.5) translateZ(0)\"><div class=\"flex justify-start sm:justify-between sm:items-center gap-4 pt-2 pb-8 flex-col sm:flex-row w-full\"><div class=\"flex flex-col justify-center items-start sm:justify-start sm:items-center sm:flex-row gap-1 sm:gap-3 relative\"><span class=\"text-white text-xl whitespace-nowrap\">Jul . 28 . 23</span><span class=\"text-md text-dark-purple\">San Javier, Spain</span></div><a class=\"h-[38px] whitespace-nowrap inline-flex items-center flex-col justify-center px-6 bg-white uppercase border-2 border-transparent hover:text-white hover:bg-transparent hover:border-white transition-colors duration-200 rounded-lg shadow-xl text-purple\" href=\"https://www.fanfutura.com/entradas\">Buy Tickets Here</a></div></div><div class=\"mb-4 last:mb-0\" style=\"opacity:0;transform:scale(1.5) translateZ(0)\"><div class=\"flex justify-start sm:justify-between sm:items-center gap-4 pt-2 pb-8 flex-col sm:flex-row w-full\"><div class=\"flex flex-col justify-center items-start sm:justify-start sm:items-center sm:flex-row gap-1 sm:gap-3 relative\"><span class=\"text-white text-xl whitespace-nowrap\">Jul . 30 . 23</span><span class=\"text-md text-dark-purple\">Santander, Spain</span></div><a class=\"h-[38px] whitespace-nowrap inline-flex items-center flex-col justify-center px-6 bg-white uppercase border-2 border-transparent hover:text-white hover:bg-transparent hover:border-white transition-colors duration-200 rounded-lg shadow-xl text-purple\" href=\"https://reggaetonbeachfestival.com/es/festivales/summer/santander/tickets\">Buy Tickets Here</a></div></div></div></div></div><div id=\"estela\" class=\"relative font-sans font-black uppercase md:pb-[120px] max-w-full overflow-hidden select-none shadow-[0_0_100px_100px_#423a2e] md:shadow-[0_0_200px_200px_#443b30]\"><div class=\"relative pt-[80px] mx-auto md:border-2 border-white/10 md:rounded-3xl overflow-hidden max-w-[690px]\"><img alt=\"star\" srcset=\"/_next/image?url=%2F_next%2Fstatic%2Fmedia%2Fstar.98e45ce0.png&amp;w=128&amp;q=75 1x, /_next/image?url=%2F_next%2Fstatic%2Fmedia%2Fstar.98e45ce0.png&amp;w=256&amp;q=75 2x\" src=\"/_next/image?url=%2F_next%2Fstatic%2Fmedia%2Fstar.98e45ce0.png&amp;w=256&amp;q=75\" width=\"101\" height=\"164\" decoding=\"async\" data-nimg=\"1\" class=\"absolute z-[4] bottom-[35%] right-[2%] opacity-70 w-[10%] animate-blink\" loading=\"lazy\" style=\"color:transparent\"><img alt=\"star\" srcset=\"/_next/image?url=%2F_next%2Fstatic%2Fmedia%2Fstar.98e45ce0.png&amp;w=128&amp;q=75 1x, /_next/image?url=%2F_next%2Fstatic%2Fmedia%2Fstar.98e45ce0.png&amp;w=256&amp;q=75 2x\" src=\"/_next/image?url=%2F_next%2Fstatic%2Fmedia%2Fstar.98e45ce0.png&amp;w=256&amp;q=75\" width=\"101\" height=\"164\" decoding=\"async\" data-nimg=\"1\" class=\"absolute z-[4] bottom-[25%] left-[15%] opacity-70 w-[10%] animate-blink-delay-600\" loading=\"lazy\" style=\"color:transparent\"><img alt=\"star\" srcset=\"/_next/image?url=%2F_next%2Fstatic%2Fmedia%2Fstar.98e45ce0.png&amp;w=128&amp;q=75 1x, /_next/image?url=%2F_next%2Fstatic%2Fmedia%2Fstar.98e45ce0.png&amp;w=256&amp;q=75 2x\" src=\"/_next/image?url=%2F_next%2Fstatic%2Fmedia%2Fstar.98e45ce0.png&amp;w=256&amp;q=75\" width=\"101\" height=\"164\" decoding=\"async\" data-nimg=\"1\" class=\"absolute z-[4] bottom-[65%] left-[22%] opacity-70 w-[10%] animate-blink-delay-1600\" loading=\"lazy\" style=\"color:transparent\"><img alt=\"star\" srcset=\"/_next/image?url=%2F_next%2Fstatic%2Fmedia%2Fstar.98e45ce0.png&amp;w=128&amp;q=75 1x, /_next/image?url=%2F_next%2Fstatic%2Fmedia%2Fstar.98e45ce0.png&amp;w=256&amp;q=75 2x\" src=\"/_next/image?url=%2F_next%2Fstatic%2Fmedia%2Fstar.98e45ce0.png&amp;w=256&amp;q=75\" width=\"101\" height=\"164\" decoding=\"async\" data-nimg=\"1\" class=\"absolute z-[4] bottom-[55%] right-[2%] opacity-70 w-[10%] animate-blink-delay-300\" loading=\"lazy\" style=\"color:transparent\"><img alt=\"pop\" srcset=\"/_next/image?url=%2F_next%2Fstatic%2Fmedia%2Fpop.0681b541.png&amp;w=256&amp;q=75 1x, /_next/image?url=%2F_next%2Fstatic%2Fmedia%2Fpop.0681b541.png&amp;w=640&amp;q=75 2x\" src=\"/_next/image?url=%2F_next%2Fstatic%2Fmedia%2Fpop.0681b541.png&amp;w=640&amp;q=75\" width=\"243\" height=\"172\" decoding=\"async\" data-nimg=\"1\" class=\"absolute z-[4] bottom-[65%] left-[2%] opacity-70 w-[20%] animate-hover-slow\" loading=\"lazy\" style=\"color:transparent\"><img alt=\"spring\" srcset=\"/_next/image?url=%2F_next%2Fstatic%2Fmedia%2Fspring.af016584.png&amp;w=256&amp;q=75 1x, /_next/image?url=%2F_next%2Fstatic%2Fmedia%2Fspring.af016584.png&amp;w=640&amp;q=75 2x\" src=\"/_next/image?url=%2F_next%2Fstatic%2Fmedia%2Fspring.af016584.png&amp;w=640&amp;q=75\" width=\"229\" height=\"176\" decoding=\"async\" data-nimg=\"1\" class=\"absolute z-[4] bottom-[25%] left-[8%] opacity-70 w-[20%] animate-hover-slower\" loading=\"lazy\" style=\"color:transparent\"><img alt=\"coin\" srcset=\"/_next/image?url=%2F_next%2Fstatic%2Fmedia%2Fcoin.d64be7f9.png&amp;w=256&amp;q=75 1x, /_next/image?url=%2F_next%2Fstatic%2Fmedia%2Fcoin.d64be7f9.png&amp;w=640&amp;q=75 2x\" src=\"/_next/image?url=%2F_next%2Fstatic%2Fmedia%2Fcoin.d64be7f9.png&amp;w=640&amp;q=75\" width=\"228\" height=\"170\" decoding=\"async\" data-nimg=\"1\" class=\"absolute z-[4] bottom-[65%] right-[2%] opacity-70 w-[20%] animate-hover\" loading=\"lazy\" style=\"color:transparent\"><img alt=\"smiley\" srcset=\"/_next/image?url=%2F_next%2Fstatic%2Fmedia%2Fsmiley.f2926d35.png&amp;w=256&amp;q=75 1x, /_next/image?url=%2F_next%2Fstatic%2Fmedia%2Fsmiley.f2926d35.png&amp;w=640&amp;q=75 2x\" src=\"/_next/image?url=%2F_next%2Fstatic%2Fmedia%2Fsmiley.f2926d35.png&amp;w=640&amp;q=75\" width=\"221\" height=\"160\" decoding=\"async\" data-nimg=\"1\" class=\"absolute z-[4] bottom-[35%] right-[5%] opacity-70 w-[20%] animate-hover-slow\" loading=\"lazy\" style=\"color:transparent\"><img alt=\"artist image\" srcset=\"/_next/image?url=%2F_next%2Fstatic%2Fmedia%2Fartist.562e05f3.png&amp;w=1080&amp;q=75 1x, /_next/image?url=%2F_next%2Fstatic%2Fmedia%2Fartist.562e05f3.png&amp;w=2048&amp;q=75 2x\" src=\"/_next/image?url=%2F_next%2Fstatic%2Fmedia%2Fartist.562e05f3.png&amp;w=2048&amp;q=75\" width=\"969\" height=\"892\" decoding=\"async\" data-nimg=\"1\" class=\"absolute z-[4] bottom-0 left-1/2 -translate-x-1/2 w-full\" loading=\"lazy\" style=\"color:transparent\"><div class=\"absolute z-[3] bottom-0 left-1/2 -translate-x-1/2 w-full flex items-center justify-center\"><img alt=\"portal image\" srcset=\"/_next/image?url=%2F_next%2Fstatic%2Fmedia%2Fportal.a55f11a0.webp&amp;w=640&amp;q=75 1x, /_next/image?url=%2F_next%2Fstatic%2Fmedia%2Fportal.a55f11a0.webp&amp;w=1200&amp;q=75 2x\" src=\"/_next/image?url=%2F_next%2Fstatic%2Fmedia%2Fportal.a55f11a0.webp&amp;w=1200&amp;q=75\" width=\"541\" height=\"461\" decoding=\"async\" data-nimg=\"1\" class=\"animate-spin-slow w-full blur-[2px]\" loading=\"lazy\" style=\"color:transparent\"></div><div class=\"absolute z-[2] bottom-0 left-1/2 -translate-x-1/2 w-full flex items-center justify-center  scale-90\"><img alt=\"squiggles image\" srcset=\"/_next/image?url=%2F_next%2Fstatic%2Fmedia%2Fscribble.9e1bed4b.webp&amp;w=640&amp;q=75 1x, /_next/image?url=%2F_next%2Fstatic%2Fmedia%2Fscribble.9e1bed4b.webp&amp;w=1080&amp;q=75 2x\" src=\"/_next/image?url=%2F_next%2Fstatic%2Fmedia%2Fscribble.9e1bed4b.webp&amp;w=1080&amp;q=75\" width=\"539\" height=\"463\" decoding=\"async\" data-nimg=\"1\" class=\"animate-spin-slower w-full blur-[4px]\" loading=\"lazy\" style=\"color:transparent\"></div><img alt=\"alt image\" srcset=\"/_next/image?url=%2F_next%2Fstatic%2Fmedia%2Falt-header-bg.b287a24a.png&amp;w=1080&amp;q=75 1x, /_next/image?url=%2F_next%2Fstatic%2Fmedia%2Falt-header-bg.b287a24a.png&amp;w=3840&amp;q=75 2x\" src=\"/_next/image?url=%2F_next%2Fstatic%2Fmedia%2Falt-header-bg.b287a24a.png&amp;w=3840&amp;q=75\" width=\"1080\" height=\"921\" decoding=\"async\" data-nimg=\"1\" class=\"w-full relative z-[1]\" loading=\"lazy\" style=\"color:transparent\"></div><div class=\"max-w-[690px] mx-auto p-5 relative\"><div class=\"relative z-[2]\"><h1 class=\"text-center text-white text-4xl sm:text-6xl py-8 mb-6 md:mb-14\">Get Tickets Now</h1><div class=\"mb-4 last:mb-0\" style=\"opacity:0;transform:scale(1.5) translateZ(0)\"><div class=\"flex justify-start sm:justify-between sm:items-center gap-4 pt-2 pb-8 flex-col sm:flex-row w-full\"><div class=\"flex flex-col justify-center items-start sm:justify-start sm:items-center sm:flex-row gap-1 sm:gap-3 relative\"><span class=\"text-white text-xl line-through whitespace-nowrap\">AGO . 24 . 23</span><span class=\"text-md text-white/70\">Mérida, México </span><div class=\"absolute sm:left-[120px] left-[3px] h-[22px] bg-red-600/80 z-10 sm:translate-y-[0] translate-y-[10px] text-white px-5 rotate-[-5deg] whitespace-nowrap\">Sold Out</div></div><a class=\"h-[38px] whitespace-nowrap inline-flex items-center flex-col justify-center px-6 bg-white uppercase border-2 border-transparent hover:text-white hover:bg-transparent hover:border-white transition-colors duration-200 rounded-lg shadow-xl text-dark-purple\">Sold Out</a></div></div><div class=\"mb-4 last:mb-0\" style=\"opacity:0;transform:scale(1.5) translateZ(0)\"><div class=\"flex justify-start sm:justify-between sm:items-center gap-4 pt-2 pb-8 flex-col sm:flex-row w-full\"><div class=\"flex flex-col justify-center items-start sm:justify-start sm:items-center sm:flex-row gap-1 sm:gap-3 relative\"><span class=\"text-white text-xl whitespace-nowrap\">AGO . 25 . 23</span><span class=\"text-md text-white/70\">Leon, México</span></div><a class=\"h-[38px] whitespace-nowrap inline-flex items-center flex-col justify-center px-6 bg-white uppercase border-2 border-transparent hover:text-white hover:bg-transparent hover:border-white transition-colors duration-200 rounded-lg shadow-xl text-dark-purple\" href=\"https://eventos.ticketone.mx/eventperformances.asp?evt=415\">Buy Tickets Here</a></div></div><div class=\"mb-4 last:mb-0\" style=\"opacity:0;transform:scale(1.5) translateZ(0)\"><div class=\"flex justify-start sm:justify-between sm:items-center gap-4 pt-2 pb-8 flex-col sm:flex-row w-full\"><div class=\"flex flex-col justify-center items-start sm:justify-start sm:items-center sm:flex-row gap-1 sm:gap-3 relative\"><span class=\"text-white text-xl whitespace-nowrap\">AGO . 26 . 23</span><span class=\"text-md text-white/70\">Puebla, México</span></div><a class=\"h-[38px] whitespace-nowrap inline-flex items-center flex-col justify-center px-6 bg-white uppercase border-2 border-transparent hover:text-white hover:bg-transparent hover:border-white transition-colors duration-200 rounded-lg shadow-xl text-dark-purple\" href=\"https://www.eticket.mx/masinformacion.aspx?idevento=30918\">Buy Tickets Here</a></div></div><div class=\"mb-4 last:mb-0\" style=\"opacity:0;transform:scale(1.5) translateZ(0)\"><div class=\"flex justify-start sm:justify-between sm:items-center gap-4 pt-2 pb-8 flex-col sm:flex-row w-full\"><div class=\"flex flex-col justify-center items-start sm:justify-start sm:items-center sm:flex-row gap-1 sm:gap-3 relative\"><span class=\"text-white text-xl whitespace-nowrap\">AGO . 27 . 23</span><span class=\"text-md text-white/70\">Queretaro, México</span></div><a class=\"h-[38px] whitespace-nowrap inline-flex items-center flex-col justify-center px-6 bg-white uppercase border-2 border-transparent hover:text-white hover:bg-transparent hover:border-white transition-colors duration-200 rounded-lg shadow-xl text-dark-purple\" href=\"https://eventos.ticketone.mx/eventperformances.asp?evt=414\">Buy Tickets Here</a></div></div><div class=\"mb-4 last:mb-0\" style=\"opacity:0;transform:scale(1.5) translateZ(0)\"><div class=\"flex justify-start sm:justify-between sm:items-center gap-4 pt-2 pb-8 flex-col sm:flex-row w-full\"><div class=\"flex flex-col justify-center items-start sm:justify-start sm:items-center sm:flex-row gap-1 sm:gap-3 relative\"><span class=\"text-white text-xl whitespace-nowrap\">AGO . 30 . 23</span><span class=\"text-md text-white/70\">Torreón, México</span></div><a class=\"h-[38px] whitespace-nowrap inline-flex items-center flex-col justify-center px-6 bg-white uppercase border-2 border-transparent hover:text-white hover:bg-transparent hover:border-white transition-colors duration-200 rounded-lg shadow-xl text-dark-purple\" href=\"https://boletea.com.mx/eventperformances.asp?evt=2256\">Buy Tickets Here</a></div></div><div class=\"mb-4 last:mb-0\" style=\"opacity:0;transform:scale(1.5) translateZ(0)\"><div class=\"flex justify-start sm:justify-between sm:items-center gap-4 pt-2 pb-8 flex-col sm:flex-row w-full\"><div class=\"flex flex-col justify-center items-start sm:justify-start sm:items-center sm:flex-row gap-1 sm:gap-3 relative\"><span class=\"text-white text-xl line-through whitespace-nowrap\">AGO . 31 . 23</span><span class=\"text-md text-white/70\">Guadalajara Auditorio Telmex</span><div class=\"absolute sm:left-[120px] left-[3px] h-[22px] bg-red-600/80 z-10 sm:translate-y-[0] translate-y-[10px] text-white px-5 rotate-[-5deg] whitespace-nowrap\">Sold Out</div></div><a class=\"h-[38px] whitespace-nowrap inline-flex items-center flex-col justify-center px-6 bg-white uppercase border-2 border-transparent hover:text-white hover:bg-transparent hover:border-white transition-colors duration-200 rounded-lg shadow-xl text-dark-purple\">Sold Out</a></div></div><div class=\"mb-4 last:mb-0\" style=\"opacity:0;transform:scale(1.5) translateZ(0)\"><div class=\"flex justify-start sm:justify-between sm:items-center gap-4 pt-2 pb-8 flex-col sm:flex-row w-full\"><div class=\"flex flex-col justify-center items-start sm:justify-start sm:items-center sm:flex-row gap-1 sm:gap-3 relative\"><span class=\"text-white text-xl line-through whitespace-nowrap\">SEPT . 1 . 23</span><span class=\"text-md text-white/70\">Ciudad de México, Pepsi Center</span><div class=\"absolute sm:left-[120px] left-[3px] h-[22px] bg-red-600/80 z-10 sm:translate-y-[0] translate-y-[10px] text-white px-5 rotate-[-5deg] whitespace-nowrap\">Sold Out</div></div><a class=\"h-[38px] whitespace-nowrap inline-flex items-center flex-col justify-center px-6 bg-white uppercase border-2 border-transparent hover:text-white hover:bg-transparent hover:border-white transition-colors duration-200 rounded-lg shadow-xl text-dark-purple\">Sold Out</a></div></div><div class=\"mb-4 last:mb-0\" style=\"opacity:0;transform:scale(1.5) translateZ(0)\"><div class=\"flex justify-start sm:justify-between sm:items-center gap-4 pt-2 pb-8 flex-col sm:flex-row w-full\"><div class=\"flex flex-col justify-center items-start sm:justify-start sm:items-center sm:flex-row gap-1 sm:gap-3 relative\"><span class=\"text-white text-xl line-through whitespace-nowrap\">SEPT . 2 . 23</span><span class=\"text-md text-white/70\">Monterrey, México, Auditorio Banamex</span><div class=\"absolute sm:left-[120px] left-[3px] h-[22px] bg-red-600/80 z-10 sm:translate-y-[0] translate-y-[10px] text-white px-5 rotate-[-5deg] whitespace-nowrap\">Sold Out</div></div><a class=\"h-[38px] whitespace-nowrap inline-flex items-center flex-col justify-center px-6 bg-white uppercase border-2 border-transparent hover:text-white hover:bg-transparent hover:border-white transition-colors duration-200 rounded-lg shadow-xl text-dark-purple\">Sold Out</a></div></div><div class=\"mb-4 last:mb-0\" style=\"opacity:0;transform:scale(1.5) translateZ(0)\"><div class=\"flex justify-start sm:justify-between sm:items-center gap-4 pt-2 pb-8 flex-col sm:flex-row w-full\"><div class=\"flex flex-col justify-center items-start sm:justify-start sm:items-center sm:flex-row gap-1 sm:gap-3 relative\"><span class=\"text-white text-xl line-through whitespace-nowrap\">SEPT . 3 . 23</span><span class=\"text-md text-white/70\">Ciudad De Mexico, Pepsi Center</span><div class=\"absolute sm:left-[120px] left-[3px] h-[22px] bg-red-600/80 z-10 sm:translate-y-[0] translate-y-[10px] text-white px-5 rotate-[-5deg] whitespace-nowrap\">Sold Out</div></div><a class=\"h-[38px] whitespace-nowrap inline-flex items-center flex-col justify-center px-6 bg-white uppercase border-2 border-transparent hover:text-white hover:bg-transparent hover:border-white transition-colors duration-200 rounded-lg shadow-xl text-dark-purple\">Sold Out</a></div></div><div class=\"mb-4 last:mb-0\" style=\"opacity:0;transform:scale(1.5) translateZ(0)\"><div class=\"flex justify-start sm:justify-between sm:items-center gap-4 pt-2 pb-8 flex-col sm:flex-row w-full\"><div class=\"flex flex-col justify-center items-start sm:justify-start sm:items-center sm:flex-row gap-1 sm:gap-3 relative\"><span class=\"text-white text-xl whitespace-nowrap\">SEPT . 6 . 23</span><span class=\"text-md text-white/70\">Mazatlán, México</span></div><a class=\"h-[38px] whitespace-nowrap inline-flex items-center flex-col justify-center px-6 bg-white uppercase border-2 border-transparent hover:text-white hover:bg-transparent hover:border-white transition-colors duration-200 rounded-lg shadow-xl text-dark-purple\" href=\"https://www.ticketstar.com.mx/Evento/Info/410-2666\">Buy Tickets Here</a></div></div><div class=\"mb-4 last:mb-0\" style=\"opacity:0;transform:scale(1.5) translateZ(0)\"><div class=\"flex justify-start sm:justify-between sm:items-center gap-4 pt-2 pb-8 flex-col sm:flex-row w-full\"><div class=\"flex flex-col justify-center items-start sm:justify-start sm:items-center sm:flex-row gap-1 sm:gap-3 relative\"><span class=\"text-white text-xl whitespace-nowrap\">SEPT . 7 . 23</span><span class=\"text-md text-white/70\">Cullacán, México</span></div><a class=\"h-[38px] whitespace-nowrap inline-flex items-center flex-col justify-center px-6 bg-white uppercase border-2 border-transparent hover:text-white hover:bg-transparent hover:border-white transition-colors duration-200 rounded-lg shadow-xl text-dark-purple\" href=\"https://www.ticketstar.com.mx/Evento/Info/412-2667\">Buy Tickets Here</a></div></div><div class=\"mb-4 last:mb-0\" style=\"opacity:0;transform:scale(1.5) translateZ(0)\"><div class=\"flex justify-start sm:justify-between sm:items-center gap-4 pt-2 pb-8 flex-col sm:flex-row w-full\"><div class=\"flex flex-col justify-center items-start sm:justify-start sm:items-center sm:flex-row gap-1 sm:gap-3 relative\"><span class=\"text-white text-xl whitespace-nowrap\">SEPT . 8 . 23</span><span class=\"text-md text-white/70\">Los Mochis, México</span></div><a class=\"h-[38px] whitespace-nowrap inline-flex items-center flex-col justify-center px-6 bg-white uppercase border-2 border-transparent hover:text-white hover:bg-transparent hover:border-white transition-colors duration-200 rounded-lg shadow-xl text-dark-purple\" href=\"https://www.ticketstar.com.mx/Evento/Info/413-2668\">Buy Tickets Here</a></div></div><div class=\"mb-4 last:mb-0\" style=\"opacity:0;transform:scale(1.5) translateZ(0)\"><div class=\"flex justify-start sm:justify-between sm:items-center gap-4 pt-2 pb-8 flex-col sm:flex-row w-full\"><div class=\"flex flex-col justify-center items-start sm:justify-start sm:items-center sm:flex-row gap-1 sm:gap-3 relative\"><span class=\"text-white text-xl whitespace-nowrap\">SEPT . 9 . 23</span><span class=\"text-md text-white/70\">Hermosillo, México</span></div><a class=\"h-[38px] whitespace-nowrap inline-flex items-center flex-col justify-center px-6 bg-white uppercase border-2 border-transparent hover:text-white hover:bg-transparent hover:border-white transition-colors duration-200 rounded-lg shadow-xl text-dark-purple\" href=\"https://web.xticket.mx/index.php?r=venta/boletos&amp;id=378&amp;eventonombre=MORA------------------------------------------------ESTELA-TOUR\">Buy Tickets Here</a></div></div><div class=\"mb-4 last:mb-0\" style=\"opacity:0;transform:scale(1.5) translateZ(0)\"><div class=\"flex justify-start sm:justify-between sm:items-center gap-4 pt-2 pb-8 flex-col sm:flex-row w-full\"><div class=\"flex flex-col justify-center items-start sm:justify-start sm:items-center sm:flex-row gap-1 sm:gap-3 relative\"><span class=\"text-white text-xl whitespace-nowrap\">SEPT . 10 . 23</span><span class=\"text-md text-white/70\">Tijuana, México</span></div><a class=\"h-[38px] whitespace-nowrap inline-flex items-center flex-col justify-center px-6 bg-white uppercase border-2 border-transparent hover:text-white hover:bg-transparent hover:border-white transition-colors duration-200 rounded-lg shadow-xl text-dark-purple\">Tickets Coming Soon</a></div></div><div class=\"mb-4 last:mb-0\" style=\"opacity:0;transform:scale(1.5) translateZ(0)\"><div class=\"flex justify-start sm:justify-between sm:items-center gap-4 pt-2 pb-8 flex-col sm:flex-row w-full\"><div class=\"flex flex-col justify-center items-start sm:justify-start sm:items-center sm:flex-row gap-1 sm:gap-3 relative\"><span class=\"text-white text-xl whitespace-nowrap\">SEPT . 14 . 23</span><span class=\"text-md text-white/70\">Managua, Nicaragua</span></div><a class=\"h-[38px] whitespace-nowrap inline-flex items-center flex-col justify-center px-6 bg-white uppercase border-2 border-transparent hover:text-white hover:bg-transparent hover:border-white transition-colors duration-200 rounded-lg shadow-xl text-dark-purple\">Tickets Coming Soon</a></div></div><div class=\"mb-4 last:mb-0\" style=\"opacity:0;transform:scale(1.5) translateZ(0)\"><div class=\"flex justify-start sm:justify-between sm:items-center gap-4 pt-2 pb-8 flex-col sm:flex-row w-full\"><div class=\"flex flex-col justify-center items-start sm:justify-start sm:items-center sm:flex-row gap-1 sm:gap-3 relative\"><span class=\"text-white text-xl whitespace-nowrap\">SEPT . 15 . 23</span><span class=\"text-md text-white/70\">San José, Costa Rica</span></div><a class=\"h-[38px] whitespace-nowrap inline-flex items-center flex-col justify-center px-6 bg-white uppercase border-2 border-transparent hover:text-white hover:bg-transparent hover:border-white transition-colors duration-200 rounded-lg shadow-xl text-dark-purple\">Tickets Coming Soon</a></div></div><div class=\"mb-4 last:mb-0\" style=\"opacity:0;transform:scale(1.5) translateZ(0)\"><div class=\"flex justify-start sm:justify-between sm:items-center gap-4 pt-2 pb-8 flex-col sm:flex-row w-full\"><div class=\"flex flex-col justify-center items-start sm:justify-start sm:items-center sm:flex-row gap-1 sm:gap-3 relative\"><span class=\"text-white text-xl whitespace-nowrap\">SEPT . 16 . 23</span><span class=\"text-md text-white/70\">Ciudad de Panamá, Panamá</span></div><a class=\"h-[38px] whitespace-nowrap inline-flex items-center flex-col justify-center px-6 bg-white uppercase border-2 border-transparent hover:text-white hover:bg-transparent hover:border-white transition-colors duration-200 rounded-lg shadow-xl text-dark-purple\">Tickets Coming Soon</a></div></div><div class=\"mb-4 last:mb-0\" style=\"opacity:0;transform:scale(1.5) translateZ(0)\"><div class=\"flex justify-start sm:justify-between sm:items-center gap-4 pt-2 pb-8 flex-col sm:flex-row w-full\"><div class=\"flex flex-col justify-center items-start sm:justify-start sm:items-center sm:flex-row gap-1 sm:gap-3 relative\"><span class=\"text-white text-xl whitespace-nowrap\">SEPT . 22 . 23</span><span class=\"text-md text-white/70\">Santo Domingo, R.D.</span></div><a class=\"h-[38px] whitespace-nowrap inline-flex items-center flex-col justify-center px-6 bg-white uppercase border-2 border-transparent hover:text-white hover:bg-transparent hover:border-white transition-colors duration-200 rounded-lg shadow-xl text-dark-purple\">Tickets Coming Soon</a></div></div><div class=\"mb-4 last:mb-0\" style=\"opacity:0;transform:scale(1.5) translateZ(0)\"><div class=\"flex justify-start sm:justify-between sm:items-center gap-4 pt-2 pb-8 flex-col sm:flex-row w-full\"><div class=\"flex flex-col justify-center items-start sm:justify-start sm:items-center sm:flex-row gap-1 sm:gap-3 relative\"><span class=\"text-white text-xl line-through whitespace-nowrap\">SEPT . 25 . 23</span><span class=\"text-md text-white/70\">Movistar Arena - Santiago, CL</span><div class=\"absolute sm:left-[120px] left-[3px] h-[22px] bg-red-600/80 z-10 sm:translate-y-[0] translate-y-[10px] text-white px-5 rotate-[-5deg] whitespace-nowrap\">Sold Out</div></div><a class=\"h-[38px] whitespace-nowrap inline-flex items-center flex-col justify-center px-6 bg-white uppercase border-2 border-transparent hover:text-white hover:bg-transparent hover:border-white transition-colors duration-200 rounded-lg shadow-xl text-dark-purple\">Sold Out</a></div></div><div class=\"mb-4 last:mb-0\" style=\"opacity:0;transform:scale(1.5) translateZ(0)\"><div class=\"flex justify-start sm:justify-between sm:items-center gap-4 pt-2 pb-8 flex-col sm:flex-row w-full\"><div class=\"flex flex-col justify-center items-start sm:justify-start sm:items-center sm:flex-row gap-1 sm:gap-3 relative\"><span class=\"text-white text-xl line-through whitespace-nowrap\">SEPT . 28 . 23</span><span class=\"text-md text-white/70\">Movistar Arena - Santiago, CL</span><div class=\"absolute sm:left-[120px] left-[3px] h-[22px] bg-red-600/80 z-10 sm:translate-y-[0] translate-y-[10px] text-white px-5 rotate-[-5deg] whitespace-nowrap\">Sold Out</div></div><a class=\"h-[38px] whitespace-nowrap inline-flex items-center flex-col justify-center px-6 bg-white uppercase border-2 border-transparent hover:text-white hover:bg-transparent hover:border-white transition-colors duration-200 rounded-lg shadow-xl text-dark-purple\">Sold Out</a></div></div><div class=\"mb-4 last:mb-0\" style=\"opacity:0;transform:scale(1.5) translateZ(0)\"><div class=\"flex justify-start sm:justify-between sm:items-center gap-4 pt-2 pb-8 flex-col sm:flex-row w-full\"><div class=\"flex flex-col justify-center items-start sm:justify-start sm:items-center sm:flex-row gap-1 sm:gap-3 relative\"><span class=\"text-white text-xl line-through whitespace-nowrap\">SEPT . 29 . 23</span><span class=\"text-md text-white/70\">Movistar Arena - Santiago, CL</span><div class=\"absolute sm:left-[120px] left-[3px] h-[22px] bg-red-600/80 z-10 sm:translate-y-[0] translate-y-[10px] text-white px-5 rotate-[-5deg] whitespace-nowrap\">Sold Out</div></div><a class=\"h-[38px] whitespace-nowrap inline-flex items-center flex-col justify-center px-6 bg-white uppercase border-2 border-transparent hover:text-white hover:bg-transparent hover:border-white transition-colors duration-200 rounded-lg shadow-xl text-dark-purple\">Sold Out</a></div></div><div class=\"mb-4 last:mb-0\" style=\"opacity:0;transform:scale(1.5) translateZ(0)\"><div class=\"flex justify-start sm:justify-between sm:items-center gap-4 pt-2 pb-8 flex-col sm:flex-row w-full\"><div class=\"flex flex-col justify-center items-start sm:justify-start sm:items-center sm:flex-row gap-1 sm:gap-3 relative\"><span class=\"text-white text-xl line-through whitespace-nowrap\">OCT . 1 . 23</span><span class=\"text-md text-white/70\">Movistar Arena - Buenos Aires, AR</span><div class=\"absolute sm:left-[120px] left-[3px] h-[22px] bg-red-600/80 z-10 sm:translate-y-[0] translate-y-[10px] text-white px-5 rotate-[-5deg] whitespace-nowrap\">Sold Out</div></div><a class=\"h-[38px] whitespace-nowrap inline-flex items-center flex-col justify-center px-6 bg-white uppercase border-2 border-transparent hover:text-white hover:bg-transparent hover:border-white transition-colors duration-200 rounded-lg shadow-xl text-dark-purple\">Sold Out</a></div></div><div class=\"mb-4 last:mb-0\" style=\"opacity:0;transform:scale(1.5) translateZ(0)\"><div class=\"flex justify-start sm:justify-between sm:items-center gap-4 pt-2 pb-8 flex-col sm:flex-row w-full\"><div class=\"flex flex-col justify-center items-start sm:justify-start sm:items-center sm:flex-row gap-1 sm:gap-3 relative\"><span class=\"text-white text-xl whitespace-nowrap\">OCT . 3 . 23</span><span class=\"text-md text-white/70\">Antel Arena - Montevideo, UY</span></div><a class=\"h-[38px] whitespace-nowrap inline-flex items-center flex-col justify-center px-6 bg-white uppercase border-2 border-transparent hover:text-white hover:bg-transparent hover:border-white transition-colors duration-200 rounded-lg shadow-xl text-dark-purple\" href=\"https://tickantel.com.uy/inicio/espectaculo/40013843/espectaculo/Mora?3\">Buy Tickets Here</a></div></div><div class=\"mb-4 last:mb-0\" style=\"opacity:0;transform:scale(1.5) translateZ(0)\"><div class=\"flex justify-start sm:justify-between sm:items-center gap-4 pt-2 pb-8 flex-col sm:flex-row w-full\"><div class=\"flex flex-col justify-center items-start sm:justify-start sm:items-center sm:flex-row gap-1 sm:gap-3 relative\"><span class=\"text-white text-xl whitespace-nowrap\">OCT . 5 . 23</span><span class=\"text-md text-white/70\">Guayaquil, Ecuador</span></div><a class=\"h-[38px] whitespace-nowrap inline-flex items-center flex-col justify-center px-6 bg-white uppercase border-2 border-transparent hover:text-white hover:bg-transparent hover:border-white transition-colors duration-200 rounded-lg shadow-xl text-dark-purple\">Tickets Coming Soon</a></div></div><div class=\"mb-4 last:mb-0\" style=\"opacity:0;transform:scale(1.5) translateZ(0)\"><div class=\"flex justify-start sm:justify-between sm:items-center gap-4 pt-2 pb-8 flex-col sm:flex-row w-full\"><div class=\"flex flex-col justify-center items-start sm:justify-start sm:items-center sm:flex-row gap-1 sm:gap-3 relative\"><span class=\"text-white text-xl whitespace-nowrap\">OCT . 6 . 23</span><span class=\"text-md text-white/70\">Coliseo Rumiñahui - Quito, Ecuador</span></div><a class=\"h-[38px] whitespace-nowrap inline-flex items-center flex-col justify-center px-6 bg-white uppercase border-2 border-transparent hover:text-white hover:bg-transparent hover:border-white transition-colors duration-200 rounded-lg shadow-xl text-dark-purple\">Tickets Coming Soon</a></div></div><div class=\"mb-4 last:mb-0\" style=\"opacity:0;transform:scale(1.5) translateZ(0)\"><div class=\"flex justify-start sm:justify-between sm:items-center gap-4 pt-2 pb-8 flex-col sm:flex-row w-full\"><div class=\"flex flex-col justify-center items-start sm:justify-start sm:items-center sm:flex-row gap-1 sm:gap-3 relative\"><span class=\"text-white text-xl whitespace-nowrap\">OCT . 8 . 23</span><span class=\"text-md text-white/70\">Club Cultural De Lima - Lima, PE</span></div><a class=\"h-[38px] whitespace-nowrap inline-flex items-center flex-col justify-center px-6 bg-white uppercase border-2 border-transparent hover:text-white hover:bg-transparent hover:border-white transition-colors duration-200 rounded-lg shadow-xl text-dark-purple\" href=\"https://teleticket.com.pe/mora\">Buy Tickets Here</a></div></div><div class=\"mb-4 last:mb-0\" style=\"opacity:0;transform:scale(1.5) translateZ(0)\"><div class=\"flex justify-start sm:justify-between sm:items-center gap-4 pt-2 pb-8 flex-col sm:flex-row w-full\"><div class=\"flex flex-col justify-center items-start sm:justify-start sm:items-center sm:flex-row gap-1 sm:gap-3 relative\"><span class=\"text-white text-xl whitespace-nowrap\">OCT . 11 . 23</span><span class=\"text-md text-white/70\">Teatro Al Aire Libre - La Paz, BO</span></div><a class=\"h-[38px] whitespace-nowrap inline-flex items-center flex-col justify-center px-6 bg-white uppercase border-2 border-transparent hover:text-white hover:bg-transparent hover:border-white transition-colors duration-200 rounded-lg shadow-xl text-dark-purple\" href=\"https://www.passline.com/eventos/estela-tour-la-paz\">Buy Tickets Here</a></div></div><div class=\"mb-4 last:mb-0\" style=\"opacity:0;transform:scale(1.5) translateZ(0)\"><div class=\"flex justify-start sm:justify-between sm:items-center gap-4 pt-2 pb-8 flex-col sm:flex-row w-full\"><div class=\"flex flex-col justify-center items-start sm:justify-start sm:items-center sm:flex-row gap-1 sm:gap-3 relative\"><span class=\"text-white text-xl whitespace-nowrap\">OCT . 13 . 23</span><span class=\"text-md text-white/70\">Sonilum Arena - Santa Cruz, BO</span></div><a class=\"h-[38px] whitespace-nowrap inline-flex items-center flex-col justify-center px-6 bg-white uppercase border-2 border-transparent hover:text-white hover:bg-transparent hover:border-white transition-colors duration-200 rounded-lg shadow-xl text-dark-purple\" href=\"https://www.passline.com/eventos/estela-tour-santa-cruz\">Buy Tickets Here</a></div></div><div class=\"mb-4 last:mb-0\" style=\"opacity:0;transform:scale(1.5) translateZ(0)\"><div class=\"flex justify-start sm:justify-between sm:items-center gap-4 pt-2 pb-8 flex-col sm:flex-row w-full\"><div class=\"flex flex-col justify-center items-start sm:justify-start sm:items-center sm:flex-row gap-1 sm:gap-3 relative\"><span class=\"text-white text-xl whitespace-nowrap\">OCT . 14 . 23</span><span class=\"text-md text-white/70\">Asunción, Paraguay</span></div><a class=\"h-[38px] whitespace-nowrap inline-flex items-center flex-col justify-center px-6 bg-white uppercase border-2 border-transparent hover:text-white hover:bg-transparent hover:border-white transition-colors duration-200 rounded-lg shadow-xl text-dark-purple\">Tickets Coming Soon</a></div></div><div class=\"mb-4 last:mb-0\" style=\"opacity:0;transform:scale(1.5) translateZ(0)\"><div class=\"flex justify-start sm:justify-between sm:items-center gap-4 pt-2 pb-8 flex-col sm:flex-row w-full\"><div class=\"flex flex-col justify-center items-start sm:justify-start sm:items-center sm:flex-row gap-1 sm:gap-3 relative\"><span class=\"text-white text-xl whitespace-nowrap\">OCT . 19 . 23</span><span class=\"text-md text-white/70\">Movistar Arena - Bogotá, CO</span></div><a class=\"h-[38px] whitespace-nowrap inline-flex items-center flex-col justify-center px-6 bg-white uppercase border-2 border-transparent hover:text-white hover:bg-transparent hover:border-white transition-colors duration-200 rounded-lg shadow-xl text-dark-purple\" href=\"https://tuboleta.com/eventos/detalle/mora-estela-tour-2023/3093955207\">Buy Tickets Here</a></div></div><div class=\"mb-4 last:mb-0\" style=\"opacity:0;transform:scale(1.5) translateZ(0)\"><div class=\"flex justify-start sm:justify-between sm:items-center gap-4 pt-2 pb-8 flex-col sm:flex-row w-full\"><div class=\"flex flex-col justify-center items-start sm:justify-start sm:items-center sm:flex-row gap-1 sm:gap-3 relative\"><span class=\"text-white text-xl whitespace-nowrap\">OCT . 20 . 23</span><span class=\"text-md text-white/70\">Parque Norte - Medellin, Colombia</span></div><a class=\"h-[38px] whitespace-nowrap inline-flex items-center flex-col justify-center px-6 bg-white uppercase border-2 border-transparent hover:text-white hover:bg-transparent hover:border-white transition-colors duration-200 rounded-lg shadow-xl text-dark-purple\" href=\"\">Tickets Coming Soon</a></div></div><div class=\"mb-4 last:mb-0\" style=\"opacity:0;transform:scale(1.5) translateZ(0)\"><div class=\"flex justify-start sm:justify-between sm:items-center gap-4 pt-2 pb-8 flex-col sm:flex-row w-full\"><div class=\"flex flex-col justify-center items-start sm:justify-start sm:items-center sm:flex-row gap-1 sm:gap-3 relative\"><span class=\"text-white text-xl whitespace-nowrap\">NOV . 16 . 23</span><span class=\"text-md text-white/70\">Terraza C.C. Sambil - Maracaibo, Venezuela</span></div><a class=\"h-[38px] whitespace-nowrap inline-flex items-center flex-col justify-center px-6 bg-white uppercase border-2 border-transparent hover:text-white hover:bg-transparent hover:border-white transition-colors duration-200 rounded-lg shadow-xl text-dark-purple\" href=\"https://mora2023.ticketmundo.com/\">Buy Tickets Here</a></div></div><div class=\"mb-4 last:mb-0\" style=\"opacity:0;transform:scale(1.5) translateZ(0)\"><div class=\"flex justify-start sm:justify-between sm:items-center gap-4 pt-2 pb-8 flex-col sm:flex-row w-full\"><div class=\"flex flex-col justify-center items-start sm:justify-start sm:items-center sm:flex-row gap-1 sm:gap-3 relative\"><span class=\"text-white text-xl whitespace-nowrap\">NOV . 17 . 23</span><span class=\"text-md text-white/70\">Wynwood Park - Valencia, Venezuela</span></div><a class=\"h-[38px] whitespace-nowrap inline-flex items-center flex-col justify-center px-6 bg-white uppercase border-2 border-transparent hover:text-white hover:bg-transparent hover:border-white transition-colors duration-200 rounded-lg shadow-xl text-dark-purple\" href=\"https://mora2023.ticketmundo.com/\">Buy Tickets Here</a></div></div><div class=\"mb-4 last:mb-0\" style=\"opacity:0;transform:scale(1.5) translateZ(0)\"><div class=\"flex justify-start sm:justify-between sm:items-center gap-4 pt-2 pb-8 flex-col sm:flex-row w-full\"><div class=\"flex flex-col justify-center items-start sm:justify-start sm:items-center sm:flex-row gap-1 sm:gap-3 relative\"><span class=\"text-white text-xl whitespace-nowrap\">NOV . 18 . 23</span><span class=\"text-md text-white/70\">Marea Club de Playa - Pto. de la Cruz, Venezuela</span></div><a class=\"h-[38px] whitespace-nowrap inline-flex items-center flex-col justify-center px-6 bg-white uppercase border-2 border-transparent hover:text-white hover:bg-transparent hover:border-white transition-colors duration-200 rounded-lg shadow-xl text-dark-purple\" href=\"https://mora2023.ticketmundo.com/\">Buy Tickets Here</a></div></div><div class=\"mb-4 last:mb-0\" style=\"opacity:0;transform:scale(1.5) translateZ(0)\"><div class=\"flex justify-start sm:justify-between sm:items-center gap-4 pt-2 pb-8 flex-col sm:flex-row w-full\"><div class=\"flex flex-col justify-center items-start sm:justify-start sm:items-center sm:flex-row gap-1 sm:gap-3 relative\"><span class=\"text-white text-xl whitespace-nowrap\">NOV . 19 . 23</span><span class=\"text-md text-white/70\">Centro Ciudad Comercial Tamanaco - Caracas, Venezuela</span></div><a class=\"h-[38px] whitespace-nowrap inline-flex items-center flex-col justify-center px-6 bg-white uppercase border-2 border-transparent hover:text-white hover:bg-transparent hover:border-white transition-colors duration-200 rounded-lg shadow-xl text-dark-purple\" href=\"https://mora2023.ticketmundo.com/\">Buy Tickets Here</a></div></div></div></div></div></main></div><script id=\"__NEXT_DATA__\" type=\"application/json\">{\"props\":{\"pageProps\":{\"paraisoTourDates\":[{\"date\":\"APR . 13 . 23\",\"location\":\"Los Angeles, USA\",\"soldOut\":true},{\"date\":\"APR . 14 . 23\",\"location\":\"Las Vegas, USA\",\"soldOut\":true},{\"date\":\"APR . 15 . 23\",\"location\":\"Atlanta, USA\",\"soldOut\":true},{\"date\":\"APR . 16 . 23\",\"location\":\"Salt Lake City, USA\",\"soldOut\":false,\"link\":\"https://tickets.skyslc.com/e/mora-4-16-23\"},{\"date\":\"APR . 20 . 23\",\"location\":\"Chicago, USA\",\"soldOut\":true},{\"date\":\"APR . 20 . 23\",\"location\":\"Joliet, USA\",\"soldOut\":false,\"link\":\"https://www.ticketweb.com/event/mora-2023-usa-tour-the-forge-tickets/12946635\"},{\"date\":\"APR . 21 . 23\",\"location\":\"Philadelphia, USA\",\"soldOut\":true,\"link\":\"https://hive.co/l/moraatnoto\"},{\"date\":\"APR . 22 . 23\",\"location\":\"San Francisco, USA\",\"soldOut\":false,\"link\":\"https://www.tixr.com/groups/templesf/events/mora-62714\"},{\"date\":\"APR . 28 . 23\",\"location\":\"SAN SALVADOR, EL SALVADOR\",\"link\":\"https://paraiso.funcapital.com/login\",\"soldOut\":false},{\"date\":\"APR . 29 . 23\",\"location\":\"Ciudad de Guatemala\",\"link\":\"https://empiremusicfestival.com/tickets/\",\"soldOut\":false},{\"date\":\"MAY . 4 . 23\",\"location\":\"Boston, USA\",\"soldOut\":true},{\"date\":\"MAY . 5 . 23\",\"location\":\"New York, USA\",\"soldOut\":true,\"link\":\"https://laboomny.club/MoraLive\"},{\"date\":\"MAY . 6 . 23\",\"location\":\"Providence, USA\",\"soldOut\":false,\"link\":\"https://bit.ly/Mora_TheStrand\"},{\"date\":\"MAY . 12 . 23\",\"location\":\"Orlando, USA\",\"soldOut\":false,\"link\":\"http://moraorlando.com/\"},{\"date\":\"MAY . 13 . 23\",\"location\":\"Miami, FL - FPL Solar Amphitheater at Bayfront Park\",\"soldOut\":false,\"link\":\"https://concerts.livenation.com/event/0D005E56E938E6BF?f_use_ras_unavailability=true\\\\u0026f_ras_manifest_attributes=true\\\\u0026f_tmol_prefix=true\"},{\"date\":\"MAY . 18 . 23\",\"location\":\"Houston, USA\",\"soldOut\":true,\"link\":\"https://cletix.cc/MORA\"},{\"date\":\"MAYO . 24 . 23\",\"location\":\"Arena Marcos - Aguascalientes, México\",\"soldOut\":false,\"link\":\"http://www.showticket.com.mx/paraisomoraags\"},{\"date\":\"MAY . 25 . 23\",\"location\":\"Guadalajara, México\",\"soldOut\":true},{\"date\":\"MAY . 26 . 23\",\"location\":\"Ciudad de México, México\",\"soldOut\":true},{\"date\":\"MAY . 27 . 23\",\"location\":\"Monterrey, México\",\"soldOut\":true},{\"date\":\"JUN . 2 . 23\",\"location\":\"Barcelona, Spain\",\"soldOut\":false,\"link\":\"https://www.primaverasound.com/en/tickets\"},{\"date\":\"JUN . 3 . 23\",\"location\":\"Lecco, Italy\",\"soldOut\":false,\"link\":\"https://namelessfestival.it\"},{\"date\":\"JUN . 8 . 23\",\"location\":\"Oporto, Portugal\",\"soldOut\":false,\"link\":\"https://www.primaverasound.com/en/tickets\"},{\"date\":\"JUN . 9 . 23\",\"location\":\"Madrid, Spain\",\"soldOut\":false,\"link\":\"https://www.primaverasound.com/en/tickets\"},{\"date\":\"JUN . 16 . 23\",\"location\":\"O Son Do Camiño - Santiago de Compostela, Spain\",\"soldOut\":false,\"link\":\"https://my.weezevent.com/o-son-do-camino-2023\"},{\"date\":\"JUN . 23 . 23\",\"location\":\"Gran Canaria, Spain\",\"soldOut\":false,\"link\":\"https://www.enterticket.es/eventos/boombastic-canarias-2023-137015\"},{\"date\":\"JUN . 24 . 23\",\"location\":\"Zuera Sound Festival - Zuera, Spain\",\"soldOut\":false,\"link\":\"https://zuerasound.com/entradas/\"},{\"date\":\"JUN . 25 . 23\",\"location\":\"Marina D\\'Or (Oropesa del Mar), Spain\",\"soldOut\":false,\"link\":\"https://reggaetonbeachfestival.com/es/festivales/summer/marina-d-or/tickets\"},{\"date\":\"JUN . 29 . 23\",\"location\":\"Calahorra, La Rioja, Spain\",\"soldOut\":false,\"link\":\"https://www.holika.es/entradas\"},{\"date\":\"JUN . 30 . 23\",\"location\":\"Sevilla, Spain\",\"soldOut\":false,\"link\":\"https://purolatino.es/sevilla/entradas/\"},{\"date\":\"Jul . 1 . 23\",\"location\":\"Valencia, Spain\",\"soldOut\":false,\"link\":\"https://bigsoundfestival.com/pages/abonos/abonos.php\"},{\"date\":\"Jul . 2 . 23\",\"location\":\"Tenerife, Spain\",\"soldOut\":false,\"link\":\"https://reggaetonbeachfestival.com/en/festivales/summer/tenerife\"},{\"date\":\"Jul . 6 . 23\",\"location\":\"Bahía Sound Festival - Cádiz, Spain\",\"soldOut\":false,\"link\":\"https://www.enterticket.es/eventos/bahia-sound-latin-urban-fest-mora-cano-lennis-rodriguez-240638\"},{\"date\":\"Jul . 8 . 23\",\"location\":\"Reggaeton Beach Festival - Marbella, Spain\",\"soldOut\":false,\"link\":\"https://reggaetonbeachfestival.com/es/festivales/summer/marbella/tickets\"},{\"date\":\"Jul . 9 . 23\",\"location\":\"Live Club - Punta Umbría, Spain\",\"soldOut\":false,\"link\":\"https://www.fourvenues.com/es/live-punta-umbria/events/mora-en-concierto-09-07-2023-35VS\"},{\"date\":\"Jul . 16 . 23\",\"location\":\"Mallorca, Spain\",\"soldOut\":false,\"link\":\"https://reggaetonbeachfestival.com/es/festivales/summer/mallorca/tickets\"},{\"date\":\"Jul . 20 . 23\",\"location\":\"Gijon, Asturias, Spain\",\"soldOut\":false,\"link\":\"https://www.enterticket.es/eventos/boombastic-asturias-2023-118884\"},{\"date\":\"Jul . 21 . 23\",\"location\":\"Torremolinos, Spain\",\"soldOut\":false,\"link\":\"https://purolatino.es/torremolinos/entradas/\"},{\"date\":\"Jul . 23 . 23\",\"location\":\"Zevra Festival - Cullera, Spain\",\"soldOut\":false,\"link\":\"https://www.zevrafestival.com/entradas.php\"},{\"date\":\"Jul . 28 . 23\",\"location\":\"San Javier, Spain\",\"soldOut\":false,\"link\":\"https://www.fanfutura.com/entradas\"},{\"date\":\"Jul . 30 . 23\",\"location\":\"Santander, Spain\",\"soldOut\":false,\"link\":\"https://reggaetonbeachfestival.com/es/festivales/summer/santander/tickets\"}],\"estelaTourDates\":[{\"date\":\"AGO . 24 . 23\",\"location\":\"Mérida, México \",\"soldOut\":true},{\"date\":\"AGO . 25 . 23\",\"location\":\"Leon, México\",\"soldOut\":false,\"link\":\"https://eventos.ticketone.mx/eventperformances.asp?evt=415\"},{\"date\":\"AGO . 26 . 23\",\"location\":\"Puebla, México\",\"soldOut\":false,\"link\":\"https://www.eticket.mx/masinformacion.aspx?idevento=30918\"},{\"date\":\"AGO . 27 . 23\",\"location\":\"Queretaro, México\",\"soldOut\":false,\"link\":\"https://eventos.ticketone.mx/eventperformances.asp?evt=414\"},{\"date\":\"AGO . 30 . 23\",\"location\":\"Torreón, México\",\"soldOut\":false,\"link\":\"https://boletea.com.mx/eventperformances.asp?evt=2256\"},{\"date\":\"AGO . 31 . 23\",\"location\":\"Guadalajara Auditorio Telmex\",\"soldOut\":true},{\"date\":\"SEPT . 1 . 23\",\"location\":\"Ciudad de México, Pepsi Center\",\"soldOut\":true},{\"date\":\"SEPT . 2 . 23\",\"location\":\"Monterrey, México, Auditorio Banamex\",\"soldOut\":true},{\"date\":\"SEPT . 3 . 23\",\"location\":\"Ciudad De Mexico, Pepsi Center\",\"soldOut\":true},{\"date\":\"SEPT . 6 . 23\",\"location\":\"Mazatlán, México\",\"soldOut\":false,\"link\":\"https://www.ticketstar.com.mx/Evento/Info/410-2666\"},{\"date\":\"SEPT . 7 . 23\",\"location\":\"Cullacán, México\",\"soldOut\":false,\"link\":\"https://www.ticketstar.com.mx/Evento/Info/412-2667\"},{\"date\":\"SEPT . 8 . 23\",\"location\":\"Los Mochis, México\",\"soldOut\":false,\"link\":\"https://www.ticketstar.com.mx/Evento/Info/413-2668\"},{\"date\":\"SEPT . 9 . 23\",\"location\":\"Hermosillo, México\",\"soldOut\":false,\"link\":\"https://web.xticket.mx/index.php?r=venta/boletos\\\\u0026id=378\\\\u0026eventonombre=MORA------------------------------------------------ESTELA-TOUR\"},{\"date\":\"SEPT . 10 . 23\",\"location\":\"Tijuana, México\",\"soldOut\":false,\"comingSoon\":true},{\"date\":\"SEPT . 14 . 23\",\"location\":\"Managua, Nicaragua\",\"soldOut\":false,\"comingSoon\":true},{\"date\":\"SEPT . 15 . 23\",\"location\":\"San José, Costa Rica\",\"soldOut\":false,\"comingSoon\":true},{\"date\":\"SEPT . 16 . 23\",\"location\":\"Ciudad de Panamá, Panamá\",\"soldOut\":false,\"comingSoon\":true},{\"date\":\"SEPT . 22 . 23\",\"location\":\"Santo Domingo, R.D.\",\"soldOut\":false,\"comingSoon\":true},{\"date\":\"SEPT . 25 . 23\",\"location\":\"Movistar Arena - Santiago, CL\",\"soldOut\":true,\"link\":\"https://www.puntoticket.com/mora\"},{\"date\":\"SEPT . 28 . 23\",\"location\":\"Movistar Arena - Santiago, CL\",\"soldOut\":true},{\"date\":\"SEPT . 29 . 23\",\"location\":\"Movistar Arena - Santiago, CL\",\"soldOut\":true,\"link\":\"https://www.puntoticket.com/mora\"},{\"date\":\"OCT . 1 . 23\",\"location\":\"Movistar Arena - Buenos Aires, AR\",\"soldOut\":true},{\"date\":\"OCT . 3 . 23\",\"location\":\"Antel Arena - Montevideo, UY\",\"soldOut\":false,\"link\":\"https://tickantel.com.uy/inicio/espectaculo/40013843/espectaculo/Mora?3\"},{\"date\":\"OCT . 5 . 23\",\"location\":\"Guayaquil, Ecuador\",\"soldOut\":false,\"comingSoon\":true},{\"date\":\"OCT . 6 . 23\",\"location\":\"Coliseo Rumiñahui - Quito, Ecuador\",\"soldOut\":false,\"comingSoon\":true},{\"date\":\"OCT . 8 . 23\",\"location\":\"Club Cultural De Lima - Lima, PE\",\"soldOut\":false,\"link\":\"https://teleticket.com.pe/mora\"},{\"date\":\"OCT . 11 . 23\",\"location\":\"Teatro Al Aire Libre - La Paz, BO\",\"soldOut\":false,\"link\":\"https://www.passline.com/eventos/estela-tour-la-paz\"},{\"date\":\"OCT . 13 . 23\",\"location\":\"Sonilum Arena - Santa Cruz, BO\",\"soldOut\":false,\"link\":\"https://www.passline.com/eventos/estela-tour-santa-cruz\"},{\"date\":\"OCT . 14 . 23\",\"location\":\"Asunción, Paraguay\",\"soldOut\":false,\"comingSoon\":true},{\"date\":\"OCT . 19 . 23\",\"soldOut\":false,\"location\":\"Movistar Arena - Bogotá, CO\",\"link\":\"https://tuboleta.com/eventos/detalle/mora-estela-tour-2023/3093955207\"},{\"date\":\"OCT . 20 . 23\",\"location\":\"Parque Norte - Medellin, Colombia\",\"soldOut\":false,\"link\":\"\",\"comingSoon\":true},{\"date\":\"NOV . 16 . 23\",\"location\":\"Terraza C.C. Sambil - Maracaibo, Venezuela\",\"soldOut\":false,\"link\":\"https://mora2023.ticketmundo.com/\"},{\"date\":\"NOV . 17 . 23\",\"location\":\"Wynwood Park - Valencia, Venezuela\",\"soldOut\":false,\"link\":\"https://mora2023.ticketmundo.com/\"},{\"date\":\"NOV . 18 . 23\",\"location\":\"Marea Club de Playa - Pto. de la Cruz, Venezuela\",\"soldOut\":false,\"link\":\"https://mora2023.ticketmundo.com/\"},{\"date\":\"NOV . 19 . 23\",\"location\":\"Centro Ciudad Comercial Tamanaco - Caracas, Venezuela\",\"soldOut\":false,\"link\":\"https://mora2023.ticketmundo.com/\"}]},\"__N_SSG\":true},\"page\":\"/\",\"query\":{},\"buildId\":\"8WyVZ1GxJT5REXZcBxdVh\",\"isFallback\":false,\"gsp\":true,\"scriptLoader\":[]}</script><script src=\"https://www.googletagmanager.com/gtag/js?id=G-SEDPG9E1CK\" data-nscript=\"afterInteractive\"></script><script id=\"google-analytics\" data-nscript=\"afterInteractive\">\\n          window.dataLayer = window.dataLayer || [];\\n          function gtag(){window.dataLayer.push(arguments);}\\n          gtag(\\'js\\', new Date());\\n\\n          gtag(\\'config\\', \\'G-SEDPG9E1CK\\');\\n        </script><next-route-announcer><p aria-live=\"assertive\" id=\"__next-route-announcer__\" role=\"alert\" style=\"border: 0px; clip: rect(0px, 0px, 0px, 0px); height: 1px; margin: -1px; overflow: hidden; padding: 0px; position: absolute; width: 1px; white-space: nowrap; overflow-wrap: normal;\"></p></next-route-announcer></body></html>'"
      ]
     },
     "execution_count": 227,
     "metadata": {},
     "output_type": "execute_result"
    }
   ],
   "source": [
    "driver.page_source"
   ]
  },
  {
   "cell_type": "code",
   "execution_count": 228,
   "id": "9988ca47",
   "metadata": {},
   "outputs": [
    {
     "name": "stdout",
     "output_type": "stream",
     "text": [
      "Mora Tour Dates - MORA TOUR DATES\n"
     ]
    }
   ],
   "source": [
    "print(driver.title)"
   ]
  },
  {
   "cell_type": "code",
   "execution_count": 255,
   "id": "bdb4d1b9",
   "metadata": {},
   "outputs": [
    {
     "name": "stdout",
     "output_type": "stream",
     "text": [
      "\u001b[1m Cities: \u001b[0m\n",
      "LOS ANGELES, USA\n",
      "LAS VEGAS, USA\n",
      "ATLANTA, USA\n",
      "SALT LAKE CITY, USA\n",
      "CHICAGO, USA\n",
      "JOLIET, USA\n",
      "PHILADELPHIA, USA\n",
      "SAN FRANCISCO, USA\n",
      "SAN SALVADOR, EL SALVADOR\n",
      "CIUDAD DE GUATEMALA\n",
      "BOSTON, USA\n",
      "NEW YORK, USA\n",
      "PROVIDENCE, USA\n",
      "ORLANDO, USA\n",
      "MIAMI, FL - FPL SOLAR AMPHITHEATER AT BAYFRONT PARK\n",
      "HOUSTON, USA\n",
      "ARENA MARCOS - AGUASCALIENTES, MÉXICO\n",
      "GUADALAJARA, MÉXICO\n",
      "CIUDAD DE MÉXICO, MÉXICO\n",
      "MONTERREY, MÉXICO\n",
      "BARCELONA, SPAIN\n",
      "LECCO, ITALY\n",
      "OPORTO, PORTUGAL\n",
      "MADRID, SPAIN\n",
      "O SON DO CAMIÑO - SANTIAGO DE COMPOSTELA, SPAIN\n",
      "GRAN CANARIA, SPAIN\n",
      "ZUERA SOUND FESTIVAL - ZUERA, SPAIN\n",
      "MARINA D'OR (OROPESA DEL MAR), SPAIN\n",
      "CALAHORRA, LA RIOJA, SPAIN\n",
      "SEVILLA, SPAIN\n",
      "VALENCIA, SPAIN\n",
      "TENERIFE, SPAIN\n",
      "BAHÍA SOUND FESTIVAL - CÁDIZ, SPAIN\n",
      "REGGAETON BEACH FESTIVAL - MARBELLA, SPAIN\n",
      "LIVE CLUB - PUNTA UMBRÍA, SPAIN\n",
      "MALLORCA, SPAIN\n",
      "GIJON, ASTURIAS, SPAIN\n",
      "TORREMOLINOS, SPAIN\n",
      "ZEVRA FESTIVAL - CULLERA, SPAIN\n",
      "SAN JAVIER, SPAIN\n",
      "SANTANDER, SPAIN\n",
      "MÉRIDA, MÉXICO\n",
      "LEON, MÉXICO\n",
      "PUEBLA, MÉXICO\n",
      "QUERETARO, MÉXICO\n",
      "TORREÓN, MÉXICO\n",
      "GUADALAJARA AUDITORIO TELMEX\n",
      "CIUDAD DE MÉXICO, PEPSI CENTER\n",
      "MONTERREY, MÉXICO, AUDITORIO BANAMEX\n",
      "CIUDAD DE MEXICO, PEPSI CENTER\n",
      "MAZATLÁN, MÉXICO\n",
      "CULLACÁN, MÉXICO\n",
      "LOS MOCHIS, MÉXICO\n",
      "HERMOSILLO, MÉXICO\n",
      "TIJUANA, MÉXICO\n",
      "MANAGUA, NICARAGUA\n",
      "SAN JOSÉ, COSTA RICA\n",
      "CIUDAD DE PANAMÁ, PANAMÁ\n",
      "SANTO DOMINGO, R.D.\n",
      "MOVISTAR ARENA - SANTIAGO, CL\n",
      "MOVISTAR ARENA - SANTIAGO, CL\n",
      "MOVISTAR ARENA - SANTIAGO, CL\n",
      "MOVISTAR ARENA - BUENOS AIRES, AR\n",
      "ANTEL ARENA - MONTEVIDEO, UY\n",
      "GUAYAQUIL, ECUADOR\n",
      "COLISEO RUMIÑAHUI - QUITO, ECUADOR\n",
      "CLUB CULTURAL DE LIMA - LIMA, PE\n",
      "TEATRO AL AIRE LIBRE - LA PAZ, BO\n",
      "SONILUM ARENA - SANTA CRUZ, BO\n",
      "ASUNCIÓN, PARAGUAY\n",
      "MOVISTAR ARENA - BOGOTÁ, CO\n",
      "PARQUE NORTE - MEDELLIN, COLOMBIA\n",
      "TERRAZA C.C. SAMBIL - MARACAIBO, VENEZUELA\n",
      "WYNWOOD PARK - VALENCIA, VENEZUELA\n",
      "MAREA CLUB DE PLAYA - PTO. DE LA CRUZ, VENEZUELA\n",
      "CENTRO CIUDAD COMERCIAL TAMANACO - CARACAS, VENEZUELA\n",
      "\u001b[1m Dates: \u001b[0m\n",
      "APR . 13 . 23\n",
      "APR . 14 . 23\n",
      "APR . 15 . 23\n",
      "APR . 16 . 23\n",
      "APR . 20 . 23\n",
      "APR . 20 . 23\n",
      "APR . 21 . 23\n",
      "APR . 22 . 23\n",
      "APR . 28 . 23\n",
      "APR . 29 . 23\n",
      "MAY . 4 . 23\n",
      "MAY . 5 . 23\n",
      "MAY . 6 . 23\n",
      "MAY . 12 . 23\n",
      "MAY . 13 . 23\n",
      "MAY . 18 . 23\n",
      "MAYO . 24 . 23\n",
      "MAY . 25 . 23\n",
      "MAY . 26 . 23\n",
      "MAY . 27 . 23\n",
      "JUN . 2 . 23\n",
      "JUN . 3 . 23\n",
      "JUN . 8 . 23\n",
      "JUN . 9 . 23\n",
      "JUN . 16 . 23\n",
      "JUN . 23 . 23\n",
      "JUN . 24 . 23\n",
      "JUN . 25 . 23\n",
      "JUN . 29 . 23\n",
      "JUN . 30 . 23\n",
      "JUL . 1 . 23\n",
      "JUL . 2 . 23\n",
      "JUL . 6 . 23\n",
      "JUL . 8 . 23\n",
      "JUL . 9 . 23\n",
      "JUL . 16 . 23\n",
      "JUL . 20 . 23\n",
      "JUL . 21 . 23\n",
      "JUL . 23 . 23\n",
      "JUL . 28 . 23\n",
      "JUL . 30 . 23\n",
      "AGO . 24 . 23\n",
      "AGO . 25 . 23\n",
      "AGO . 26 . 23\n",
      "AGO . 27 . 23\n",
      "AGO . 30 . 23\n",
      "AGO . 31 . 23\n",
      "SEPT . 1 . 23\n",
      "SEPT . 2 . 23\n",
      "SEPT . 3 . 23\n",
      "SEPT . 6 . 23\n",
      "SEPT . 7 . 23\n",
      "SEPT . 8 . 23\n",
      "SEPT . 9 . 23\n",
      "SEPT . 10 . 23\n",
      "SEPT . 14 . 23\n",
      "SEPT . 15 . 23\n",
      "SEPT . 16 . 23\n",
      "SEPT . 22 . 23\n",
      "SEPT . 25 . 23\n",
      "SEPT . 28 . 23\n",
      "SEPT . 29 . 23\n",
      "OCT . 1 . 23\n",
      "OCT . 3 . 23\n",
      "OCT . 5 . 23\n",
      "OCT . 6 . 23\n",
      "OCT . 8 . 23\n",
      "OCT . 11 . 23\n",
      "OCT . 13 . 23\n",
      "OCT . 14 . 23\n",
      "OCT . 19 . 23\n",
      "OCT . 20 . 23\n",
      "NOV . 16 . 23\n",
      "NOV . 17 . 23\n",
      "NOV . 18 . 23\n",
      "NOV . 19 . 23\n"
     ]
    }
   ],
   "source": [
    "element = driver.find_elements(By.CLASS_NAME, \"text-md\")\n",
    "elementd = driver.find_elements(By.CLASS_NAME, \"text-xl\")\n",
    "#elements = element[0].find_elements(By.CLASS_NAME, 'tag')\n",
    "lcon=[]\n",
    "dcon=[]\n",
    "print('\\033[1m','Cities:','\\033[0m')\n",
    "for e in element:\n",
    "    lcon.append(e.text)\n",
    "    print(e.text)\n",
    "    \n",
    "print('\\033[1m','Dates:','\\033[0m')\n",
    "for e2 in elementd:\n",
    "    dcon.append(e2.text)\n",
    "    print(e2.text)"
   ]
  },
  {
   "cell_type": "code",
   "execution_count": 318,
   "id": "78bbdb9d",
   "metadata": {},
   "outputs": [
    {
     "name": "stdout",
     "output_type": "stream",
     "text": [
      "SOLD OUT\n",
      "SOLD OUT\n",
      "SOLD OUT\n",
      "BUY TICKETS HERE\n",
      "SOLD OUT\n",
      "BUY TICKETS HERE\n",
      "SOLD OUT\n",
      "BUY TICKETS HERE\n",
      "BUY TICKETS HERE\n",
      "BUY TICKETS HERE\n",
      "SOLD OUT\n",
      "SOLD OUT\n",
      "BUY TICKETS HERE\n",
      "BUY TICKETS HERE\n",
      "BUY TICKETS HERE\n",
      "SOLD OUT\n",
      "BUY TICKETS HERE\n",
      "SOLD OUT\n",
      "SOLD OUT\n",
      "SOLD OUT\n",
      "BUY TICKETS HERE\n",
      "BUY TICKETS HERE\n",
      "BUY TICKETS HERE\n",
      "BUY TICKETS HERE\n",
      "BUY TICKETS HERE\n",
      "BUY TICKETS HERE\n",
      "BUY TICKETS HERE\n",
      "BUY TICKETS HERE\n",
      "BUY TICKETS HERE\n",
      "BUY TICKETS HERE\n",
      "BUY TICKETS HERE\n",
      "BUY TICKETS HERE\n",
      "BUY TICKETS HERE\n",
      "BUY TICKETS HERE\n",
      "BUY TICKETS HERE\n",
      "BUY TICKETS HERE\n",
      "BUY TICKETS HERE\n",
      "BUY TICKETS HERE\n",
      "BUY TICKETS HERE\n",
      "BUY TICKETS HERE\n",
      "BUY TICKETS HERE\n",
      "SOLD OUT\n",
      "BUY TICKETS HERE\n",
      "BUY TICKETS HERE\n",
      "BUY TICKETS HERE\n",
      "BUY TICKETS HERE\n",
      "SOLD OUT\n",
      "SOLD OUT\n",
      "SOLD OUT\n",
      "SOLD OUT\n",
      "BUY TICKETS HERE\n",
      "BUY TICKETS HERE\n",
      "BUY TICKETS HERE\n",
      "BUY TICKETS HERE\n",
      "TICKETS COMING SOON\n",
      "TICKETS COMING SOON\n",
      "TICKETS COMING SOON\n",
      "TICKETS COMING SOON\n",
      "TICKETS COMING SOON\n",
      "SOLD OUT\n",
      "SOLD OUT\n",
      "SOLD OUT\n",
      "SOLD OUT\n",
      "BUY TICKETS HERE\n",
      "TICKETS COMING SOON\n",
      "TICKETS COMING SOON\n",
      "BUY TICKETS HERE\n",
      "BUY TICKETS HERE\n",
      "BUY TICKETS HERE\n",
      "TICKETS COMING SOON\n",
      "BUY TICKETS HERE\n",
      "TICKETS COMING SOON\n",
      "BUY TICKETS HERE\n",
      "BUY TICKETS HERE\n",
      "BUY TICKETS HERE\n",
      "BUY TICKETS HERE\n",
      "SOLD OUT\n",
      "SOLD OUT\n",
      "SOLD OUT\n",
      "BUY TICKETS HERE\n",
      "SOLD OUT\n",
      "BUY TICKETS HERE\n",
      "SOLD OUT\n",
      "BUY TICKETS HERE\n",
      "BUY TICKETS HERE\n",
      "BUY TICKETS HERE\n",
      "SOLD OUT\n",
      "SOLD OUT\n",
      "BUY TICKETS HERE\n",
      "BUY TICKETS HERE\n",
      "BUY TICKETS HERE\n",
      "SOLD OUT\n",
      "BUY TICKETS HERE\n",
      "SOLD OUT\n",
      "SOLD OUT\n",
      "SOLD OUT\n",
      "BUY TICKETS HERE\n",
      "BUY TICKETS HERE\n",
      "BUY TICKETS HERE\n",
      "BUY TICKETS HERE\n",
      "BUY TICKETS HERE\n",
      "BUY TICKETS HERE\n",
      "BUY TICKETS HERE\n",
      "BUY TICKETS HERE\n",
      "BUY TICKETS HERE\n",
      "BUY TICKETS HERE\n",
      "BUY TICKETS HERE\n",
      "BUY TICKETS HERE\n",
      "BUY TICKETS HERE\n",
      "BUY TICKETS HERE\n",
      "BUY TICKETS HERE\n",
      "BUY TICKETS HERE\n",
      "BUY TICKETS HERE\n",
      "BUY TICKETS HERE\n",
      "BUY TICKETS HERE\n",
      "BUY TICKETS HERE\n",
      "BUY TICKETS HERE\n",
      "SOLD OUT\n",
      "BUY TICKETS HERE\n",
      "BUY TICKETS HERE\n",
      "BUY TICKETS HERE\n",
      "BUY TICKETS HERE\n",
      "SOLD OUT\n",
      "SOLD OUT\n",
      "SOLD OUT\n",
      "SOLD OUT\n",
      "BUY TICKETS HERE\n",
      "BUY TICKETS HERE\n",
      "BUY TICKETS HERE\n",
      "BUY TICKETS HERE\n",
      "TICKETS COMING SOON\n",
      "TICKETS COMING SOON\n",
      "TICKETS COMING SOON\n",
      "TICKETS COMING SOON\n",
      "TICKETS COMING SOON\n",
      "SOLD OUT\n",
      "SOLD OUT\n",
      "SOLD OUT\n",
      "SOLD OUT\n",
      "BUY TICKETS HERE\n",
      "TICKETS COMING SOON\n",
      "TICKETS COMING SOON\n",
      "BUY TICKETS HERE\n",
      "BUY TICKETS HERE\n",
      "BUY TICKETS HERE\n",
      "TICKETS COMING SOON\n",
      "BUY TICKETS HERE\n",
      "TICKETS COMING SOON\n",
      "BUY TICKETS HERE\n",
      "BUY TICKETS HERE\n",
      "BUY TICKETS HERE\n",
      "BUY TICKETS HERE\n"
     ]
    }
   ],
   "source": [
    "scon=[]\n",
    "linkcon=[]\n",
    "elementso = driver.find_elements(By.CLASS_NAME, \"shadow-xl\")\n",
    "for e2 in elementso:\n",
    "    scon.append(e2.text)\n",
    "    print(e2.text)\n",
    "    \n",
    "for e2 in elementsli:\n",
    "    linkcon.append(e2.text)\n",
    "    print(e2.text)"
   ]
  },
  {
   "cell_type": "code",
   "execution_count": 322,
   "id": "aeac5c01",
   "metadata": {},
   "outputs": [
    {
     "name": "stdout",
     "output_type": "stream",
     "text": [
      "None\n",
      "None\n",
      "None\n",
      "https://tickets.skyslc.com/e/mora-4-16-23\n",
      "None\n",
      "https://www.ticketweb.com/event/mora-2023-usa-tour-the-forge-tickets/12946635\n",
      "None\n",
      "https://www.tixr.com/groups/templesf/events/mora-62714\n",
      "https://paraiso.funcapital.com/login\n",
      "https://empiremusicfestival.com/tickets/\n",
      "None\n",
      "None\n",
      "https://bit.ly/Mora_TheStrand\n",
      "http://moraorlando.com/\n",
      "https://concerts.livenation.com/event/0D005E56E938E6BF?f_use_ras_unavailability=true&f_ras_manifest_attributes=true&f_tmol_prefix=true\n",
      "None\n",
      "http://www.showticket.com.mx/paraisomoraags\n",
      "None\n",
      "None\n",
      "None\n",
      "https://www.primaverasound.com/en/tickets\n",
      "https://namelessfestival.it/\n",
      "https://www.primaverasound.com/en/tickets\n",
      "https://www.primaverasound.com/en/tickets\n",
      "https://my.weezevent.com/o-son-do-camino-2023\n",
      "https://www.enterticket.es/eventos/boombastic-canarias-2023-137015\n",
      "https://zuerasound.com/entradas/\n",
      "https://reggaetonbeachfestival.com/es/festivales/summer/marina-d-or/tickets\n",
      "https://www.holika.es/entradas\n",
      "https://purolatino.es/sevilla/entradas/\n",
      "https://bigsoundfestival.com/pages/abonos/abonos.php\n",
      "https://reggaetonbeachfestival.com/en/festivales/summer/tenerife\n",
      "https://www.enterticket.es/eventos/bahia-sound-latin-urban-fest-mora-cano-lennis-rodriguez-240638\n",
      "https://reggaetonbeachfestival.com/es/festivales/summer/marbella/tickets\n",
      "https://www.fourvenues.com/es/live-punta-umbria/events/mora-en-concierto-09-07-2023-35VS\n",
      "https://reggaetonbeachfestival.com/es/festivales/summer/mallorca/tickets\n",
      "https://www.enterticket.es/eventos/boombastic-asturias-2023-118884\n",
      "https://purolatino.es/torremolinos/entradas/\n",
      "https://www.zevrafestival.com/entradas.php\n",
      "https://www.fanfutura.com/entradas\n",
      "https://reggaetonbeachfestival.com/es/festivales/summer/santander/tickets\n",
      "None\n",
      "https://eventos.ticketone.mx/eventperformances.asp?evt=415\n",
      "https://www.eticket.mx/masinformacion.aspx?idevento=30918\n",
      "https://eventos.ticketone.mx/eventperformances.asp?evt=414\n",
      "https://boletea.com.mx/eventperformances.asp?evt=2256\n",
      "None\n",
      "None\n",
      "None\n",
      "None\n",
      "https://www.ticketstar.com.mx/Evento/Info/410-2666\n",
      "https://www.ticketstar.com.mx/Evento/Info/412-2667\n",
      "https://www.ticketstar.com.mx/Evento/Info/413-2668\n",
      "https://web.xticket.mx/index.php?r=venta/boletos&id=378&eventonombre=MORA------------------------------------------------ESTELA-TOUR\n",
      "None\n",
      "None\n",
      "None\n",
      "None\n",
      "None\n",
      "None\n",
      "None\n",
      "None\n",
      "None\n",
      "https://tickantel.com.uy/inicio/espectaculo/40013843/espectaculo/Mora?3\n",
      "None\n",
      "None\n",
      "https://teleticket.com.pe/mora\n",
      "https://www.passline.com/eventos/estela-tour-la-paz\n",
      "https://www.passline.com/eventos/estela-tour-santa-cruz\n",
      "None\n",
      "https://tuboleta.com/eventos/detalle/mora-estela-tour-2023/3093955207\n",
      "\n",
      "https://mora2023.ticketmundo.com/\n",
      "https://mora2023.ticketmundo.com/\n",
      "https://mora2023.ticketmundo.com/\n",
      "https://mora2023.ticketmundo.com/\n"
     ]
    }
   ],
   "source": [
    "linkcon=[]\n",
    "for a in driver.find_elements(By.XPATH, \".// a\"):\n",
    "    linkcon.append(a.get_attribute('href'))\n",
    "    print(a.get_attribute('href'))"
   ]
  },
  {
   "cell_type": "code",
   "execution_count": 281,
   "id": "ed6cf3a4",
   "metadata": {},
   "outputs": [
    {
     "name": "stderr",
     "output_type": "stream",
     "text": [
      "<ipython-input-281-9f2c07aeee51>:4: DeprecationWarning: executable_path has been deprecated, please pass in a Service object\n",
      "  driver2 = webdriver.Chrome(ChromeDriverManager().install())\n"
     ]
    },
    {
     "data": {
      "text/plain": [
       "True"
      ]
     },
     "execution_count": 281,
     "metadata": {},
     "output_type": "execute_result"
    }
   ],
   "source": [
    "driver.get(url3)\n",
    "IMG = driver.find_elements(By.TAG_NAME, \"img\")\n",
    "src = IMG[0].get_attribute('src')\n",
    "driver2 = webdriver.Chrome(ChromeDriverManager().install())\n",
    "driver2.get(src)\n",
    "driver2.save_screenshot(\"screenshot.png\")"
   ]
  },
  {
   "cell_type": "code",
   "execution_count": 321,
   "id": "65fdcf9f",
   "metadata": {},
   "outputs": [
    {
     "data": {
      "text/html": [
       "<div>\n",
       "<style scoped>\n",
       "    .dataframe tbody tr th:only-of-type {\n",
       "        vertical-align: middle;\n",
       "    }\n",
       "\n",
       "    .dataframe tbody tr th {\n",
       "        vertical-align: top;\n",
       "    }\n",
       "\n",
       "    .dataframe thead th {\n",
       "        text-align: right;\n",
       "    }\n",
       "</style>\n",
       "<table border=\"1\" class=\"dataframe\">\n",
       "  <thead>\n",
       "    <tr style=\"text-align: right;\">\n",
       "      <th></th>\n",
       "      <th>Date</th>\n",
       "      <th>Location</th>\n",
       "      <th>SoldOut</th>\n",
       "      <th>Links</th>\n",
       "    </tr>\n",
       "  </thead>\n",
       "  <tbody>\n",
       "    <tr>\n",
       "      <th>0</th>\n",
       "      <td>APR . 13 . 23</td>\n",
       "      <td>LOS ANGELES, USA</td>\n",
       "      <td>SOLD OUT</td>\n",
       "      <td>None</td>\n",
       "    </tr>\n",
       "    <tr>\n",
       "      <th>1</th>\n",
       "      <td>APR . 14 . 23</td>\n",
       "      <td>LAS VEGAS, USA</td>\n",
       "      <td>SOLD OUT</td>\n",
       "      <td>None</td>\n",
       "    </tr>\n",
       "    <tr>\n",
       "      <th>2</th>\n",
       "      <td>APR . 15 . 23</td>\n",
       "      <td>ATLANTA, USA</td>\n",
       "      <td>SOLD OUT</td>\n",
       "      <td>None</td>\n",
       "    </tr>\n",
       "    <tr>\n",
       "      <th>3</th>\n",
       "      <td>APR . 16 . 23</td>\n",
       "      <td>SALT LAKE CITY, USA</td>\n",
       "      <td>BUY TICKETS HERE</td>\n",
       "      <td>https://tickets.skyslc.com/e/mora-4-16-23</td>\n",
       "    </tr>\n",
       "    <tr>\n",
       "      <th>4</th>\n",
       "      <td>APR . 20 . 23</td>\n",
       "      <td>CHICAGO, USA</td>\n",
       "      <td>SOLD OUT</td>\n",
       "      <td>None</td>\n",
       "    </tr>\n",
       "    <tr>\n",
       "      <th>...</th>\n",
       "      <td>...</td>\n",
       "      <td>...</td>\n",
       "      <td>...</td>\n",
       "      <td>...</td>\n",
       "    </tr>\n",
       "    <tr>\n",
       "      <th>71</th>\n",
       "      <td>OCT . 20 . 23</td>\n",
       "      <td>PARQUE NORTE - MEDELLIN, COLOMBIA</td>\n",
       "      <td>TICKETS COMING SOON</td>\n",
       "      <td></td>\n",
       "    </tr>\n",
       "    <tr>\n",
       "      <th>72</th>\n",
       "      <td>NOV . 16 . 23</td>\n",
       "      <td>TERRAZA C.C. SAMBIL - MARACAIBO, VENEZUELA</td>\n",
       "      <td>BUY TICKETS HERE</td>\n",
       "      <td>https://mora2023.ticketmundo.com/</td>\n",
       "    </tr>\n",
       "    <tr>\n",
       "      <th>73</th>\n",
       "      <td>NOV . 17 . 23</td>\n",
       "      <td>WYNWOOD PARK - VALENCIA, VENEZUELA</td>\n",
       "      <td>BUY TICKETS HERE</td>\n",
       "      <td>https://mora2023.ticketmundo.com/</td>\n",
       "    </tr>\n",
       "    <tr>\n",
       "      <th>74</th>\n",
       "      <td>NOV . 18 . 23</td>\n",
       "      <td>MAREA CLUB DE PLAYA - PTO. DE LA CRUZ, VENEZUELA</td>\n",
       "      <td>BUY TICKETS HERE</td>\n",
       "      <td>https://mora2023.ticketmundo.com/</td>\n",
       "    </tr>\n",
       "    <tr>\n",
       "      <th>75</th>\n",
       "      <td>NOV . 19 . 23</td>\n",
       "      <td>CENTRO CIUDAD COMERCIAL TAMANACO - CARACAS, VE...</td>\n",
       "      <td>BUY TICKETS HERE</td>\n",
       "      <td>https://mora2023.ticketmundo.com/</td>\n",
       "    </tr>\n",
       "  </tbody>\n",
       "</table>\n",
       "<p>76 rows × 4 columns</p>\n",
       "</div>"
      ],
      "text/plain": [
       "             Date                                           Location  \\\n",
       "0   APR . 13 . 23                                   LOS ANGELES, USA   \n",
       "1   APR . 14 . 23                                     LAS VEGAS, USA   \n",
       "2   APR . 15 . 23                                       ATLANTA, USA   \n",
       "3   APR . 16 . 23                                SALT LAKE CITY, USA   \n",
       "4   APR . 20 . 23                                       CHICAGO, USA   \n",
       "..            ...                                                ...   \n",
       "71  OCT . 20 . 23                  PARQUE NORTE - MEDELLIN, COLOMBIA   \n",
       "72  NOV . 16 . 23         TERRAZA C.C. SAMBIL - MARACAIBO, VENEZUELA   \n",
       "73  NOV . 17 . 23                 WYNWOOD PARK - VALENCIA, VENEZUELA   \n",
       "74  NOV . 18 . 23   MAREA CLUB DE PLAYA - PTO. DE LA CRUZ, VENEZUELA   \n",
       "75  NOV . 19 . 23  CENTRO CIUDAD COMERCIAL TAMANACO - CARACAS, VE...   \n",
       "\n",
       "                SoldOut                                      Links  \n",
       "0              SOLD OUT                                       None  \n",
       "1              SOLD OUT                                       None  \n",
       "2              SOLD OUT                                       None  \n",
       "3      BUY TICKETS HERE  https://tickets.skyslc.com/e/mora-4-16-23  \n",
       "4              SOLD OUT                                       None  \n",
       "..                  ...                                        ...  \n",
       "71  TICKETS COMING SOON                                             \n",
       "72     BUY TICKETS HERE          https://mora2023.ticketmundo.com/  \n",
       "73     BUY TICKETS HERE          https://mora2023.ticketmundo.com/  \n",
       "74     BUY TICKETS HERE          https://mora2023.ticketmundo.com/  \n",
       "75     BUY TICKETS HERE          https://mora2023.ticketmundo.com/  \n",
       "\n",
       "[76 rows x 4 columns]"
      ]
     },
     "metadata": {},
     "output_type": "display_data"
    }
   ],
   "source": [
    "d = {'Date': dcon, 'Location': lcon,'SoldOut': scon,'Links':linkcon}\n",
    "df=pd.DataFrame(d)\n",
    "display(df)"
   ]
  },
  {
   "cell_type": "code",
   "execution_count": 327,
   "id": "b36e06fa",
   "metadata": {},
   "outputs": [],
   "source": [
    "\"\"\"\n",
    "import scrapy\n",
    "\n",
    "\n",
    "class MySpider(scrapy.Spider):\n",
    "    name = \"spider1\"\n",
    "\n",
    "    def start_requests(self):\n",
    "        urls = ['https://www.moratour.com','https://my.weezevent.com/o-son-do-camino-2023']\n",
    "        for url in urls:\n",
    "            yield scrapy.Request(url=url, callback=self.parse)\n",
    "\n",
    "    # Scrap Web Page and Save  Code in File\n",
    "    # ==============================================================================        \n",
    "\n",
    "    def parse(self, response):\n",
    "        page = response.url.split(\"/\")[-2]\n",
    "        filename = f'moratour_copy.html'\n",
    "        #filename = f'spyder-{page}.html'\n",
    "        with open(filename, 'wb') as f:\n",
    "            f.write(response.body)\n",
    "        self.log(f'Saved file {filename}')\"\"\""
   ]
  },
  {
   "cell_type": "code",
   "execution_count": null,
   "id": "681ccb95",
   "metadata": {},
   "outputs": [],
   "source": [
    "!scrapy runspider spidy1.py"
   ]
  },
  {
   "cell_type": "code",
   "execution_count": null,
   "id": "ea142d66",
   "metadata": {},
   "outputs": [],
   "source": []
  }
 ],
 "metadata": {
  "kernelspec": {
   "display_name": "Python 3",
   "language": "python",
   "name": "python3"
  },
  "language_info": {
   "codemirror_mode": {
    "name": "ipython",
    "version": 3
   },
   "file_extension": ".py",
   "mimetype": "text/x-python",
   "name": "python",
   "nbconvert_exporter": "python",
   "pygments_lexer": "ipython3",
   "version": "3.8.8"
  }
 },
 "nbformat": 4,
 "nbformat_minor": 5
}
